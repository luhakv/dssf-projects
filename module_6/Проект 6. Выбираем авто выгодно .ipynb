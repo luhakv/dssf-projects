{
 "cells": [
  {
   "cell_type": "markdown",
   "metadata": {},
   "source": [
    "## Итоговое задание Анны Лубневской  \n",
    "### по Проекту 6. Выбираем авто выгодно \n",
    "###  Юнит 7. Основные алгоритмы машинного обучения. Часть II \n"
   ]
  },
  {
   "cell_type": "markdown",
   "metadata": {},
   "source": [
    "### Описание\n",
    "Представьте, что вы работаете в компании, которая занимается продажей автомобилей с пробегом. Основная задача компании и ее менеджеров - максимально быстро находить выгодные предложения (проще говоря, купить ниже рынка, а продать дороже рынка).\n",
    "\n",
    "Вам поставлена задача создать модель, которая будет предсказывать стоимость автомобиля по его характеристикам.\n",
    "Если наша модель работает хорошо, то мы сможем быстро выявлять выгодные предложения (когда желаемая цена продавца ниже предсказанной рыночной цены). Это значительно ускорит работу менеджеров и повысит прибыль компании.\n",
    "\n",
    "### Данные\n",
    "Компания изначально не собирала данные. Есть только небольшой датасет с историей продаж, которого для обучения модели мало. \n",
    "### Задача\n",
    "\n",
    "Собрать данные для тренировочного набора, обработать эти данные и обучить на этих данных различные модели машинного обучения. По результатам с помощью метрики MAPE (Mean Percentage Absolute Error) выбрать модель, которая будет более точно предсказывать стоимость автомобиля по его характеристикам.\n",
    "\n",
    "### 2. Машинное обучение.\n",
    "\n",
    "В этом ноутбуке опробованы различные алгоритмы машинного обучения и проведено сравнение результатов. Рассмотрены алгоритмы:\n",
    "\n",
    "- RandomForestRegressor \n",
    "- ExtraTreesRegressor \n",
    "- LGBMRegressor \n",
    "- CatBoostRegressor \n",
    "- StackingRegressor  \n",
    "\n",
    "_Внимание:_ требовательно к ресурсам компьютера! Датасет большой, а также виду сжатых  сроков оптимизация не проводилась. Полный прогон ноутбука занимает около 11 часов и требует порядка 30 гБ оперативной памяти."
   ]
  },
  {
   "cell_type": "code",
   "execution_count": 166,
   "metadata": {},
   "outputs": [],
   "source": [
    "# загружаем бибилиотеки\n",
    "import os\n",
    "import time\n",
    "import re\n",
    "import pandas as pd\n",
    "import numpy as np\n",
    "import matplotlib.pyplot as plt\n",
    "import seaborn as sns\n",
    "\n",
    "from sklearn.preprocessing import StandardScaler\n",
    "from sklearn.model_selection import train_test_split, RandomizedSearchCV\n",
    "from sklearn.ensemble import RandomForestRegressor, ExtraTreesRegressor, GradientBoostingRegressor\n",
    "from sklearn.preprocessing import LabelEncoder, OneHotEncoder, OrdinalEncoder\n",
    "\n",
    "from sklearn.ensemble import StackingRegressor\n",
    "from sklearn.preprocessing import MultiLabelBinarizer\n",
    "from sklearn.feature_selection import f_regression, mutual_info_regression\n",
    "\n",
    "from catboost import CatBoostRegressor\n",
    "from xgboost import XGBRegressor\n",
    "from lightgbm import LGBMRegressor\n",
    "from sklearn.linear_model import Ridge\n",
    "\n",
    "from sklearn.model_selection import cross_val_score, KFold,RepeatedKFold, StratifiedKFold\n",
    "from tqdm.notebook import tqdm\n",
    "\n",
    "import warnings \n",
    "warnings.filterwarnings(\"ignore\")\n",
    "\n",
    "pd.set_option('display.max_columns', 500) \n",
    "sns.set(rc={'figure.figsize': (8, 5)}) \n",
    "plt.style.use('seaborn-deep')"
   ]
  },
  {
   "cell_type": "code",
   "execution_count": null,
   "metadata": {},
   "outputs": [],
   "source": [
    "RANDOM_SEED = 42"
   ]
  },
  {
   "cell_type": "markdown",
   "metadata": {},
   "source": [
    "### Функции"
   ]
  },
  {
   "cell_type": "code",
   "execution_count": 2,
   "metadata": {},
   "outputs": [],
   "source": [
    "def mean_absolute_percentage_error(y_true, y_pred): \n",
    "    \"\"\"Вычисляет метрику MAPE - среднюю абсолютную ошибку в процентах\n",
    "\n",
    "    :param:   y_true - реальная стоимость автомобиля\n",
    "              y_pred - предсказанная стоимость автомобиля\n",
    "    :return: значение метрики MAPE\"\"\"\n",
    "    \n",
    "    return np.mean(np.abs(percentage_error(np.asarray(y_true), np.asarray(y_pred))))\n",
    "\n",
    "def percentage_error(actual, predicted):\n",
    "    \"\"\"Вычисляет и выводит \n",
    "    :param:  actual - \n",
    "             predicted - \n",
    "    :return: res - \"\"\"\n",
    "    \n",
    "    res = np.empty(actual.shape)\n",
    "    for j in range(actual.shape[0]):\n",
    "        if actual[j] != 0:\n",
    "            res[j] = (actual[j] - predicted[j]) / actual[j]\n",
    "        else:\n",
    "            res[j] = predicted[j] / np.mean(actual)\n",
    "    return res\n",
    "\n",
    "\n",
    "def cat_plot(col, rotation=90):\n",
    "    \"\"\"Строит бар-плот для категориальных признаков\n",
    "    :param:  col - название колонки\"\"\"\n",
    "    \n",
    "    df = train[col].value_counts()\n",
    "    plt.title(f'Распределение {col}', fontsize=15)\n",
    "    sns.barplot(x=df.index, y=df.values, palette='Blues_r_d')\n",
    "    plt.xticks(rotation=rotation);  \n",
    "    \n",
    "def cat_boxplot(col, rotation=90):\n",
    "    \"\"\"Строит бокс-плот для категориальных признаков\n",
    "    :param:  col - название колонки\"\"\"\n",
    "    \n",
    "    plt.title(f'Распределение цен на авто от значений {col}', fontsize=15)\n",
    "    sns.boxplot(x=col, y='price', data=train, palette='Blues_r_d')\n",
    "    plt.xticks(rotation=rotation);  \n",
    "    \n",
    "def check_values(col):\n",
    "    \"\"\"Проверяет, есть ли принимаемые значения признака одновременно в тренировочном и в тестовом дата сетах\n",
    "     :param:  col - название колонки\"\"\"\n",
    "    \n",
    "    train_col = set(train[col].unique())\n",
    "    test_col = set(test[col].unique())\n",
    "    result = test_col - train_col\n",
    "    if len(result) == 0:\n",
    "        print('Все уникальные значения test присутствуют в train')\n",
    "    else:\n",
    "        print(f'В train.{col} нет значений: {result}')\n",
    "    \n",
    "def equipment_top(cell):\n",
    "    x = 0\n",
    "    for i in equipment_top_lst:\n",
    "        if i in cell:\n",
    "            x += 1\n",
    "    return x\n",
    "\n",
    "def equipment_rare(cell):\n",
    "    x = 0\n",
    "    for i in equipment_rare_lst:\n",
    "        if i in cell:\n",
    "            x += 1\n",
    "    return x\n",
    "\n",
    "def enginePower_rate(power):\n",
    "    \"\"\"Присваивает значение рейта/ тарифа в зависимости от \n",
    "     мощности двигателя :param:  power - значение мощности двигателя\"\"\"\n",
    "    \n",
    "    if power > 250:\n",
    "        return 150\n",
    "    elif power > 225:\n",
    "        return 75\n",
    "    elif power > 200:\n",
    "        return 65\n",
    "    elif power > 175:\n",
    "        return 50\n",
    "    elif power > 150:\n",
    "        return 45\n",
    "    elif power > 125:\n",
    "        return 35\n",
    "    elif power > 100:\n",
    "        return 25\n",
    "    else:\n",
    "        return 12\n",
    "    \n",
    "def stacking_model_predict(d_models, d_X_train, d_y_train, d_X_val):\n",
    "    d_df = pd.DataFrame()\n",
    "    for model_ in tqdm(d_models):\n",
    "        model_.fit(d_X_train, d_y_train)\n",
    "        y_pred = model_.predict(d_X_val)\n",
    "        d_df[str(model_)[:6]] = np.exp(y_pred)                   \n",
    "    return d_df"
   ]
  },
  {
   "cell_type": "markdown",
   "metadata": {},
   "source": [
    "### Первичный просмотр и подготовка данных\n",
    "\n",
    "Для предсказания стоимости автомобилей были иcпользованы данные с сайта авто.ру. Данные получены с помощью парсинга и библиотек Request и Beautiful Soup (подробнее в ноутбуке по парсингу)."
   ]
  },
  {
   "cell_type": "code",
   "execution_count": 3,
   "metadata": {},
   "outputs": [],
   "source": [
    "train = pd.read_csv('big_train_LR.csv')\n",
    "train.drop('Unnamed: 0', axis=1, inplace=True)\n",
    "test = pd.read_csv('test_LR.csv')"
   ]
  },
  {
   "cell_type": "markdown",
   "metadata": {},
   "source": [
    "Проведем предварительную общую оценку данных"
   ]
  },
  {
   "cell_type": "code",
   "execution_count": 4,
   "metadata": {},
   "outputs": [
    {
     "name": "stdout",
     "output_type": "stream",
     "text": [
      "train: (129321, 33)\n",
      "test: (34686, 32)\n"
     ]
    }
   ],
   "source": [
    "print('train:', train.shape)\n",
    "print('test:', test.shape)"
   ]
  },
  {
   "cell_type": "markdown",
   "metadata": {},
   "source": [
    "В тренировочном дата сете 129321 и в тестовом - 34686 записей об автомобилях. Имеется 33 и 32 колонки о характеристиках этих автомобилей, из которых 9 (6) числовых и 24 (26) категориальных. Возможно, придется привести признаки к общему типу данных или изменить его. Тестовый набор имеет на одну колонку меньше, так как не включена колонка о ценах на автомобили."
   ]
  },
  {
   "cell_type": "markdown",
   "metadata": {},
   "source": [
    "### Датасет"
   ]
  },
  {
   "cell_type": "markdown",
   "metadata": {},
   "source": [
    "bodyType - тип кузова  \n",
    "brand - марка автомобиля     \n",
    "car_url - ссылка на автомобиль  \n",
    "color - цвет автомобиля  \n",
    "complectation_dict - комплектация (словарь)  \n",
    "description - описание  \n",
    "engineDisplacement - объем двигателя  \n",
    "enginePower - мощность двигателя  \n",
    "equipment_dict - комплектация(словарь)  \n",
    "fuelType - тип топлива (значения: бензин,дизель, электро, гибрид, газ)  \n",
    "image - фотография/изображение  \n",
    "mileage - пробег (километры)  \n",
    "modelDate - дата модели  \n",
    "model_info - информация о модели  \n",
    "model_name - название модели  \n",
    "name - наименование двигатель и тип трансмиссии  \n",
    "numberOfDoors - количество дверей  \n",
    "parsing_unixtime - дата время парсинга  \n",
    "priceCurrency - валюта для цены  \n",
    "productionDate - дата производства  \n",
    "sell_id - идентификатор продажи  \n",
    "super_gen - дополнительная информация             \n",
    "vehicleConfiguration - конфигурация автомобиля  \n",
    "vehicleTransmission - трансмиссия / коробка передач (значения:механическая, автоматическая, вариатор, роботизированная)  \n",
    "vendor - производитель                \n",
    "Владельцы - количество предыдущих владельцев (значения: 1, 2, 3 и более)  \n",
    "Владение - владение              \n",
    "ПТС - наличие/ отсутствие ПТС  \n",
    "Привод - тип привода (значения: передний, задний,полный)                \n",
    "Руль - расположение руля (значения: левый / правый)  \n",
    "Состояние - состояние автомобиля (значения: требует / не требует ремонта)  \n",
    "Таможня - ратоможен/нерастоможен"
   ]
  },
  {
   "cell_type": "code",
   "execution_count": 5,
   "metadata": {
    "tags": []
   },
   "outputs": [
    {
     "name": "stdout",
     "output_type": "stream",
     "text": [
      "train:\n"
     ]
    },
    {
     "data": {
      "text/html": [
       "<div>\n",
       "<style scoped>\n",
       "    .dataframe tbody tr th:only-of-type {\n",
       "        vertical-align: middle;\n",
       "    }\n",
       "\n",
       "    .dataframe tbody tr th {\n",
       "        vertical-align: top;\n",
       "    }\n",
       "\n",
       "    .dataframe thead th {\n",
       "        text-align: right;\n",
       "    }\n",
       "</style>\n",
       "<table border=\"1\" class=\"dataframe\">\n",
       "  <thead>\n",
       "    <tr style=\"text-align: right;\">\n",
       "      <th></th>\n",
       "      <th>bodyType</th>\n",
       "      <th>brand</th>\n",
       "      <th>car_url</th>\n",
       "      <th>color</th>\n",
       "      <th>complectation_dict</th>\n",
       "      <th>description</th>\n",
       "      <th>engineDisplacement</th>\n",
       "      <th>enginePower</th>\n",
       "      <th>equipment_dict</th>\n",
       "      <th>fuelType</th>\n",
       "      <th>image</th>\n",
       "      <th>mileage</th>\n",
       "      <th>modelDate</th>\n",
       "      <th>model_info</th>\n",
       "      <th>model_name</th>\n",
       "      <th>name</th>\n",
       "      <th>numberOfDoors</th>\n",
       "      <th>priceCurrency</th>\n",
       "      <th>productionDate</th>\n",
       "      <th>sell_id</th>\n",
       "      <th>super_gen</th>\n",
       "      <th>vehicleConfiguration</th>\n",
       "      <th>vehicleTransmission</th>\n",
       "      <th>vendor</th>\n",
       "      <th>Владельцы</th>\n",
       "      <th>Владение</th>\n",
       "      <th>ПТС</th>\n",
       "      <th>Привод</th>\n",
       "      <th>Руль</th>\n",
       "      <th>Состояние</th>\n",
       "      <th>Таможня</th>\n",
       "      <th>price</th>\n",
       "      <th>parsing_unixtime</th>\n",
       "    </tr>\n",
       "  </thead>\n",
       "  <tbody>\n",
       "    <tr>\n",
       "      <th>0</th>\n",
       "      <td>седан</td>\n",
       "      <td>AUDI</td>\n",
       "      <td>https://auto.ru/cars/used/sale/audi/100/108027...</td>\n",
       "      <td>голубой</td>\n",
       "      <td>NaN</td>\n",
       "      <td>Куплена не в кредит. Своевременное обслуживани...</td>\n",
       "      <td>2.3 LTR</td>\n",
       "      <td>133 N12</td>\n",
       "      <td>{'tinted-glass': True, 'abs': True, 'wheel-pow...</td>\n",
       "      <td>бензин</td>\n",
       "      <td>https://autoru.naydex.net/1gek7D451/db78d3X7bE...</td>\n",
       "      <td>410000.0</td>\n",
       "      <td>1990.0</td>\n",
       "      <td>{'code': '100', 'name': '100', 'ru_name': '100...</td>\n",
       "      <td>100</td>\n",
       "      <td>2.3 MT (133 л.с.)</td>\n",
       "      <td>4.0</td>\n",
       "      <td>RUB</td>\n",
       "      <td>1993.0</td>\n",
       "      <td>1.080280e+09</td>\n",
       "      <td>{'id': '7879487', 'displacement': 2309, 'engin...</td>\n",
       "      <td>SEDAN MECHANICAL 2.3</td>\n",
       "      <td>механическая</td>\n",
       "      <td>NaN</td>\n",
       "      <td>3 или более</td>\n",
       "      <td>4 года и 3 месяца</td>\n",
       "      <td>Дубликат</td>\n",
       "      <td>передний</td>\n",
       "      <td>Левый</td>\n",
       "      <td>Не требует ремонта</td>\n",
       "      <td>Растаможен</td>\n",
       "      <td>160000.0</td>\n",
       "      <td>NaN</td>\n",
       "    </tr>\n",
       "    <tr>\n",
       "      <th>1</th>\n",
       "      <td>седан</td>\n",
       "      <td>AUDI</td>\n",
       "      <td>https://auto.ru/cars/used/sale/audi/100/109156...</td>\n",
       "      <td>серебристый</td>\n",
       "      <td>NaN</td>\n",
       "      <td>Авто на  ходу езжу каждый день имеются косяки ...</td>\n",
       "      <td>2.6 LTR</td>\n",
       "      <td>150 N12</td>\n",
       "      <td>{'tinted-glass': True, '16-inch-wheels': True,...</td>\n",
       "      <td>бензин</td>\n",
       "      <td>https://avatars.mds.yandex.net/get-autoru-vos/...</td>\n",
       "      <td>350000.0</td>\n",
       "      <td>1990.0</td>\n",
       "      <td>{'code': '100', 'name': '100', 'ru_name': '100...</td>\n",
       "      <td>100</td>\n",
       "      <td>2.6 AT (150 л.с.)</td>\n",
       "      <td>4.0</td>\n",
       "      <td>RUB</td>\n",
       "      <td>1993.0</td>\n",
       "      <td>1.091567e+09</td>\n",
       "      <td>{'id': '7879494', 'displacement': 2598, 'engin...</td>\n",
       "      <td>SEDAN AUTOMATIC 2.6</td>\n",
       "      <td>автоматическая</td>\n",
       "      <td>NaN</td>\n",
       "      <td>3 или более</td>\n",
       "      <td>NaN</td>\n",
       "      <td>Оригинал</td>\n",
       "      <td>передний</td>\n",
       "      <td>Левый</td>\n",
       "      <td>Не требует ремонта</td>\n",
       "      <td>Растаможен</td>\n",
       "      <td>150000.0</td>\n",
       "      <td>NaN</td>\n",
       "    </tr>\n",
       "    <tr>\n",
       "      <th>2</th>\n",
       "      <td>седан</td>\n",
       "      <td>AUDI</td>\n",
       "      <td>https://auto.ru/cars/used/sale/audi/100/109599...</td>\n",
       "      <td>серый</td>\n",
       "      <td>NaN</td>\n",
       "      <td>Продам Audi 100 c3 90г. Машина не идеальна, ез...</td>\n",
       "      <td>2.3 LTR</td>\n",
       "      <td>136 N12</td>\n",
       "      <td>{}</td>\n",
       "      <td>бензин</td>\n",
       "      <td>https://avatars.mds.yandex.net/get-autoru-vos/...</td>\n",
       "      <td>453000.0</td>\n",
       "      <td>1988.0</td>\n",
       "      <td>{'code': '100', 'name': '100', 'ru_name': '100...</td>\n",
       "      <td>100</td>\n",
       "      <td>2.3 MT (136 л.с.)</td>\n",
       "      <td>4.0</td>\n",
       "      <td>RUB</td>\n",
       "      <td>1990.0</td>\n",
       "      <td>1.095993e+09</td>\n",
       "      <td>{'id': '21188602', 'displacement': 2309, 'engi...</td>\n",
       "      <td>SEDAN MECHANICAL 2.3</td>\n",
       "      <td>механическая</td>\n",
       "      <td>NaN</td>\n",
       "      <td>3 или более</td>\n",
       "      <td>NaN</td>\n",
       "      <td>Оригинал</td>\n",
       "      <td>передний</td>\n",
       "      <td>Левый</td>\n",
       "      <td>Не требует ремонта</td>\n",
       "      <td>Растаможен</td>\n",
       "      <td>70000.0</td>\n",
       "      <td>NaN</td>\n",
       "    </tr>\n",
       "  </tbody>\n",
       "</table>\n",
       "</div>"
      ],
      "text/plain": [
       "  bodyType brand                                            car_url  \\\n",
       "0    седан  AUDI  https://auto.ru/cars/used/sale/audi/100/108027...   \n",
       "1    седан  AUDI  https://auto.ru/cars/used/sale/audi/100/109156...   \n",
       "2    седан  AUDI  https://auto.ru/cars/used/sale/audi/100/109599...   \n",
       "\n",
       "         color  complectation_dict  \\\n",
       "0      голубой                 NaN   \n",
       "1  серебристый                 NaN   \n",
       "2        серый                 NaN   \n",
       "\n",
       "                                         description engineDisplacement  \\\n",
       "0  Куплена не в кредит. Своевременное обслуживани...            2.3 LTR   \n",
       "1  Авто на  ходу езжу каждый день имеются косяки ...            2.6 LTR   \n",
       "2  Продам Audi 100 c3 90г. Машина не идеальна, ез...            2.3 LTR   \n",
       "\n",
       "  enginePower                                     equipment_dict fuelType  \\\n",
       "0     133 N12  {'tinted-glass': True, 'abs': True, 'wheel-pow...   бензин   \n",
       "1     150 N12  {'tinted-glass': True, '16-inch-wheels': True,...   бензин   \n",
       "2     136 N12                                                 {}   бензин   \n",
       "\n",
       "                                               image   mileage  modelDate  \\\n",
       "0  https://autoru.naydex.net/1gek7D451/db78d3X7bE...  410000.0     1990.0   \n",
       "1  https://avatars.mds.yandex.net/get-autoru-vos/...  350000.0     1990.0   \n",
       "2  https://avatars.mds.yandex.net/get-autoru-vos/...  453000.0     1988.0   \n",
       "\n",
       "                                          model_info model_name  \\\n",
       "0  {'code': '100', 'name': '100', 'ru_name': '100...        100   \n",
       "1  {'code': '100', 'name': '100', 'ru_name': '100...        100   \n",
       "2  {'code': '100', 'name': '100', 'ru_name': '100...        100   \n",
       "\n",
       "                name  numberOfDoors priceCurrency  productionDate  \\\n",
       "0  2.3 MT (133 л.с.)            4.0           RUB          1993.0   \n",
       "1  2.6 AT (150 л.с.)            4.0           RUB          1993.0   \n",
       "2  2.3 MT (136 л.с.)            4.0           RUB          1990.0   \n",
       "\n",
       "        sell_id                                          super_gen  \\\n",
       "0  1.080280e+09  {'id': '7879487', 'displacement': 2309, 'engin...   \n",
       "1  1.091567e+09  {'id': '7879494', 'displacement': 2598, 'engin...   \n",
       "2  1.095993e+09  {'id': '21188602', 'displacement': 2309, 'engi...   \n",
       "\n",
       "   vehicleConfiguration vehicleTransmission  vendor    Владельцы  \\\n",
       "0  SEDAN MECHANICAL 2.3        механическая     NaN  3 или более   \n",
       "1   SEDAN AUTOMATIC 2.6      автоматическая     NaN  3 или более   \n",
       "2  SEDAN MECHANICAL 2.3        механическая     NaN  3 или более   \n",
       "\n",
       "            Владение       ПТС    Привод   Руль           Состояние  \\\n",
       "0  4 года и 3 месяца  Дубликат  передний  Левый  Не требует ремонта   \n",
       "1                NaN  Оригинал  передний  Левый  Не требует ремонта   \n",
       "2                NaN  Оригинал  передний  Левый  Не требует ремонта   \n",
       "\n",
       "      Таможня     price  parsing_unixtime  \n",
       "0  Растаможен  160000.0               NaN  \n",
       "1  Растаможен  150000.0               NaN  \n",
       "2  Растаможен   70000.0               NaN  "
      ]
     },
     "metadata": {},
     "output_type": "display_data"
    },
    {
     "name": "stdout",
     "output_type": "stream",
     "text": [
      "\n",
      "test:\n"
     ]
    },
    {
     "data": {
      "text/html": [
       "<div>\n",
       "<style scoped>\n",
       "    .dataframe tbody tr th:only-of-type {\n",
       "        vertical-align: middle;\n",
       "    }\n",
       "\n",
       "    .dataframe tbody tr th {\n",
       "        vertical-align: top;\n",
       "    }\n",
       "\n",
       "    .dataframe thead th {\n",
       "        text-align: right;\n",
       "    }\n",
       "</style>\n",
       "<table border=\"1\" class=\"dataframe\">\n",
       "  <thead>\n",
       "    <tr style=\"text-align: right;\">\n",
       "      <th></th>\n",
       "      <th>bodyType</th>\n",
       "      <th>brand</th>\n",
       "      <th>car_url</th>\n",
       "      <th>color</th>\n",
       "      <th>complectation_dict</th>\n",
       "      <th>description</th>\n",
       "      <th>engineDisplacement</th>\n",
       "      <th>enginePower</th>\n",
       "      <th>equipment_dict</th>\n",
       "      <th>fuelType</th>\n",
       "      <th>image</th>\n",
       "      <th>mileage</th>\n",
       "      <th>modelDate</th>\n",
       "      <th>model_info</th>\n",
       "      <th>model_name</th>\n",
       "      <th>name</th>\n",
       "      <th>numberOfDoors</th>\n",
       "      <th>parsing_unixtime</th>\n",
       "      <th>priceCurrency</th>\n",
       "      <th>productionDate</th>\n",
       "      <th>sell_id</th>\n",
       "      <th>super_gen</th>\n",
       "      <th>vehicleConfiguration</th>\n",
       "      <th>vehicleTransmission</th>\n",
       "      <th>vendor</th>\n",
       "      <th>Владельцы</th>\n",
       "      <th>Владение</th>\n",
       "      <th>ПТС</th>\n",
       "      <th>Привод</th>\n",
       "      <th>Руль</th>\n",
       "      <th>Состояние</th>\n",
       "      <th>Таможня</th>\n",
       "    </tr>\n",
       "  </thead>\n",
       "  <tbody>\n",
       "    <tr>\n",
       "      <th>0</th>\n",
       "      <td>лифтбек</td>\n",
       "      <td>SKODA</td>\n",
       "      <td>https://auto.ru/cars/used/sale/skoda/octavia/1...</td>\n",
       "      <td>синий</td>\n",
       "      <td>NaN</td>\n",
       "      <td>Все автомобили, представленные в продаже, прох...</td>\n",
       "      <td>1.2 LTR</td>\n",
       "      <td>105 N12</td>\n",
       "      <td>{\"engine-proof\":true,\"tinted-glass\":true,\"airb...</td>\n",
       "      <td>бензин</td>\n",
       "      <td>https://autoru.naydex.net/o9DBXQ270/5ac010hAY0...</td>\n",
       "      <td>74000</td>\n",
       "      <td>2013</td>\n",
       "      <td>{\"code\":\"OCTAVIA\",\"name\":\"Octavia\",\"ru_name\":\"...</td>\n",
       "      <td>OCTAVIA</td>\n",
       "      <td>1.2 AMT (105 л.с.)</td>\n",
       "      <td>5</td>\n",
       "      <td>1603226273</td>\n",
       "      <td>RUB</td>\n",
       "      <td>2014</td>\n",
       "      <td>1100575026</td>\n",
       "      <td>{\"id\":\"10373605\",\"displacement\":1197,\"engine_t...</td>\n",
       "      <td>LIFTBACK ROBOT 1.2</td>\n",
       "      <td>роботизированная</td>\n",
       "      <td>EUROPEAN</td>\n",
       "      <td>3 или более</td>\n",
       "      <td>NaN</td>\n",
       "      <td>Оригинал</td>\n",
       "      <td>передний</td>\n",
       "      <td>Левый</td>\n",
       "      <td>Не требует ремонта</td>\n",
       "      <td>Растаможен</td>\n",
       "    </tr>\n",
       "    <tr>\n",
       "      <th>1</th>\n",
       "      <td>лифтбек</td>\n",
       "      <td>SKODA</td>\n",
       "      <td>https://auto.ru/cars/used/sale/skoda/octavia/1...</td>\n",
       "      <td>чёрный</td>\n",
       "      <td>NaN</td>\n",
       "      <td>ЛОТ: 01217195\\nАвтопрага Север\\nДанный автомоб...</td>\n",
       "      <td>1.6 LTR</td>\n",
       "      <td>110 N12</td>\n",
       "      <td>{\"cruise-control\":true,\"asr\":true,\"esp\":true,\"...</td>\n",
       "      <td>бензин</td>\n",
       "      <td>https://autoru.naydex.net/o9DBXQ270/5ac010hAY0...</td>\n",
       "      <td>60563</td>\n",
       "      <td>2017</td>\n",
       "      <td>{\"code\":\"OCTAVIA\",\"name\":\"Octavia\",\"ru_name\":\"...</td>\n",
       "      <td>OCTAVIA</td>\n",
       "      <td>1.6 MT (110 л.с.)</td>\n",
       "      <td>5</td>\n",
       "      <td>1603226277</td>\n",
       "      <td>RUB</td>\n",
       "      <td>2017</td>\n",
       "      <td>1100549428</td>\n",
       "      <td>{\"id\":\"20913311\",\"displacement\":1598,\"engine_t...</td>\n",
       "      <td>LIFTBACK MECHANICAL 1.6</td>\n",
       "      <td>механическая</td>\n",
       "      <td>EUROPEAN</td>\n",
       "      <td>1 владелец</td>\n",
       "      <td>NaN</td>\n",
       "      <td>Оригинал</td>\n",
       "      <td>передний</td>\n",
       "      <td>Левый</td>\n",
       "      <td>Не требует ремонта</td>\n",
       "      <td>Растаможен</td>\n",
       "    </tr>\n",
       "    <tr>\n",
       "      <th>2</th>\n",
       "      <td>лифтбек</td>\n",
       "      <td>SKODA</td>\n",
       "      <td>https://auto.ru/cars/used/sale/skoda/superb/11...</td>\n",
       "      <td>серый</td>\n",
       "      <td>{\"id\":\"20026336\",\"name\":\"Ambition\",\"available_...</td>\n",
       "      <td>Все автомобили, представленные в продаже, прох...</td>\n",
       "      <td>1.8 LTR</td>\n",
       "      <td>152 N12</td>\n",
       "      <td>{\"cruise-control\":true,\"tinted-glass\":true,\"es...</td>\n",
       "      <td>бензин</td>\n",
       "      <td>https://avatars.mds.yandex.net/get-autoru-vos/...</td>\n",
       "      <td>88000</td>\n",
       "      <td>2013</td>\n",
       "      <td>{\"code\":\"SUPERB\",\"name\":\"Superb\",\"ru_name\":\"Су...</td>\n",
       "      <td>SUPERB</td>\n",
       "      <td>DSG 1.8 AMT (152 л.с.)</td>\n",
       "      <td>5</td>\n",
       "      <td>1603226280</td>\n",
       "      <td>RUB</td>\n",
       "      <td>2014</td>\n",
       "      <td>1100658222</td>\n",
       "      <td>{\"id\":\"20026323\",\"nameplate\":\"DSG\",\"displaceme...</td>\n",
       "      <td>LIFTBACK ROBOT 1.8</td>\n",
       "      <td>роботизированная</td>\n",
       "      <td>EUROPEAN</td>\n",
       "      <td>1 владелец</td>\n",
       "      <td>NaN</td>\n",
       "      <td>Оригинал</td>\n",
       "      <td>передний</td>\n",
       "      <td>Левый</td>\n",
       "      <td>Не требует ремонта</td>\n",
       "      <td>Растаможен</td>\n",
       "    </tr>\n",
       "  </tbody>\n",
       "</table>\n",
       "</div>"
      ],
      "text/plain": [
       "  bodyType  brand                                            car_url   color  \\\n",
       "0  лифтбек  SKODA  https://auto.ru/cars/used/sale/skoda/octavia/1...   синий   \n",
       "1  лифтбек  SKODA  https://auto.ru/cars/used/sale/skoda/octavia/1...  чёрный   \n",
       "2  лифтбек  SKODA  https://auto.ru/cars/used/sale/skoda/superb/11...   серый   \n",
       "\n",
       "                                  complectation_dict  \\\n",
       "0                                                NaN   \n",
       "1                                                NaN   \n",
       "2  {\"id\":\"20026336\",\"name\":\"Ambition\",\"available_...   \n",
       "\n",
       "                                         description engineDisplacement  \\\n",
       "0  Все автомобили, представленные в продаже, прох...            1.2 LTR   \n",
       "1  ЛОТ: 01217195\\nАвтопрага Север\\nДанный автомоб...            1.6 LTR   \n",
       "2  Все автомобили, представленные в продаже, прох...            1.8 LTR   \n",
       "\n",
       "  enginePower                                     equipment_dict fuelType  \\\n",
       "0     105 N12  {\"engine-proof\":true,\"tinted-glass\":true,\"airb...   бензин   \n",
       "1     110 N12  {\"cruise-control\":true,\"asr\":true,\"esp\":true,\"...   бензин   \n",
       "2     152 N12  {\"cruise-control\":true,\"tinted-glass\":true,\"es...   бензин   \n",
       "\n",
       "                                               image  mileage  modelDate  \\\n",
       "0  https://autoru.naydex.net/o9DBXQ270/5ac010hAY0...    74000       2013   \n",
       "1  https://autoru.naydex.net/o9DBXQ270/5ac010hAY0...    60563       2017   \n",
       "2  https://avatars.mds.yandex.net/get-autoru-vos/...    88000       2013   \n",
       "\n",
       "                                          model_info model_name  \\\n",
       "0  {\"code\":\"OCTAVIA\",\"name\":\"Octavia\",\"ru_name\":\"...    OCTAVIA   \n",
       "1  {\"code\":\"OCTAVIA\",\"name\":\"Octavia\",\"ru_name\":\"...    OCTAVIA   \n",
       "2  {\"code\":\"SUPERB\",\"name\":\"Superb\",\"ru_name\":\"Су...     SUPERB   \n",
       "\n",
       "                     name  numberOfDoors  parsing_unixtime priceCurrency  \\\n",
       "0      1.2 AMT (105 л.с.)              5        1603226273           RUB   \n",
       "1       1.6 MT (110 л.с.)              5        1603226277           RUB   \n",
       "2  DSG 1.8 AMT (152 л.с.)              5        1603226280           RUB   \n",
       "\n",
       "   productionDate     sell_id  \\\n",
       "0            2014  1100575026   \n",
       "1            2017  1100549428   \n",
       "2            2014  1100658222   \n",
       "\n",
       "                                           super_gen     vehicleConfiguration  \\\n",
       "0  {\"id\":\"10373605\",\"displacement\":1197,\"engine_t...       LIFTBACK ROBOT 1.2   \n",
       "1  {\"id\":\"20913311\",\"displacement\":1598,\"engine_t...  LIFTBACK MECHANICAL 1.6   \n",
       "2  {\"id\":\"20026323\",\"nameplate\":\"DSG\",\"displaceme...       LIFTBACK ROBOT 1.8   \n",
       "\n",
       "  vehicleTransmission    vendor    Владельцы Владение       ПТС    Привод  \\\n",
       "0    роботизированная  EUROPEAN  3 или более      NaN  Оригинал  передний   \n",
       "1        механическая  EUROPEAN   1 владелец      NaN  Оригинал  передний   \n",
       "2    роботизированная  EUROPEAN   1 владелец      NaN  Оригинал  передний   \n",
       "\n",
       "    Руль           Состояние     Таможня  \n",
       "0  Левый  Не требует ремонта  Растаможен  \n",
       "1  Левый  Не требует ремонта  Растаможен  \n",
       "2  Левый  Не требует ремонта  Растаможен  "
      ]
     },
     "metadata": {},
     "output_type": "display_data"
    }
   ],
   "source": [
    "print('train:')\n",
    "display(train.head(3))\n",
    "print()\n",
    "print('test:')\n",
    "display(test.head(3))"
   ]
  },
  {
   "cell_type": "code",
   "execution_count": 6,
   "metadata": {},
   "outputs": [
    {
     "data": {
      "text/plain": [
       "0"
      ]
     },
     "execution_count": 6,
     "metadata": {},
     "output_type": "execute_result"
    }
   ],
   "source": [
    "# удаляем дубликаты\n",
    "train = train.drop_duplicates()\n",
    "train.duplicated().sum()"
   ]
  },
  {
   "cell_type": "code",
   "execution_count": 7,
   "metadata": {
    "scrolled": false
   },
   "outputs": [
    {
     "data": {
      "text/plain": [
       "(126416, 33)"
      ]
     },
     "execution_count": 7,
     "metadata": {},
     "output_type": "execute_result"
    }
   ],
   "source": [
    "# проверяем количество строк после удаления \n",
    "train.shape"
   ]
  },
  {
   "cell_type": "code",
   "execution_count": 8,
   "metadata": {},
   "outputs": [
    {
     "data": {
      "text/plain": [
       "(34686, 32)"
      ]
     },
     "execution_count": 8,
     "metadata": {},
     "output_type": "execute_result"
    }
   ],
   "source": [
    "test.shape"
   ]
  },
  {
   "cell_type": "code",
   "execution_count": 9,
   "metadata": {},
   "outputs": [],
   "source": [
    "# добавляем колонку с длиной описания\n",
    "train['len_description'] = train.description.apply(lambda x: len(str(x)))\n",
    "test['len_description'] = test.description.apply(lambda x: len(str(x)))"
   ]
  },
  {
   "cell_type": "markdown",
   "metadata": {},
   "source": [
    "Рассмотрим общие статитстические показатели по данным в обоих датасетах"
   ]
  },
  {
   "cell_type": "code",
   "execution_count": 10,
   "metadata": {},
   "outputs": [
    {
     "data": {
      "text/html": [
       "<div>\n",
       "<style scoped>\n",
       "    .dataframe tbody tr th:only-of-type {\n",
       "        vertical-align: middle;\n",
       "    }\n",
       "\n",
       "    .dataframe tbody tr th {\n",
       "        vertical-align: top;\n",
       "    }\n",
       "\n",
       "    .dataframe thead th {\n",
       "        text-align: right;\n",
       "    }\n",
       "</style>\n",
       "<table border=\"1\" class=\"dataframe\">\n",
       "  <thead>\n",
       "    <tr style=\"text-align: right;\">\n",
       "      <th></th>\n",
       "      <th>complectation_dict</th>\n",
       "      <th>mileage</th>\n",
       "      <th>modelDate</th>\n",
       "      <th>numberOfDoors</th>\n",
       "      <th>productionDate</th>\n",
       "      <th>sell_id</th>\n",
       "      <th>vendor</th>\n",
       "      <th>price</th>\n",
       "      <th>parsing_unixtime</th>\n",
       "      <th>len_description</th>\n",
       "    </tr>\n",
       "  </thead>\n",
       "  <tbody>\n",
       "    <tr>\n",
       "      <th>count</th>\n",
       "      <td>0.0</td>\n",
       "      <td>126348.000000</td>\n",
       "      <td>126347.000000</td>\n",
       "      <td>126347.000000</td>\n",
       "      <td>126348.000000</td>\n",
       "      <td>1.263480e+05</td>\n",
       "      <td>0.0</td>\n",
       "      <td>1.187700e+05</td>\n",
       "      <td>1.167440e+05</td>\n",
       "      <td>126416.000000</td>\n",
       "    </tr>\n",
       "    <tr>\n",
       "      <th>mean</th>\n",
       "      <td>NaN</td>\n",
       "      <td>169931.329724</td>\n",
       "      <td>2006.691350</td>\n",
       "      <td>4.470221</td>\n",
       "      <td>2008.824034</td>\n",
       "      <td>1.100960e+09</td>\n",
       "      <td>NaN</td>\n",
       "      <td>1.259948e+06</td>\n",
       "      <td>1.618694e+09</td>\n",
       "      <td>725.735049</td>\n",
       "    </tr>\n",
       "    <tr>\n",
       "      <th>std</th>\n",
       "      <td>NaN</td>\n",
       "      <td>107016.531932</td>\n",
       "      <td>8.136167</td>\n",
       "      <td>0.674591</td>\n",
       "      <td>7.816050</td>\n",
       "      <td>1.343370e+07</td>\n",
       "      <td>NaN</td>\n",
       "      <td>1.478903e+06</td>\n",
       "      <td>2.630685e+04</td>\n",
       "      <td>822.389250</td>\n",
       "    </tr>\n",
       "    <tr>\n",
       "      <th>min</th>\n",
       "      <td>NaN</td>\n",
       "      <td>1.000000</td>\n",
       "      <td>1934.000000</td>\n",
       "      <td>2.000000</td>\n",
       "      <td>1934.000000</td>\n",
       "      <td>2.665000e+03</td>\n",
       "      <td>NaN</td>\n",
       "      <td>2.000000e+04</td>\n",
       "      <td>1.618656e+09</td>\n",
       "      <td>1.000000</td>\n",
       "    </tr>\n",
       "    <tr>\n",
       "      <th>25%</th>\n",
       "      <td>NaN</td>\n",
       "      <td>90948.000000</td>\n",
       "      <td>2002.000000</td>\n",
       "      <td>4.000000</td>\n",
       "      <td>2004.000000</td>\n",
       "      <td>1.101807e+09</td>\n",
       "      <td>NaN</td>\n",
       "      <td>4.100000e+05</td>\n",
       "      <td>1.618684e+09</td>\n",
       "      <td>176.000000</td>\n",
       "    </tr>\n",
       "    <tr>\n",
       "      <th>50%</th>\n",
       "      <td>NaN</td>\n",
       "      <td>155818.000000</td>\n",
       "      <td>2008.000000</td>\n",
       "      <td>5.000000</td>\n",
       "      <td>2011.000000</td>\n",
       "      <td>1.102770e+09</td>\n",
       "      <td>NaN</td>\n",
       "      <td>8.000000e+05</td>\n",
       "      <td>1.618695e+09</td>\n",
       "      <td>419.000000</td>\n",
       "    </tr>\n",
       "    <tr>\n",
       "      <th>75%</th>\n",
       "      <td>NaN</td>\n",
       "      <td>231344.000000</td>\n",
       "      <td>2013.000000</td>\n",
       "      <td>5.000000</td>\n",
       "      <td>2015.000000</td>\n",
       "      <td>1.103060e+09</td>\n",
       "      <td>NaN</td>\n",
       "      <td>1.580000e+06</td>\n",
       "      <td>1.618703e+09</td>\n",
       "      <td>1005.000000</td>\n",
       "    </tr>\n",
       "    <tr>\n",
       "      <th>max</th>\n",
       "      <td>NaN</td>\n",
       "      <td>1000000.000000</td>\n",
       "      <td>2020.000000</td>\n",
       "      <td>5.000000</td>\n",
       "      <td>2021.000000</td>\n",
       "      <td>1.103342e+09</td>\n",
       "      <td>NaN</td>\n",
       "      <td>4.000000e+07</td>\n",
       "      <td>1.618834e+09</td>\n",
       "      <td>29427.000000</td>\n",
       "    </tr>\n",
       "  </tbody>\n",
       "</table>\n",
       "</div>"
      ],
      "text/plain": [
       "       complectation_dict         mileage      modelDate  numberOfDoors  \\\n",
       "count                 0.0   126348.000000  126347.000000  126347.000000   \n",
       "mean                  NaN   169931.329724    2006.691350       4.470221   \n",
       "std                   NaN   107016.531932       8.136167       0.674591   \n",
       "min                   NaN        1.000000    1934.000000       2.000000   \n",
       "25%                   NaN    90948.000000    2002.000000       4.000000   \n",
       "50%                   NaN   155818.000000    2008.000000       5.000000   \n",
       "75%                   NaN   231344.000000    2013.000000       5.000000   \n",
       "max                   NaN  1000000.000000    2020.000000       5.000000   \n",
       "\n",
       "       productionDate       sell_id  vendor         price  parsing_unixtime  \\\n",
       "count   126348.000000  1.263480e+05     0.0  1.187700e+05      1.167440e+05   \n",
       "mean      2008.824034  1.100960e+09     NaN  1.259948e+06      1.618694e+09   \n",
       "std          7.816050  1.343370e+07     NaN  1.478903e+06      2.630685e+04   \n",
       "min       1934.000000  2.665000e+03     NaN  2.000000e+04      1.618656e+09   \n",
       "25%       2004.000000  1.101807e+09     NaN  4.100000e+05      1.618684e+09   \n",
       "50%       2011.000000  1.102770e+09     NaN  8.000000e+05      1.618695e+09   \n",
       "75%       2015.000000  1.103060e+09     NaN  1.580000e+06      1.618703e+09   \n",
       "max       2021.000000  1.103342e+09     NaN  4.000000e+07      1.618834e+09   \n",
       "\n",
       "       len_description  \n",
       "count    126416.000000  \n",
       "mean        725.735049  \n",
       "std         822.389250  \n",
       "min           1.000000  \n",
       "25%         176.000000  \n",
       "50%         419.000000  \n",
       "75%        1005.000000  \n",
       "max       29427.000000  "
      ]
     },
     "execution_count": 10,
     "metadata": {},
     "output_type": "execute_result"
    }
   ],
   "source": [
    "train.describe()"
   ]
  },
  {
   "cell_type": "code",
   "execution_count": 11,
   "metadata": {},
   "outputs": [
    {
     "data": {
      "text/html": [
       "<div>\n",
       "<style scoped>\n",
       "    .dataframe tbody tr th:only-of-type {\n",
       "        vertical-align: middle;\n",
       "    }\n",
       "\n",
       "    .dataframe tbody tr th {\n",
       "        vertical-align: top;\n",
       "    }\n",
       "\n",
       "    .dataframe thead th {\n",
       "        text-align: right;\n",
       "    }\n",
       "</style>\n",
       "<table border=\"1\" class=\"dataframe\">\n",
       "  <thead>\n",
       "    <tr style=\"text-align: right;\">\n",
       "      <th></th>\n",
       "      <th>mileage</th>\n",
       "      <th>modelDate</th>\n",
       "      <th>numberOfDoors</th>\n",
       "      <th>parsing_unixtime</th>\n",
       "      <th>productionDate</th>\n",
       "      <th>sell_id</th>\n",
       "      <th>len_description</th>\n",
       "    </tr>\n",
       "  </thead>\n",
       "  <tbody>\n",
       "    <tr>\n",
       "      <th>count</th>\n",
       "      <td>34686.000000</td>\n",
       "      <td>34686.000000</td>\n",
       "      <td>34686.000000</td>\n",
       "      <td>3.468600e+04</td>\n",
       "      <td>34686.000000</td>\n",
       "      <td>3.468600e+04</td>\n",
       "      <td>34686.000000</td>\n",
       "    </tr>\n",
       "    <tr>\n",
       "      <th>mean</th>\n",
       "      <td>162009.767889</td>\n",
       "      <td>2007.074728</td>\n",
       "      <td>4.450816</td>\n",
       "      <td>1.603287e+09</td>\n",
       "      <td>2009.264602</td>\n",
       "      <td>1.098300e+09</td>\n",
       "      <td>642.407340</td>\n",
       "    </tr>\n",
       "    <tr>\n",
       "      <th>std</th>\n",
       "      <td>100676.559489</td>\n",
       "      <td>7.415894</td>\n",
       "      <td>0.703040</td>\n",
       "      <td>1.493071e+05</td>\n",
       "      <td>7.047661</td>\n",
       "      <td>1.911225e+07</td>\n",
       "      <td>778.750118</td>\n",
       "    </tr>\n",
       "    <tr>\n",
       "      <th>min</th>\n",
       "      <td>1.000000</td>\n",
       "      <td>1904.000000</td>\n",
       "      <td>0.000000</td>\n",
       "      <td>1.603107e+09</td>\n",
       "      <td>1904.000000</td>\n",
       "      <td>2.665000e+03</td>\n",
       "      <td>1.000000</td>\n",
       "    </tr>\n",
       "    <tr>\n",
       "      <th>25%</th>\n",
       "      <td>91153.500000</td>\n",
       "      <td>2004.000000</td>\n",
       "      <td>4.000000</td>\n",
       "      <td>1.603221e+09</td>\n",
       "      <td>2006.000000</td>\n",
       "      <td>1.099049e+09</td>\n",
       "      <td>167.000000</td>\n",
       "    </tr>\n",
       "    <tr>\n",
       "      <th>50%</th>\n",
       "      <td>149779.500000</td>\n",
       "      <td>2008.000000</td>\n",
       "      <td>5.000000</td>\n",
       "      <td>1.603254e+09</td>\n",
       "      <td>2011.000000</td>\n",
       "      <td>1.100911e+09</td>\n",
       "      <td>371.000000</td>\n",
       "    </tr>\n",
       "    <tr>\n",
       "      <th>75%</th>\n",
       "      <td>215000.000000</td>\n",
       "      <td>2012.000000</td>\n",
       "      <td>5.000000</td>\n",
       "      <td>1.603290e+09</td>\n",
       "      <td>2014.000000</td>\n",
       "      <td>1.101245e+09</td>\n",
       "      <td>869.000000</td>\n",
       "    </tr>\n",
       "    <tr>\n",
       "      <th>max</th>\n",
       "      <td>1000000.000000</td>\n",
       "      <td>2020.000000</td>\n",
       "      <td>5.000000</td>\n",
       "      <td>1.603710e+09</td>\n",
       "      <td>2020.000000</td>\n",
       "      <td>1.101375e+09</td>\n",
       "      <td>28789.000000</td>\n",
       "    </tr>\n",
       "  </tbody>\n",
       "</table>\n",
       "</div>"
      ],
      "text/plain": [
       "              mileage     modelDate  numberOfDoors  parsing_unixtime  \\\n",
       "count    34686.000000  34686.000000   34686.000000      3.468600e+04   \n",
       "mean    162009.767889   2007.074728       4.450816      1.603287e+09   \n",
       "std     100676.559489      7.415894       0.703040      1.493071e+05   \n",
       "min          1.000000   1904.000000       0.000000      1.603107e+09   \n",
       "25%      91153.500000   2004.000000       4.000000      1.603221e+09   \n",
       "50%     149779.500000   2008.000000       5.000000      1.603254e+09   \n",
       "75%     215000.000000   2012.000000       5.000000      1.603290e+09   \n",
       "max    1000000.000000   2020.000000       5.000000      1.603710e+09   \n",
       "\n",
       "       productionDate       sell_id  len_description  \n",
       "count    34686.000000  3.468600e+04     34686.000000  \n",
       "mean      2009.264602  1.098300e+09       642.407340  \n",
       "std          7.047661  1.911225e+07       778.750118  \n",
       "min       1904.000000  2.665000e+03         1.000000  \n",
       "25%       2006.000000  1.099049e+09       167.000000  \n",
       "50%       2011.000000  1.100911e+09       371.000000  \n",
       "75%       2014.000000  1.101245e+09       869.000000  \n",
       "max       2020.000000  1.101375e+09     28789.000000  "
      ]
     },
     "execution_count": 11,
     "metadata": {},
     "output_type": "execute_result"
    }
   ],
   "source": [
    "test.describe()"
   ]
  },
  {
   "cell_type": "markdown",
   "metadata": {},
   "source": [
    "### Целевая переменная и удаление ненужных признаков"
   ]
  },
  {
   "cell_type": "code",
   "execution_count": 12,
   "metadata": {},
   "outputs": [],
   "source": [
    "# создаем список колонок на удаление\n",
    "col_drop = ['car_url', 'complectation_dict', 'description', 'image', 'model_info',\n",
    "            'name', 'parsing_unixtime', 'priceCurrency', 'sell_id', 'vehicleConfiguration']"
   ]
  },
  {
   "cell_type": "code",
   "execution_count": 13,
   "metadata": {},
   "outputs": [],
   "source": [
    "# удаляем ненужные колонки\n",
    "train.drop(col_drop, axis=1, inplace=True)\n",
    "test.drop(col_drop, axis=1, inplace=True)"
   ]
  },
  {
   "cell_type": "markdown",
   "metadata": {},
   "source": [
    "Посмотрим на распределение целевой переменной"
   ]
  },
  {
   "cell_type": "code",
   "execution_count": 14,
   "metadata": {},
   "outputs": [],
   "source": [
    "train.dropna(subset=['price'], inplace=True)"
   ]
  },
  {
   "cell_type": "markdown",
   "metadata": {},
   "source": [
    "Логорифмируем таргет"
   ]
  },
  {
   "cell_type": "code",
   "execution_count": 15,
   "metadata": {},
   "outputs": [],
   "source": [
    "train.price = np.log(train.price)"
   ]
  },
  {
   "cell_type": "markdown",
   "metadata": {},
   "source": [
    "### Работа с пропусками"
   ]
  },
  {
   "cell_type": "code",
   "execution_count": 17,
   "metadata": {},
   "outputs": [
    {
     "name": "stdout",
     "output_type": "stream",
     "text": [
      "train:\n"
     ]
    },
    {
     "data": {
      "text/plain": [
       "bodyType                    1\n",
       "fuelType                    1\n",
       "modelDate                   1\n",
       "numberOfDoors               1\n",
       "super_gen                   1\n",
       "vehicleTransmission         1\n",
       "vendor                 118770\n",
       "Владельцы                   5\n",
       "Владение                84392\n",
       "ПТС                         6\n",
       "Привод                      1\n",
       "dtype: int64"
      ]
     },
     "metadata": {},
     "output_type": "display_data"
    },
    {
     "name": "stdout",
     "output_type": "stream",
     "text": [
      "\n",
      "test:\n"
     ]
    },
    {
     "data": {
      "text/plain": [
       "equipment_dict     9996\n",
       "Владение          22691\n",
       "ПТС                   1\n",
       "dtype: int64"
      ]
     },
     "metadata": {},
     "output_type": "display_data"
    }
   ],
   "source": [
    "# проверим количество пропусков\n",
    "print('train:')\n",
    "display(train.isna().sum()[train.isna().sum() > 0])\n",
    "print()\n",
    "print('test:')\n",
    "display(test.isna().sum()[test.isna().sum() > 0])"
   ]
  },
  {
   "cell_type": "markdown",
   "metadata": {},
   "source": [
    "Очень много пропусков в колонке Владение и есть пропуски в колонке цена. Остальные пропуски столь незначительны, что практически не различимы на диаграмме, в дальнейшем предполагается удалить или заполнить строки с пропусками.\n"
   ]
  },
  {
   "cell_type": "code",
   "execution_count": 20,
   "metadata": {},
   "outputs": [],
   "source": [
    "# удаляем неинформативные колонки\n",
    "train.dropna(subset=['ПТС', 'bodyType', 'Владельцы'], inplace=True)"
   ]
  },
  {
   "cell_type": "code",
   "execution_count": 21,
   "metadata": {},
   "outputs": [],
   "source": [
    "# создаем списки по европейским и японским производителям и заполняем колонку Vendor\n",
    "european = ['SKODA', 'AUDI', 'VOLVO', 'BMW', 'MERCEDES', 'VOLKSWAGEN']\n",
    "japanese = ['HONDA', 'NISSAN', 'INFINITI', 'TOYOTA', 'LEXUS', 'MITSUBISHI']\n",
    "\n",
    "train.loc[train.brand.isin(european), 'vendor'] = 'EUROPEAN'\n",
    "train.loc[train.brand.isin(japanese), 'vendor'] = 'JAPANESE'"
   ]
  },
  {
   "cell_type": "code",
   "execution_count": 22,
   "metadata": {},
   "outputs": [],
   "source": [
    "# Пропуски в колонке ПТС заменяем модой\n",
    "test['ПТС'].fillna(train.ПТС.mode()[0], inplace=True)\n",
    "test.equipment_dict.fillna('{}', inplace=True)"
   ]
  },
  {
   "cell_type": "code",
   "execution_count": 23,
   "metadata": {},
   "outputs": [
    {
     "name": "stdout",
     "output_type": "stream",
     "text": [
      "train:\n"
     ]
    },
    {
     "data": {
      "text/plain": [
       "Владение    84381\n",
       "dtype: int64"
      ]
     },
     "metadata": {},
     "output_type": "display_data"
    },
    {
     "name": "stdout",
     "output_type": "stream",
     "text": [
      "\n",
      "test:\n"
     ]
    },
    {
     "data": {
      "text/plain": [
       "Владение    22691\n",
       "dtype: int64"
      ]
     },
     "metadata": {},
     "output_type": "display_data"
    }
   ],
   "source": [
    "# проверяем нулевые значения еще раз\n",
    "print('train:')\n",
    "display(train.isna().sum()[train.isna().sum() > 0])\n",
    "print()\n",
    "print('test:')\n",
    "display(test.isna().sum()[test.isna().sum() > 0])"
   ]
  },
  {
   "cell_type": "markdown",
   "metadata": {},
   "source": [
    "Сгруппируем признаки в  категории по типу их обработки (категориальные, числовые, признаки состоящие из словарей) для дальнейшего удобного анализа. "
   ]
  },
  {
   "cell_type": "code",
   "execution_count": 24,
   "metadata": {},
   "outputs": [],
   "source": [
    "num_cols = ['mileage', 'modelDate', 'numberOfDoors', 'productionDate']\n",
    "cat_cols = ['bodyType', 'brand', 'color', 'engineDisplacement', 'enginePower',\n",
    "            'fuelType', 'model_name', 'vehicleConfiguration', 'vehicleTransmission', \n",
    "            'vendor', 'Владельцы', 'Владение', 'ПТС', 'Привод', 'Руль', 'Состояние', 'Таможня']\n",
    "dict_col = ['equipment_dict', 'super_gen']"
   ]
  },
  {
   "cell_type": "code",
   "execution_count": 25,
   "metadata": {},
   "outputs": [],
   "source": [
    "train.reset_index(drop=True, inplace=True)"
   ]
  },
  {
   "cell_type": "code",
   "execution_count": 26,
   "metadata": {},
   "outputs": [],
   "source": [
    "# приводим числовые колонки к одному типу\n",
    "train[num_cols] = train[num_cols].astype('int64')\n",
    "test[num_cols] = test[num_cols].astype('int64')"
   ]
  },
  {
   "cell_type": "markdown",
   "metadata": {},
   "source": [
    "### Числовые признаки"
   ]
  },
  {
   "cell_type": "code",
   "execution_count": 27,
   "metadata": {},
   "outputs": [
    {
     "data": {
      "image/png": "[encoded data removed]",
      "text/plain": [
       "<Figure size 1728x720 with 4 Axes>"
      ]
     },
     "metadata": {},
     "output_type": "display_data"
    }
   ],
   "source": [
    "plt.figure(figsize=(24,10))\n",
    "for i, col in enumerate(num_cols):\n",
    "    plt.subplot(2,2, i+1)\n",
    "    plt.title(col, fontsize=15)\n",
    "    sns.kdeplot(x=col, data=train, shade=True)\n",
    "    plt.xlabel(None)  "
   ]
  },
  {
   "cell_type": "markdown",
   "metadata": {},
   "source": [
    "На основе этих графиков можно сделать вывод, что пробег состявляет у большигства машин и для некоторых машин в пределе до . По второму графику слава основные категории состявляют 4-5 дверные машины, имеется небольшой процент 2-х и 3-х дверных машин. Графики для modelDate и productionDate в целом очень похожи. Представленные машины были произведены в период с 1980 по 2020 годы (также имеются и более ранние машины, но их очень мало). Основную массу составляют машины примерно, начиная с 2010 года."
   ]
  },
  {
   "cell_type": "markdown",
   "metadata": {},
   "source": [
    "### Категориальные признаки"
   ]
  },
  {
   "cell_type": "markdown",
   "metadata": {},
   "source": [
    "### bodyType"
   ]
  },
  {
   "cell_type": "code",
   "execution_count": 28,
   "metadata": {},
   "outputs": [],
   "source": [
    "# смотрим на распределение по типу кузова\n",
    "train.bodyType = train.bodyType.str.findall(r'^\\S+').str[0]\n",
    "test.bodyType = test.bodyType.str.findall(r'^\\S+').str[0]"
   ]
  },
  {
   "cell_type": "markdown",
   "metadata": {},
   "source": [
    "5 наиболее популярных значений - это внедорожник, седан, хэтчбек, лифтбек и универсал, из которых первые два составляют основную массу"
   ]
  },
  {
   "cell_type": "code",
   "execution_count": 29,
   "metadata": {},
   "outputs": [
    {
     "data": {
      "image/png": "[encoded data removed]",
      "text/plain": [
       "<Figure size 1584x360 with 1 Axes>"
      ]
     },
     "metadata": {},
     "output_type": "display_data"
    }
   ],
   "source": [
    "plt.figure(figsize=(22,5))\n",
    "cat_plot('bodyType')"
   ]
  },
  {
   "cell_type": "code",
   "execution_count": 31,
   "metadata": {},
   "outputs": [
    {
     "name": "stdout",
     "output_type": "stream",
     "text": [
      "В train.bodyType нет значений: {'фастбек'}\n"
     ]
    }
   ],
   "source": [
    "check_values('bodyType')"
   ]
  },
  {
   "cell_type": "code",
   "execution_count": 32,
   "metadata": {},
   "outputs": [],
   "source": [
    "test.loc[test.bodyType == 'фастбек', 'bodyType'] = 'хэтчбек'"
   ]
  },
  {
   "cell_type": "markdown",
   "metadata": {},
   "source": [
    "### brand"
   ]
  },
  {
   "cell_type": "code",
   "execution_count": 33,
   "metadata": {},
   "outputs": [
    {
     "data": {
      "image/png": "[encoded data removed]",
      "text/plain": [
       "<Figure size 1584x360 with 1 Axes>"
      ]
     },
     "metadata": {},
     "output_type": "display_data"
    }
   ],
   "source": [
    "# смотрим на распределение по бренду\n",
    "plt.figure(figsize=(22,5))\n",
    "cat_plot('brand')"
   ]
  },
  {
   "cell_type": "markdown",
   "metadata": {},
   "source": [
    "Популярны бенды: VOLKSWAGEN, BMW, MERCEDES, TOYOTA, NISSAN, AUDI, SKODA, MITSUBISHI и менее популярны VOLVO, HONDA, LEXUS, INFINITI"
   ]
  },
  {
   "cell_type": "code",
   "execution_count": 35,
   "metadata": {},
   "outputs": [
    {
     "name": "stdout",
     "output_type": "stream",
     "text": [
      "Все уникальные значения test присутствуют в train\n"
     ]
    }
   ],
   "source": [
    "check_values('brand')"
   ]
  },
  {
   "cell_type": "markdown",
   "metadata": {},
   "source": [
    "### color"
   ]
  },
  {
   "cell_type": "code",
   "execution_count": 36,
   "metadata": {},
   "outputs": [
    {
     "data": {
      "image/png": "[encoded data removed]",
      "text/plain": [
       "<Figure size 1584x360 with 1 Axes>"
      ]
     },
     "metadata": {},
     "output_type": "display_data"
    }
   ],
   "source": [
    "plt.figure(figsize=(22,5))\n",
    "cat_plot('color')"
   ]
  },
  {
   "cell_type": "markdown",
   "metadata": {},
   "source": [
    "Часто встречающиеся популярные цвета - это черный, белый, серый, серебристый. Редко встречаются фиолетовый, желтый, оранжевый, розовый. Всего 16 уникальных значений"
   ]
  },
  {
   "cell_type": "code",
   "execution_count": 38,
   "metadata": {},
   "outputs": [
    {
     "name": "stdout",
     "output_type": "stream",
     "text": [
      "Все уникальные значения test присутствуют в train\n"
     ]
    }
   ],
   "source": [
    "check_values('color')"
   ]
  },
  {
   "cell_type": "markdown",
   "metadata": {},
   "source": [
    "### engineDisplacement"
   ]
  },
  {
   "cell_type": "code",
   "execution_count": 39,
   "metadata": {},
   "outputs": [],
   "source": [
    "# смотрим на распределение по объему двигателя\n",
    "train.engineDisplacement = train.engineDisplacement.str.findall(r\"\\d.\\d\").str[0]\n",
    "train.engineDisplacement.fillna('0', inplace=True)\n",
    "\n",
    "test.engineDisplacement = test.engineDisplacement.str.findall(r\"\\d.\\d\").str[0]\n",
    "test.engineDisplacement.fillna('0', inplace=True)\n"
   ]
  },
  {
   "cell_type": "code",
   "execution_count": 40,
   "metadata": {},
   "outputs": [
    {
     "data": {
      "image/png": "[encoded data removed]",
      "text/plain": [
       "<Figure size 1584x360 with 1 Axes>"
      ]
     },
     "metadata": {},
     "output_type": "display_data"
    }
   ],
   "source": [
    "plt.figure(figsize=(22,5))\n",
    "cat_plot('engineDisplacement', rotation=90)"
   ]
  },
  {
   "cell_type": "code",
   "execution_count": 41,
   "metadata": {},
   "outputs": [
    {
     "name": "stdout",
     "output_type": "stream",
     "text": [
      "В train.engineDisplacement нет значений: {'5.3'}\n"
     ]
    }
   ],
   "source": [
    "check_values('engineDisplacement')"
   ]
  },
  {
   "cell_type": "code",
   "execution_count": 42,
   "metadata": {},
   "outputs": [],
   "source": [
    "# приводим значение колонки типу float64\n",
    "train.engineDisplacement = train.engineDisplacement.astype('float64')\n",
    "test.engineDisplacement = test.engineDisplacement.astype('float64')"
   ]
  },
  {
   "cell_type": "markdown",
   "metadata": {},
   "source": [
    "### enginePower"
   ]
  },
  {
   "cell_type": "code",
   "execution_count": 43,
   "metadata": {},
   "outputs": [],
   "source": [
    "# смотрим на распределение по мощности двигателя\n",
    "train.enginePower = train.enginePower.str.findall(r'^\\S+').str[0]\n",
    "train.enginePower = train.enginePower.apply(lambda x: int(x))\n",
    "\n",
    "test.enginePower = test.enginePower.str.findall(r'^\\S+').str[0]\n",
    "test.enginePower = test.enginePower.apply(lambda x: int(x))"
   ]
  },
  {
   "cell_type": "code",
   "execution_count": 44,
   "metadata": {},
   "outputs": [
    {
     "data": {
      "image/png": "[encoded data removed]",
      "text/plain": [
       "<Figure size 576x360 with 1 Axes>"
      ]
     },
     "metadata": {},
     "output_type": "display_data"
    }
   ],
   "source": [
    "sns.kdeplot(x='enginePower', data=train, shade=True);"
   ]
  },
  {
   "cell_type": "code",
   "execution_count": 45,
   "metadata": {},
   "outputs": [],
   "source": [
    "train['enginePower_rate'] = train.enginePower.apply(enginePower_rate)\n",
    "test['enginePower_rate'] = test.enginePower.apply(enginePower_rate)\n",
    "\n",
    "train['tax'] = train.enginePower_rate * train.enginePower\n",
    "test['tax'] = test.enginePower_rate * test.enginePower"
   ]
  },
  {
   "cell_type": "code",
   "execution_count": 46,
   "metadata": {},
   "outputs": [],
   "source": [
    "train.drop('enginePower_rate', axis=1, inplace=True)\n",
    "test.drop('enginePower_rate', axis=1, inplace=True)"
   ]
  },
  {
   "cell_type": "markdown",
   "metadata": {},
   "source": [
    "### fuelType"
   ]
  },
  {
   "cell_type": "code",
   "execution_count": 47,
   "metadata": {},
   "outputs": [
    {
     "data": {
      "image/png": "[encoded data removed]",
      "text/plain": [
       "<Figure size 864x360 with 1 Axes>"
      ]
     },
     "metadata": {},
     "output_type": "display_data"
    }
   ],
   "source": [
    "# смотрим на распределение по типу топлива\n",
    "plt.figure(figsize=(12,5))\n",
    "cat_plot('fuelType', rotation=0)"
   ]
  },
  {
   "cell_type": "code",
   "execution_count": 49,
   "metadata": {},
   "outputs": [
    {
     "name": "stdout",
     "output_type": "stream",
     "text": [
      "Все уникальные значения test присутствуют в train\n"
     ]
    }
   ],
   "source": [
    "check_values('fuelType')"
   ]
  },
  {
   "cell_type": "markdown",
   "metadata": {},
   "source": [
    "### model_name"
   ]
  },
  {
   "cell_type": "code",
   "execution_count": 50,
   "metadata": {},
   "outputs": [
    {
     "name": "stdout",
     "output_type": "stream",
     "text": [
      "В train.model_name нет значений: {'E3', 'M1', 'POPULAR', 'TT_RS', '100_SERIES', 'SLC_KLASSE', 'SIMPLEX', '140', 'CALIFORNIA', 'EUROVAN', '100NX', 'ATLAS', '280ZX', 'GRANVIA', 'ORIGIN', 'V60', 'TARO', 'VERSO_S', 'GOLF_R32'}\n"
     ]
    }
   ],
   "source": [
    "check_values('model_name')"
   ]
  },
  {
   "cell_type": "code",
   "execution_count": 51,
   "metadata": {},
   "outputs": [],
   "source": [
    "train['model_name_hash'] = train.model_name.apply(lambda x: abs(hash(x)))\n",
    "test['model_name_hash'] = test.model_name.apply(lambda x: abs(hash(x)))"
   ]
  },
  {
   "cell_type": "code",
   "execution_count": 52,
   "metadata": {},
   "outputs": [],
   "source": [
    "scaler = StandardScaler()\n",
    "train['model_name_hash'] = scaler.fit_transform(train[['model_name_hash']])\n",
    "test['model_name_hash'] = scaler.transform(test[['model_name_hash']])"
   ]
  },
  {
   "cell_type": "code",
   "execution_count": 53,
   "metadata": {},
   "outputs": [],
   "source": [
    "train.drop('model_name', axis=1, inplace=True)\n",
    "test.drop('model_name', axis=1, inplace=True)"
   ]
  },
  {
   "cell_type": "markdown",
   "metadata": {},
   "source": [
    "### vehicleTransmission"
   ]
  },
  {
   "cell_type": "code",
   "execution_count": 54,
   "metadata": {},
   "outputs": [
    {
     "data": {
      "image/png": "[encoded data removed]",
      "text/plain": [
       "<Figure size 864x360 with 1 Axes>"
      ]
     },
     "metadata": {},
     "output_type": "display_data"
    }
   ],
   "source": [
    "# смотрим на распределение по коробке передач\n",
    "plt.figure(figsize=(12,5))\n",
    "cat_plot('vehicleTransmission', rotation=0)"
   ]
  },
  {
   "cell_type": "code",
   "execution_count": 56,
   "metadata": {},
   "outputs": [
    {
     "name": "stdout",
     "output_type": "stream",
     "text": [
      "Все уникальные значения test присутствуют в train\n"
     ]
    }
   ],
   "source": [
    "check_values('vehicleTransmission')"
   ]
  },
  {
   "cell_type": "markdown",
   "metadata": {},
   "source": [
    "### vendor"
   ]
  },
  {
   "cell_type": "code",
   "execution_count": 57,
   "metadata": {
    "scrolled": true
   },
   "outputs": [
    {
     "data": {
      "image/png": "[encoded data removed]",
      "text/plain": [
       "<Figure size 576x360 with 1 Axes>"
      ]
     },
     "metadata": {},
     "output_type": "display_data"
    }
   ],
   "source": [
    "# смотрим на распределение по производителю\n",
    "cat_plot('vendor', rotation=0)"
   ]
  },
  {
   "cell_type": "markdown",
   "metadata": {},
   "source": [
    "Европейских машин больше, чем японских примерно в 1,5 раза"
   ]
  },
  {
   "cell_type": "code",
   "execution_count": 59,
   "metadata": {},
   "outputs": [
    {
     "name": "stdout",
     "output_type": "stream",
     "text": [
      "Все уникальные значения test присутствуют в train\n"
     ]
    }
   ],
   "source": [
    "check_values('vendor')"
   ]
  },
  {
   "cell_type": "code",
   "execution_count": 60,
   "metadata": {},
   "outputs": [],
   "source": [
    "vendor_dict = {'EUROPEAN': 0, 'JAPANESE': 1}\n",
    "\n",
    "train.vendor = train.vendor.map(vendor_dict)\n",
    "test.vendor = test.vendor.map(vendor_dict)"
   ]
  },
  {
   "cell_type": "markdown",
   "metadata": {},
   "source": [
    "### Владельцы"
   ]
  },
  {
   "cell_type": "code",
   "execution_count": 61,
   "metadata": {},
   "outputs": [],
   "source": [
    "# смотрим на распределение по количеству владельцев\n",
    "train.Владельцы = train.Владельцы.str.findall('\\d').str[0]\n",
    "test.Владельцы = test.Владельцы.str.findall('\\d').str[0]"
   ]
  },
  {
   "cell_type": "code",
   "execution_count": 62,
   "metadata": {
    "scrolled": true
   },
   "outputs": [
    {
     "data": {
      "image/png": "[encoded data removed]",
      "text/plain": [
       "<Figure size 576x360 with 1 Axes>"
      ]
     },
     "metadata": {},
     "output_type": "display_data"
    }
   ],
   "source": [
    "cat_plot('Владельцы', rotation=0)"
   ]
  },
  {
   "cell_type": "markdown",
   "metadata": {},
   "source": [
    "Принимаемые значения 3, 1 и 2 расположены по степени популярности"
   ]
  },
  {
   "cell_type": "code",
   "execution_count": 64,
   "metadata": {},
   "outputs": [
    {
     "name": "stdout",
     "output_type": "stream",
     "text": [
      "Все уникальные значения test присутствуют в train\n"
     ]
    }
   ],
   "source": [
    "check_values('Владельцы')"
   ]
  },
  {
   "cell_type": "code",
   "execution_count": 65,
   "metadata": {},
   "outputs": [],
   "source": [
    "train.Владельцы = train.Владельцы.astype('int32')\n",
    "test.Владельцы = test.Владельцы.astype('int32')"
   ]
  },
  {
   "cell_type": "markdown",
   "metadata": {},
   "source": [
    "### Владение"
   ]
  },
  {
   "cell_type": "code",
   "execution_count": 66,
   "metadata": {},
   "outputs": [],
   "source": [
    "# удаляем колонку владение\n",
    "train.drop('Владение', axis=1, inplace=True)\n",
    "test.drop('Владение', axis=1, inplace=True)"
   ]
  },
  {
   "cell_type": "markdown",
   "metadata": {},
   "source": [
    "### ПТС"
   ]
  },
  {
   "cell_type": "code",
   "execution_count": 67,
   "metadata": {
    "scrolled": true
   },
   "outputs": [
    {
     "data": {
      "image/png": "[encoded data removed]",
      "text/plain": [
       "<Figure size 576x360 with 1 Axes>"
      ]
     },
     "metadata": {},
     "output_type": "display_data"
    }
   ],
   "source": [
    "# смотрим на распределение по ПТС (оригинал или дубликат)\n",
    "cat_plot('ПТС', rotation=0)"
   ]
  },
  {
   "cell_type": "markdown",
   "metadata": {},
   "source": [
    "В основной массе у автомобилей оригинал ПТС, имеются также машины с дубликатами, но их не так много"
   ]
  },
  {
   "cell_type": "code",
   "execution_count": 69,
   "metadata": {},
   "outputs": [
    {
     "name": "stdout",
     "output_type": "stream",
     "text": [
      "Все уникальные значения test присутствуют в train\n"
     ]
    }
   ],
   "source": [
    "check_values('ПТС')"
   ]
  },
  {
   "cell_type": "code",
   "execution_count": 70,
   "metadata": {},
   "outputs": [],
   "source": [
    "pts_dict = {'Оригинал': 0, 'Дубликат': 1}\n",
    "\n",
    "train.ПТС = train.ПТС.map(pts_dict)\n",
    "test.ПТС = test.ПТС.map(pts_dict)"
   ]
  },
  {
   "cell_type": "markdown",
   "metadata": {},
   "source": [
    "### Привод"
   ]
  },
  {
   "cell_type": "code",
   "execution_count": 71,
   "metadata": {
    "scrolled": true
   },
   "outputs": [
    {
     "data": {
      "image/png": "[encoded data removed]",
      "text/plain": [
       "<Figure size 576x360 with 1 Axes>"
      ]
     },
     "metadata": {},
     "output_type": "display_data"
    }
   ],
   "source": [
    "# смотрим на распределение значений по колонке Привод\n",
    "cat_plot('Привод', rotation=0)"
   ]
  },
  {
   "cell_type": "markdown",
   "metadata": {},
   "source": [
    "Примерно одинаковое количество машин с передним и полным приводом, они составляют основную массу. Также есть машины с задним приводом"
   ]
  },
  {
   "cell_type": "code",
   "execution_count": 73,
   "metadata": {},
   "outputs": [
    {
     "name": "stdout",
     "output_type": "stream",
     "text": [
      "Все уникальные значения test присутствуют в train\n"
     ]
    }
   ],
   "source": [
    "check_values('Привод')"
   ]
  },
  {
   "cell_type": "markdown",
   "metadata": {},
   "source": [
    "### Руль"
   ]
  },
  {
   "cell_type": "code",
   "execution_count": 74,
   "metadata": {},
   "outputs": [
    {
     "data": {
      "image/png": "[encoded data removed]",
      "text/plain": [
       "<Figure size 576x360 with 1 Axes>"
      ]
     },
     "metadata": {},
     "output_type": "display_data"
    }
   ],
   "source": [
    "# смотрим на распределение значений по колонке Руль\n",
    "cat_plot('Руль', rotation=0)"
   ]
  },
  {
   "cell_type": "code",
   "execution_count": 76,
   "metadata": {},
   "outputs": [
    {
     "name": "stdout",
     "output_type": "stream",
     "text": [
      "Все уникальные значения test присутствуют в train\n"
     ]
    }
   ],
   "source": [
    "check_values('Руль')"
   ]
  },
  {
   "cell_type": "code",
   "execution_count": 77,
   "metadata": {},
   "outputs": [],
   "source": [
    "steering_dict = {'Левый': 0, 'Правый': 1}\n",
    "\n",
    "train.Руль = train.Руль.map(steering_dict)\n",
    "test.Руль = test.Руль.map(steering_dict)"
   ]
  },
  {
   "cell_type": "markdown",
   "metadata": {},
   "source": [
    "Значения колонки Руль мы привели к виду: левый - это 0, правый - 1. Большинство машин с левым рулем и лишь незначительно количество с правым"
   ]
  },
  {
   "cell_type": "markdown",
   "metadata": {},
   "source": [
    "### Состояние"
   ]
  },
  {
   "cell_type": "code",
   "execution_count": 78,
   "metadata": {
    "scrolled": true
   },
   "outputs": [
    {
     "data": {
      "text/plain": [
       "Не требует ремонта    118746\n",
       "Битый / не на ходу        13\n",
       "Name: Состояние, dtype: int64"
      ]
     },
     "execution_count": 78,
     "metadata": {},
     "output_type": "execute_result"
    }
   ],
   "source": [
    "# смотрим на распределение значений по колонке Состояние\n",
    "train.Состояние.value_counts()"
   ]
  },
  {
   "cell_type": "markdown",
   "metadata": {},
   "source": [
    "Имеется только 13 значений битый / не на ходу, остальные машины не требуют ремонта. Значения принимаемые в колонке неинформативны, колонку можно удалить"
   ]
  },
  {
   "cell_type": "code",
   "execution_count": 79,
   "metadata": {},
   "outputs": [],
   "source": [
    "train.drop(train[train.Состояние == 'Битый / не на ходу'].index, axis=0, inplace=True)\n",
    "train.reset_index(drop=True, inplace=True)\n",
    "\n",
    "train.drop('Состояние', axis=1, inplace=True)\n",
    "test.drop('Состояние', axis=1, inplace=True)\n"
   ]
  },
  {
   "cell_type": "markdown",
   "metadata": {},
   "source": [
    "Принимает только одно значение (константа), можно удалить эту колонку"
   ]
  },
  {
   "cell_type": "markdown",
   "metadata": {},
   "source": [
    "### Таможня"
   ]
  },
  {
   "cell_type": "code",
   "execution_count": 80,
   "metadata": {},
   "outputs": [
    {
     "name": "stdout",
     "output_type": "stream",
     "text": [
      "train\n"
     ]
    },
    {
     "data": {
      "text/plain": [
       "Растаможен       118740\n",
       "Не растаможен         6\n",
       "Name: Таможня, dtype: int64"
      ]
     },
     "metadata": {},
     "output_type": "display_data"
    },
    {
     "name": "stdout",
     "output_type": "stream",
     "text": [
      "\n",
      "test\n"
     ]
    },
    {
     "data": {
      "text/plain": [
       "Растаможен    34686\n",
       "Name: Таможня, dtype: int64"
      ]
     },
     "metadata": {},
     "output_type": "display_data"
    }
   ],
   "source": [
    "print('train')\n",
    "display(train.Таможня.value_counts())\n",
    "print()\n",
    "print('test')\n",
    "display(test.Таможня.value_counts())"
   ]
  },
  {
   "cell_type": "code",
   "execution_count": 81,
   "metadata": {},
   "outputs": [],
   "source": [
    "train.drop('Таможня', axis=1, inplace=True)\n",
    "test.drop('Таможня', axis=1, inplace=True)"
   ]
  },
  {
   "cell_type": "markdown",
   "metadata": {},
   "source": [
    "### Словари"
   ]
  },
  {
   "cell_type": "markdown",
   "metadata": {},
   "source": [
    "### equipment_dict"
   ]
  },
  {
   "cell_type": "code",
   "execution_count": 82,
   "metadata": {},
   "outputs": [],
   "source": [
    "train['equipment_dict'] = train['equipment_dict'].str.findall(r\"'(\\b.*?\\b)'\")\n",
    "test['equipment_dict'] = test['equipment_dict'].str.findall(r'\"(\\b.*?\\b)\"')"
   ]
  },
  {
   "cell_type": "code",
   "execution_count": 83,
   "metadata": {},
   "outputs": [],
   "source": [
    "mlb = MultiLabelBinarizer()"
   ]
  },
  {
   "cell_type": "code",
   "execution_count": 84,
   "metadata": {},
   "outputs": [],
   "source": [
    "equipment_train = mlb.fit_transform(train['equipment_dict'])\n",
    "equipment_test = mlb.transform(test['equipment_dict'])\n",
    "\n",
    "equipment_train = pd.DataFrame(data = equipment_train, columns = mlb.classes_)\n",
    "equipment_test = pd.DataFrame(data = equipment_test, columns = mlb.classes_)"
   ]
  },
  {
   "cell_type": "code",
   "execution_count": 85,
   "metadata": {
    "scrolled": false
   },
   "outputs": [
    {
     "data": {
      "image/png": "[encoded data removed]",
      "text/plain": [
       "<Figure size 1440x792 with 1 Axes>"
      ]
     },
     "metadata": {},
     "output_type": "display_data"
    }
   ],
   "source": [
    "f_scores = f_regression(equipment_train, train.price)[0]\n",
    "f_scores = pd.Series(f_scores, equipment_train.columns).sort_values(ascending=False)[:50]\n",
    "\n",
    "plt.figure(figsize=(20,11))\n",
    "sns.barplot(x=f_scores.values, y=f_scores.index, palette='Blues_r_d');"
   ]
  },
  {
   "cell_type": "code",
   "execution_count": 86,
   "metadata": {},
   "outputs": [],
   "source": [
    "# Метрика улучшается если не добавлять признаков\n",
    "\n",
    "f_scores_top = f_scores.index\n",
    "\n",
    "equipment_train = equipment_train[f_scores_top]\n",
    "equipment_test = equipment_test[f_scores_top]"
   ]
  },
  {
   "cell_type": "code",
   "execution_count": 87,
   "metadata": {},
   "outputs": [],
   "source": [
    "train['equipment_count'] = train['equipment_dict'].apply(len)\n",
    "test['equipment_count'] = test['equipment_dict'].apply(len)"
   ]
  },
  {
   "cell_type": "code",
   "execution_count": 88,
   "metadata": {},
   "outputs": [],
   "source": [
    "train['equipment_isna'] = train['equipment_count'].astype('bool') * 1\n",
    "test['equipment_isna'] = test['equipment_count'].astype('bool') * 1"
   ]
  },
  {
   "cell_type": "code",
   "execution_count": 91,
   "metadata": {},
   "outputs": [],
   "source": [
    "equipment_vc = train['equipment_dict'].explode().value_counts()\n",
    "equipment_top_lst = equipment_vc.index[:10]\n",
    "equipment_rare_lst = equipment_vc[equipment_vc < 50].index"
   ]
  },
  {
   "cell_type": "code",
   "execution_count": 92,
   "metadata": {},
   "outputs": [],
   "source": [
    "train['equipment_top'] = train['equipment_dict'].apply(equipment_top)\n",
    "test['equipment_top'] = test['equipment_dict'].apply(equipment_top)\n",
    "\n",
    "train['equipment_rare'] = train['equipment_dict'].apply(equipment_rare)\n",
    "test['equipment_rare'] = test['equipment_dict'].apply(equipment_rare)"
   ]
  },
  {
   "cell_type": "code",
   "execution_count": 93,
   "metadata": {
    "scrolled": true
   },
   "outputs": [],
   "source": [
    "train.drop(columns= ['equipment_dict'], inplace=True)\n",
    "test.drop(columns= ['equipment_dict'], inplace=True)"
   ]
  },
  {
   "cell_type": "markdown",
   "metadata": {},
   "source": [
    "### super_gen "
   ]
  },
  {
   "cell_type": "code",
   "execution_count": 94,
   "metadata": {},
   "outputs": [],
   "source": [
    "train.drop('super_gen', axis=1, inplace=True)\n",
    "test.drop('super_gen', axis=1, inplace=True)"
   ]
  },
  {
   "cell_type": "markdown",
   "metadata": {},
   "source": [
    "### LabelEncoder"
   ]
  },
  {
   "cell_type": "code",
   "execution_count": 97,
   "metadata": {},
   "outputs": [],
   "source": [
    "coll = ['bodyType', 'brand', 'color']"
   ]
  },
  {
   "cell_type": "code",
   "execution_count": 98,
   "metadata": {},
   "outputs": [],
   "source": [
    "from sklearn import preprocessing\n",
    "le = preprocessing.LabelEncoder()\n",
    "\n",
    "for c in coll:\n",
    "    train[c] = le.fit_transform(train[[c]])\n",
    "    test[c] = le.transform(test[[c]])"
   ]
  },
  {
   "cell_type": "markdown",
   "metadata": {},
   "source": [
    "### OneHotEncoder"
   ]
  },
  {
   "cell_type": "code",
   "execution_count": 99,
   "metadata": {},
   "outputs": [],
   "source": [
    "df = pd.concat([train, test], axis=0)\n",
    "df = pd.get_dummies(df)\n",
    "\n",
    "train = df[~df.price.isna()]\n",
    "test = df[df.price.isna()]\n",
    "test = test.drop(columns=['price'])"
   ]
  },
  {
   "cell_type": "code",
   "execution_count": 100,
   "metadata": {
    "scrolled": true
   },
   "outputs": [
    {
     "data": {
      "text/html": [
       "<div>\n",
       "<style scoped>\n",
       "    .dataframe tbody tr th:only-of-type {\n",
       "        vertical-align: middle;\n",
       "    }\n",
       "\n",
       "    .dataframe tbody tr th {\n",
       "        vertical-align: top;\n",
       "    }\n",
       "\n",
       "    .dataframe thead th {\n",
       "        text-align: right;\n",
       "    }\n",
       "</style>\n",
       "<table border=\"1\" class=\"dataframe\">\n",
       "  <thead>\n",
       "    <tr style=\"text-align: right;\">\n",
       "      <th></th>\n",
       "      <th>bodyType</th>\n",
       "      <th>brand</th>\n",
       "      <th>color</th>\n",
       "      <th>engineDisplacement</th>\n",
       "      <th>enginePower</th>\n",
       "      <th>mileage</th>\n",
       "      <th>modelDate</th>\n",
       "      <th>numberOfDoors</th>\n",
       "      <th>productionDate</th>\n",
       "      <th>vendor</th>\n",
       "      <th>Владельцы</th>\n",
       "      <th>ПТС</th>\n",
       "      <th>Руль</th>\n",
       "      <th>len_description</th>\n",
       "      <th>tax</th>\n",
       "      <th>model_name_hash</th>\n",
       "      <th>equipment_count</th>\n",
       "      <th>equipment_isna</th>\n",
       "      <th>equipment_top</th>\n",
       "      <th>equipment_rare</th>\n",
       "      <th>fuelType_бензин</th>\n",
       "      <th>fuelType_газ</th>\n",
       "      <th>fuelType_гибрид</th>\n",
       "      <th>fuelType_дизель</th>\n",
       "      <th>fuelType_электро</th>\n",
       "      <th>vehicleTransmission_автоматическая</th>\n",
       "      <th>vehicleTransmission_вариатор</th>\n",
       "      <th>vehicleTransmission_механическая</th>\n",
       "      <th>vehicleTransmission_роботизированная</th>\n",
       "      <th>Привод_задний</th>\n",
       "      <th>Привод_передний</th>\n",
       "      <th>Привод_полный</th>\n",
       "    </tr>\n",
       "  </thead>\n",
       "  <tbody>\n",
       "    <tr>\n",
       "      <th>0</th>\n",
       "      <td>6</td>\n",
       "      <td>8</td>\n",
       "      <td>13</td>\n",
       "      <td>1.2</td>\n",
       "      <td>105</td>\n",
       "      <td>74000</td>\n",
       "      <td>2013</td>\n",
       "      <td>5</td>\n",
       "      <td>2014</td>\n",
       "      <td>0</td>\n",
       "      <td>3</td>\n",
       "      <td>0</td>\n",
       "      <td>0</td>\n",
       "      <td>1001</td>\n",
       "      <td>2625</td>\n",
       "      <td>-0.581159</td>\n",
       "      <td>36</td>\n",
       "      <td>1</td>\n",
       "      <td>9</td>\n",
       "      <td>0</td>\n",
       "      <td>1</td>\n",
       "      <td>0</td>\n",
       "      <td>0</td>\n",
       "      <td>0</td>\n",
       "      <td>0</td>\n",
       "      <td>0</td>\n",
       "      <td>0</td>\n",
       "      <td>0</td>\n",
       "      <td>1</td>\n",
       "      <td>0</td>\n",
       "      <td>1</td>\n",
       "      <td>0</td>\n",
       "    </tr>\n",
       "    <tr>\n",
       "      <th>1</th>\n",
       "      <td>6</td>\n",
       "      <td>8</td>\n",
       "      <td>15</td>\n",
       "      <td>1.6</td>\n",
       "      <td>110</td>\n",
       "      <td>60563</td>\n",
       "      <td>2017</td>\n",
       "      <td>5</td>\n",
       "      <td>2017</td>\n",
       "      <td>0</td>\n",
       "      <td>1</td>\n",
       "      <td>0</td>\n",
       "      <td>0</td>\n",
       "      <td>2609</td>\n",
       "      <td>2750</td>\n",
       "      <td>-0.581159</td>\n",
       "      <td>34</td>\n",
       "      <td>1</td>\n",
       "      <td>9</td>\n",
       "      <td>0</td>\n",
       "      <td>1</td>\n",
       "      <td>0</td>\n",
       "      <td>0</td>\n",
       "      <td>0</td>\n",
       "      <td>0</td>\n",
       "      <td>0</td>\n",
       "      <td>0</td>\n",
       "      <td>1</td>\n",
       "      <td>0</td>\n",
       "      <td>0</td>\n",
       "      <td>1</td>\n",
       "      <td>0</td>\n",
       "    </tr>\n",
       "  </tbody>\n",
       "</table>\n",
       "</div>"
      ],
      "text/plain": [
       "   bodyType  brand  color  engineDisplacement  enginePower  mileage  \\\n",
       "0         6      8     13                 1.2          105    74000   \n",
       "1         6      8     15                 1.6          110    60563   \n",
       "\n",
       "   modelDate  numberOfDoors  productionDate  vendor  Владельцы  ПТС  Руль  \\\n",
       "0       2013              5            2014       0          3    0     0   \n",
       "1       2017              5            2017       0          1    0     0   \n",
       "\n",
       "   len_description   tax  model_name_hash  equipment_count  equipment_isna  \\\n",
       "0             1001  2625        -0.581159               36               1   \n",
       "1             2609  2750        -0.581159               34               1   \n",
       "\n",
       "   equipment_top  equipment_rare  fuelType_бензин  fuelType_газ  \\\n",
       "0              9               0                1             0   \n",
       "1              9               0                1             0   \n",
       "\n",
       "   fuelType_гибрид  fuelType_дизель  fuelType_электро  \\\n",
       "0                0                0                 0   \n",
       "1                0                0                 0   \n",
       "\n",
       "   vehicleTransmission_автоматическая  vehicleTransmission_вариатор  \\\n",
       "0                                   0                             0   \n",
       "1                                   0                             0   \n",
       "\n",
       "   vehicleTransmission_механическая  vehicleTransmission_роботизированная  \\\n",
       "0                                 0                                     1   \n",
       "1                                 1                                     0   \n",
       "\n",
       "   Привод_задний  Привод_передний  Привод_полный  \n",
       "0              0                1              0  \n",
       "1              0                1              0  "
      ]
     },
     "execution_count": 100,
     "metadata": {},
     "output_type": "execute_result"
    }
   ],
   "source": [
    "test.head(2)"
   ]
  },
  {
   "cell_type": "code",
   "execution_count": 101,
   "metadata": {},
   "outputs": [
    {
     "data": {
      "text/html": [
       "<div>\n",
       "<style scoped>\n",
       "    .dataframe tbody tr th:only-of-type {\n",
       "        vertical-align: middle;\n",
       "    }\n",
       "\n",
       "    .dataframe tbody tr th {\n",
       "        vertical-align: top;\n",
       "    }\n",
       "\n",
       "    .dataframe thead th {\n",
       "        text-align: right;\n",
       "    }\n",
       "</style>\n",
       "<table border=\"1\" class=\"dataframe\">\n",
       "  <thead>\n",
       "    <tr style=\"text-align: right;\">\n",
       "      <th></th>\n",
       "      <th>bodyType</th>\n",
       "      <th>brand</th>\n",
       "      <th>color</th>\n",
       "      <th>engineDisplacement</th>\n",
       "      <th>enginePower</th>\n",
       "      <th>mileage</th>\n",
       "      <th>modelDate</th>\n",
       "      <th>numberOfDoors</th>\n",
       "      <th>productionDate</th>\n",
       "      <th>vendor</th>\n",
       "      <th>Владельцы</th>\n",
       "      <th>ПТС</th>\n",
       "      <th>Руль</th>\n",
       "      <th>price</th>\n",
       "      <th>len_description</th>\n",
       "      <th>tax</th>\n",
       "      <th>model_name_hash</th>\n",
       "      <th>equipment_count</th>\n",
       "      <th>equipment_isna</th>\n",
       "      <th>equipment_top</th>\n",
       "      <th>equipment_rare</th>\n",
       "      <th>fuelType_бензин</th>\n",
       "      <th>fuelType_газ</th>\n",
       "      <th>fuelType_гибрид</th>\n",
       "      <th>fuelType_дизель</th>\n",
       "      <th>fuelType_электро</th>\n",
       "      <th>vehicleTransmission_автоматическая</th>\n",
       "      <th>vehicleTransmission_вариатор</th>\n",
       "      <th>vehicleTransmission_механическая</th>\n",
       "      <th>vehicleTransmission_роботизированная</th>\n",
       "      <th>Привод_задний</th>\n",
       "      <th>Привод_передний</th>\n",
       "      <th>Привод_полный</th>\n",
       "    </tr>\n",
       "  </thead>\n",
       "  <tbody>\n",
       "    <tr>\n",
       "      <th>0</th>\n",
       "      <td>11</td>\n",
       "      <td>0</td>\n",
       "      <td>2</td>\n",
       "      <td>2.3</td>\n",
       "      <td>133</td>\n",
       "      <td>410000</td>\n",
       "      <td>1990</td>\n",
       "      <td>4</td>\n",
       "      <td>1993</td>\n",
       "      <td>0</td>\n",
       "      <td>3</td>\n",
       "      <td>1</td>\n",
       "      <td>0</td>\n",
       "      <td>11.982929</td>\n",
       "      <td>987</td>\n",
       "      <td>4655</td>\n",
       "      <td>0.125428</td>\n",
       "      <td>8</td>\n",
       "      <td>1</td>\n",
       "      <td>2</td>\n",
       "      <td>0</td>\n",
       "      <td>1</td>\n",
       "      <td>0</td>\n",
       "      <td>0</td>\n",
       "      <td>0</td>\n",
       "      <td>0</td>\n",
       "      <td>0</td>\n",
       "      <td>0</td>\n",
       "      <td>1</td>\n",
       "      <td>0</td>\n",
       "      <td>0</td>\n",
       "      <td>1</td>\n",
       "      <td>0</td>\n",
       "    </tr>\n",
       "    <tr>\n",
       "      <th>1</th>\n",
       "      <td>11</td>\n",
       "      <td>0</td>\n",
       "      <td>11</td>\n",
       "      <td>2.6</td>\n",
       "      <td>150</td>\n",
       "      <td>350000</td>\n",
       "      <td>1990</td>\n",
       "      <td>4</td>\n",
       "      <td>1993</td>\n",
       "      <td>0</td>\n",
       "      <td>3</td>\n",
       "      <td>0</td>\n",
       "      <td>0</td>\n",
       "      <td>11.918391</td>\n",
       "      <td>483</td>\n",
       "      <td>5250</td>\n",
       "      <td>0.125428</td>\n",
       "      <td>11</td>\n",
       "      <td>1</td>\n",
       "      <td>2</td>\n",
       "      <td>0</td>\n",
       "      <td>1</td>\n",
       "      <td>0</td>\n",
       "      <td>0</td>\n",
       "      <td>0</td>\n",
       "      <td>0</td>\n",
       "      <td>1</td>\n",
       "      <td>0</td>\n",
       "      <td>0</td>\n",
       "      <td>0</td>\n",
       "      <td>0</td>\n",
       "      <td>1</td>\n",
       "      <td>0</td>\n",
       "    </tr>\n",
       "  </tbody>\n",
       "</table>\n",
       "</div>"
      ],
      "text/plain": [
       "   bodyType  brand  color  engineDisplacement  enginePower  mileage  \\\n",
       "0        11      0      2                 2.3          133   410000   \n",
       "1        11      0     11                 2.6          150   350000   \n",
       "\n",
       "   modelDate  numberOfDoors  productionDate  vendor  Владельцы  ПТС  Руль  \\\n",
       "0       1990              4            1993       0          3    1     0   \n",
       "1       1990              4            1993       0          3    0     0   \n",
       "\n",
       "       price  len_description   tax  model_name_hash  equipment_count  \\\n",
       "0  11.982929              987  4655         0.125428                8   \n",
       "1  11.918391              483  5250         0.125428               11   \n",
       "\n",
       "   equipment_isna  equipment_top  equipment_rare  fuelType_бензин  \\\n",
       "0               1              2               0                1   \n",
       "1               1              2               0                1   \n",
       "\n",
       "   fuelType_газ  fuelType_гибрид  fuelType_дизель  fuelType_электро  \\\n",
       "0             0                0                0                 0   \n",
       "1             0                0                0                 0   \n",
       "\n",
       "   vehicleTransmission_автоматическая  vehicleTransmission_вариатор  \\\n",
       "0                                   0                             0   \n",
       "1                                   1                             0   \n",
       "\n",
       "   vehicleTransmission_механическая  vehicleTransmission_роботизированная  \\\n",
       "0                                 1                                     0   \n",
       "1                                 0                                     0   \n",
       "\n",
       "   Привод_задний  Привод_передний  Привод_полный  \n",
       "0              0                1              0  \n",
       "1              0                1              0  "
      ]
     },
     "execution_count": 101,
     "metadata": {},
     "output_type": "execute_result"
    }
   ],
   "source": [
    "train.head(2)"
   ]
  },
  {
   "cell_type": "code",
   "execution_count": 102,
   "metadata": {},
   "outputs": [],
   "source": [
    "# введем новый признак \"tax\" (расчет годового налога):\n",
    "train['tax2'] = train.enginePower.apply(lambda x: x*12 if x<=100 \n",
    "                                           else x*25 if x>100 and x<=125\n",
    "                                           else x*35 if x>125 and x<=150\n",
    "                                           else x*45 if x>150 and x<=175\n",
    "                                           else x*55 if x>175 and x<=200\n",
    "                                           else x*65 if x>200 and x<=225\n",
    "                                           else x*75 if x>225 and x<=250\n",
    "                                           else x*150)\n",
    "\n",
    "\n",
    "test['tax2'] = test.enginePower.apply(lambda x: x*12 if x<=100 \n",
    "                                           else x*25 if x>100 and x<=125\n",
    "                                           else x*35 if x>125 and x<=150\n",
    "                                           else x*45 if x>150 and x<=175\n",
    "                                           else x*55 if x>175 and x<=200\n",
    "                                           else x*65 if x>200 and x<=225\n",
    "                                           else x*75 if x>225 and x<=250\n",
    "                                           else x*150)"
   ]
  },
  {
   "cell_type": "code",
   "execution_count": 103,
   "metadata": {},
   "outputs": [],
   "source": [
    "# преобразуем productionDate в возраст авто:\n",
    "train['productionDate2'] = 2021 - train['productionDate']\n",
    "test['productionDate2'] = 2021 - test['productionDate']\n",
    "train['productionDate2'] = train['productionDate'] .astype(float)\n",
    "test['productionDate2'] = test['productionDate'] .astype(float)"
   ]
  },
  {
   "cell_type": "code",
   "execution_count": 104,
   "metadata": {},
   "outputs": [],
   "source": [
    "# преобразуем modelDate в возраст модели:\n",
    "train['modelDate2'] = 2021 - train['modelDate']\n",
    "test['modelDate2'] = 2021 - test['modelDate']\n",
    "train['modelDate2'] = train['modelDate'].astype(float)\n",
    "test['modelDate2'] = test['modelDate'].astype(float)"
   ]
  },
  {
   "cell_type": "code",
   "execution_count": 105,
   "metadata": {},
   "outputs": [
    {
     "data": {
      "text/html": [
       "<div>\n",
       "<style scoped>\n",
       "    .dataframe tbody tr th:only-of-type {\n",
       "        vertical-align: middle;\n",
       "    }\n",
       "\n",
       "    .dataframe tbody tr th {\n",
       "        vertical-align: top;\n",
       "    }\n",
       "\n",
       "    .dataframe thead th {\n",
       "        text-align: right;\n",
       "    }\n",
       "</style>\n",
       "<table border=\"1\" class=\"dataframe\">\n",
       "  <thead>\n",
       "    <tr style=\"text-align: right;\">\n",
       "      <th></th>\n",
       "      <th>bodyType</th>\n",
       "      <th>brand</th>\n",
       "      <th>color</th>\n",
       "      <th>engineDisplacement</th>\n",
       "      <th>enginePower</th>\n",
       "      <th>mileage</th>\n",
       "      <th>modelDate</th>\n",
       "      <th>numberOfDoors</th>\n",
       "      <th>productionDate</th>\n",
       "      <th>vendor</th>\n",
       "      <th>Владельцы</th>\n",
       "      <th>ПТС</th>\n",
       "      <th>Руль</th>\n",
       "      <th>len_description</th>\n",
       "      <th>tax</th>\n",
       "      <th>model_name_hash</th>\n",
       "      <th>equipment_count</th>\n",
       "      <th>equipment_isna</th>\n",
       "      <th>equipment_top</th>\n",
       "      <th>equipment_rare</th>\n",
       "      <th>fuelType_бензин</th>\n",
       "      <th>fuelType_газ</th>\n",
       "      <th>fuelType_гибрид</th>\n",
       "      <th>fuelType_дизель</th>\n",
       "      <th>fuelType_электро</th>\n",
       "      <th>vehicleTransmission_автоматическая</th>\n",
       "      <th>vehicleTransmission_вариатор</th>\n",
       "      <th>vehicleTransmission_механическая</th>\n",
       "      <th>vehicleTransmission_роботизированная</th>\n",
       "      <th>Привод_задний</th>\n",
       "      <th>Привод_передний</th>\n",
       "      <th>Привод_полный</th>\n",
       "      <th>tax2</th>\n",
       "      <th>productionDate2</th>\n",
       "      <th>modelDate2</th>\n",
       "    </tr>\n",
       "  </thead>\n",
       "  <tbody>\n",
       "    <tr>\n",
       "      <th>0</th>\n",
       "      <td>6</td>\n",
       "      <td>8</td>\n",
       "      <td>13</td>\n",
       "      <td>1.2</td>\n",
       "      <td>105</td>\n",
       "      <td>74000</td>\n",
       "      <td>2013</td>\n",
       "      <td>5</td>\n",
       "      <td>2014</td>\n",
       "      <td>0</td>\n",
       "      <td>3</td>\n",
       "      <td>0</td>\n",
       "      <td>0</td>\n",
       "      <td>1001</td>\n",
       "      <td>2625</td>\n",
       "      <td>-0.581159</td>\n",
       "      <td>36</td>\n",
       "      <td>1</td>\n",
       "      <td>9</td>\n",
       "      <td>0</td>\n",
       "      <td>1</td>\n",
       "      <td>0</td>\n",
       "      <td>0</td>\n",
       "      <td>0</td>\n",
       "      <td>0</td>\n",
       "      <td>0</td>\n",
       "      <td>0</td>\n",
       "      <td>0</td>\n",
       "      <td>1</td>\n",
       "      <td>0</td>\n",
       "      <td>1</td>\n",
       "      <td>0</td>\n",
       "      <td>2625</td>\n",
       "      <td>2014.0</td>\n",
       "      <td>2013.0</td>\n",
       "    </tr>\n",
       "    <tr>\n",
       "      <th>1</th>\n",
       "      <td>6</td>\n",
       "      <td>8</td>\n",
       "      <td>15</td>\n",
       "      <td>1.6</td>\n",
       "      <td>110</td>\n",
       "      <td>60563</td>\n",
       "      <td>2017</td>\n",
       "      <td>5</td>\n",
       "      <td>2017</td>\n",
       "      <td>0</td>\n",
       "      <td>1</td>\n",
       "      <td>0</td>\n",
       "      <td>0</td>\n",
       "      <td>2609</td>\n",
       "      <td>2750</td>\n",
       "      <td>-0.581159</td>\n",
       "      <td>34</td>\n",
       "      <td>1</td>\n",
       "      <td>9</td>\n",
       "      <td>0</td>\n",
       "      <td>1</td>\n",
       "      <td>0</td>\n",
       "      <td>0</td>\n",
       "      <td>0</td>\n",
       "      <td>0</td>\n",
       "      <td>0</td>\n",
       "      <td>0</td>\n",
       "      <td>1</td>\n",
       "      <td>0</td>\n",
       "      <td>0</td>\n",
       "      <td>1</td>\n",
       "      <td>0</td>\n",
       "      <td>2750</td>\n",
       "      <td>2017.0</td>\n",
       "      <td>2017.0</td>\n",
       "    </tr>\n",
       "  </tbody>\n",
       "</table>\n",
       "</div>"
      ],
      "text/plain": [
       "   bodyType  brand  color  engineDisplacement  enginePower  mileage  \\\n",
       "0         6      8     13                 1.2          105    74000   \n",
       "1         6      8     15                 1.6          110    60563   \n",
       "\n",
       "   modelDate  numberOfDoors  productionDate  vendor  Владельцы  ПТС  Руль  \\\n",
       "0       2013              5            2014       0          3    0     0   \n",
       "1       2017              5            2017       0          1    0     0   \n",
       "\n",
       "   len_description   tax  model_name_hash  equipment_count  equipment_isna  \\\n",
       "0             1001  2625        -0.581159               36               1   \n",
       "1             2609  2750        -0.581159               34               1   \n",
       "\n",
       "   equipment_top  equipment_rare  fuelType_бензин  fuelType_газ  \\\n",
       "0              9               0                1             0   \n",
       "1              9               0                1             0   \n",
       "\n",
       "   fuelType_гибрид  fuelType_дизель  fuelType_электро  \\\n",
       "0                0                0                 0   \n",
       "1                0                0                 0   \n",
       "\n",
       "   vehicleTransmission_автоматическая  vehicleTransmission_вариатор  \\\n",
       "0                                   0                             0   \n",
       "1                                   0                             0   \n",
       "\n",
       "   vehicleTransmission_механическая  vehicleTransmission_роботизированная  \\\n",
       "0                                 0                                     1   \n",
       "1                                 1                                     0   \n",
       "\n",
       "   Привод_задний  Привод_передний  Привод_полный  tax2  productionDate2  \\\n",
       "0              0                1              0  2625           2014.0   \n",
       "1              0                1              0  2750           2017.0   \n",
       "\n",
       "   modelDate2  \n",
       "0      2013.0  \n",
       "1      2017.0  "
      ]
     },
     "execution_count": 105,
     "metadata": {},
     "output_type": "execute_result"
    }
   ],
   "source": [
    "test.head(2)"
   ]
  },
  {
   "cell_type": "markdown",
   "metadata": {},
   "source": [
    "### Проверка значимости признаков"
   ]
  },
  {
   "cell_type": "markdown",
   "metadata": {},
   "source": [
    "### Числовые"
   ]
  },
  {
   "cell_type": "code",
   "execution_count": 106,
   "metadata": {
    "scrolled": false
   },
   "outputs": [
    {
     "data": {
      "image/png": "[encoded data removed]",
      "text/plain": [
       "<Figure size 1440x288 with 1 Axes>"
      ]
     },
     "metadata": {},
     "output_type": "display_data"
    }
   ],
   "source": [
    "f_scores = f_regression(train[num_cols], train.price)[0]\n",
    "f_scores = pd.Series(f_scores, num_cols).sort_values(ascending=False)\n",
    "\n",
    "plt.figure(figsize=(20,4))\n",
    "sns.barplot(x=f_scores.values, y=f_scores.index, palette='Blues_r_d');"
   ]
  },
  {
   "cell_type": "code",
   "execution_count": 107,
   "metadata": {
    "scrolled": true
   },
   "outputs": [],
   "source": [
    "train = train.rename(columns = {'Владельцы': 'Owners', 'ПТС': 'PTC', 'Руль': 'sweel',\n",
    "                        'fuelType_бензин': 'petrol','fuelType_газ': 'gas', 'fuelType_гибрид': 'hybrid', \n",
    "                        'fuelType_дизель': 'disel','fuelType_электро': 'electro', \n",
    "                        'vehicleTransmission_автоматическая': 'automatic',\n",
    "                       'vehicleTransmission_вариатор': 'var',\n",
    "                       'vehicleTransmission_механическая': 'mech',\n",
    "                       'vehicleTransmission_роботизированная': 'robot',\n",
    "                       'Привод_задний': 'rear',\n",
    "                       'Привод_передний': 'front',\n",
    "                       'Привод_полный': 'full'}, inplace = False)\n",
    "test = test.rename(columns = {'Владельцы': 'Owners', 'ПТС': 'PTC', 'Руль': 'sweel',\n",
    "                        'fuelType_бензин': 'petrol','fuelType_газ': 'gas', 'fuelType_гибрид': 'hybrid', \n",
    "                        'fuelType_дизель': 'disel','fuelType_электро': 'electro', \n",
    "                        'vehicleTransmission_автоматическая': 'automatic',\n",
    "                       'vehicleTransmission_вариатор': 'var',\n",
    "                       'vehicleTransmission_механическая': 'mech',\n",
    "                       'vehicleTransmission_роботизированная': 'robot',\n",
    "                       'Привод_задний': 'rear',\n",
    "                       'Привод_передний': 'front',\n",
    "                       'Привод_полный': 'full'}, inplace = False)"
   ]
  },
  {
   "cell_type": "code",
   "execution_count": 108,
   "metadata": {},
   "outputs": [],
   "source": [
    "test= test.drop(columns= ['enginePower', 'disel'])\n",
    "train= train.drop(columns= ['enginePower', 'disel'])"
   ]
  },
  {
   "cell_type": "markdown",
   "metadata": {},
   "source": [
    "### Модель"
   ]
  },
  {
   "cell_type": "code",
   "execution_count": 109,
   "metadata": {},
   "outputs": [],
   "source": [
    "X = train.drop('price', axis=1)\n",
    "y = train.price"
   ]
  },
  {
   "cell_type": "code",
   "execution_count": 110,
   "metadata": {},
   "outputs": [],
   "source": [
    "X_train, X_test, y_train, y_test = train_test_split(X, y, test_size=0.2, random_state=42)"
   ]
  },
  {
   "cell_type": "code",
   "execution_count": 111,
   "metadata": {},
   "outputs": [],
   "source": [
    "y_test = np.exp(y_test)"
   ]
  },
  {
   "cell_type": "code",
   "execution_count": 155,
   "metadata": {},
   "outputs": [
    {
     "name": "stdout",
     "output_type": "stream",
     "text": [
      "0.24.2\n"
     ]
    }
   ],
   "source": [
    "import sklearn\n",
    "print(sklearn.__version__)"
   ]
  },
  {
   "cell_type": "markdown",
   "metadata": {},
   "source": [
    "### RandomForestRegressor"
   ]
  },
  {
   "cell_type": "code",
   "execution_count": 144,
   "metadata": {},
   "outputs": [],
   "source": [
    "# param = {'n_estimators': [400],\n",
    "#          'max_features': ['auto'],\n",
    "#          'max_depth': [None, 10, 20, 30, 40],\n",
    "#          'min_samples_split': [1, 2, 5, 10, 20],\n",
    "#          'min_samples_leaf': [1, 2, 4, 8, 12]}"
   ]
  },
  {
   "cell_type": "code",
   "execution_count": 149,
   "metadata": {},
   "outputs": [
    {
     "data": {
      "text/plain": [
       "10.745818452829784"
      ]
     },
     "execution_count": 149,
     "metadata": {},
     "output_type": "execute_result"
    }
   ],
   "source": [
    "# rf = RandomForestRegressor(random_state=42)\n",
    "# rcv = RandomizedSearchCV(estimator=rf, param_distributions=param, cv=3, n_jobs=-1,\n",
    "#                          scoring='neg_mean_absolute_percentage_error', n_iter=20)\n",
    "\n",
    "# rcv.fit(X_train, y_train)\n",
    "# predict = rcv.predict(X_test)\n",
    "# predict = np.exp(predict)\n",
    "# MAPE = mean_absolute_percentage_error(y_test, predict) * 100\n",
    "# MAPE"
   ]
  },
  {
   "cell_type": "code",
   "execution_count": 150,
   "metadata": {},
   "outputs": [
    {
     "data": {
      "text/plain": [
       "{'n_estimators': 400,\n",
       " 'min_samples_split': 2,\n",
       " 'min_samples_leaf': 1,\n",
       " 'max_features': 'auto',\n",
       " 'max_depth': 20}"
      ]
     },
     "execution_count": 150,
     "metadata": {},
     "output_type": "execute_result"
    }
   ],
   "source": [
    "# rcv.best_params_"
   ]
  },
  {
   "cell_type": "code",
   "execution_count": 143,
   "metadata": {},
   "outputs": [
    {
     "data": {
      "text/plain": [
       "10.110458943495969"
      ]
     },
     "execution_count": 143,
     "metadata": {},
     "output_type": "execute_result"
    }
   ],
   "source": [
    "rf = RandomForestRegressor(n_estimators=500, random_state=42, n_jobs=-1, max_features='log2')\n",
    "rf.fit(X_train, y_train)\n",
    "predict = rf.predict(X_test)\n",
    "predict = np.exp(predict)\n",
    "MAPE = mean_absolute_percentage_error(y_test, predict)\n",
    "MAPE * 100"
   ]
  },
  {
   "cell_type": "code",
   "execution_count": 116,
   "metadata": {},
   "outputs": [
    {
     "data": {
      "text/plain": [
       "modelDate             0.339626\n",
       "modelDate2            0.298251\n",
       "tax                   0.082755\n",
       "tax2                  0.078838\n",
       "engineDisplacement    0.041895\n",
       "productionDate        0.024735\n",
       "productionDate2       0.024489\n",
       "mileage               0.023126\n",
       "bodyType              0.021537\n",
       "front                 0.015834\n",
       "model_name_hash       0.009354\n",
       "len_description       0.008085\n",
       "brand                 0.007600\n",
       "petrol                0.004712\n",
       "equipment_count       0.003117\n",
       "color                 0.002685\n",
       "automatic             0.002146\n",
       "vendor                0.001539\n",
       "numberOfDoors         0.001515\n",
       "Owners                0.001414\n",
       "dtype: float64"
      ]
     },
     "execution_count": 116,
     "metadata": {},
     "output_type": "execute_result"
    }
   ],
   "source": [
    "feature_importances = pd.Series(rf.feature_importances_, index=X.columns)\n",
    "feature_importances.nlargest(20)"
   ]
  },
  {
   "cell_type": "markdown",
   "metadata": {},
   "source": [
    "### ExtraTreesRegressor"
   ]
  },
  {
   "cell_type": "code",
   "execution_count": null,
   "metadata": {},
   "outputs": [],
   "source": [
    "# param = {'n_estimators': [200],\n",
    "#          'max_features': ['auto'],\n",
    "#          'max_depth': [None, 10, 20, 30, 40],\n",
    "#          'min_samples_split': [1, 2, 5, 10, 20],\n",
    "#          'min_samples_leaf': [1, 2, 4, 8, 12],\n",
    "#          'bootstrap': [True, False]}"
   ]
  },
  {
   "cell_type": "code",
   "execution_count": null,
   "metadata": {},
   "outputs": [],
   "source": [
    "# etr = ExtraTreesRegressor(random_state=42)\n",
    "# rcv = RandomizedSearchCV(estimator=etr, param_distributions=param, cv=3, n_jobs=-1,\n",
    "#                          scoring='neg_mean_absolute_percentage_error', n_iter=20)\n",
    "\n",
    "# rcv.fit(X_train, y_train)\n",
    "# predict = rcv.predict(X_test)\n",
    "# predict = np.exp(predict)\n",
    "# MAPE = mean_absolute_percentage_error(y_test, predict) * 100\n",
    "# MAPE"
   ]
  },
  {
   "cell_type": "code",
   "execution_count": null,
   "metadata": {},
   "outputs": [],
   "source": [
    "# rcv.best_params_"
   ]
  },
  {
   "cell_type": "code",
   "execution_count": 117,
   "metadata": {},
   "outputs": [
    {
     "data": {
      "text/plain": [
       "10.117676928684372"
      ]
     },
     "execution_count": 117,
     "metadata": {},
     "output_type": "execute_result"
    }
   ],
   "source": [
    "etr = ExtraTreesRegressor(n_estimators=500, random_state=42, n_jobs=-1, bootstrap=True)\n",
    "etr.fit(X_train, y_train)\n",
    "predict = etr.predict(X_test)\n",
    "predict = np.exp(predict)\n",
    "MAPE = mean_absolute_percentage_error(y_test, predict)\n",
    "MAPE * 100"
   ]
  },
  {
   "cell_type": "markdown",
   "metadata": {},
   "source": [
    "### CatBoostRegressor"
   ]
  },
  {
   "cell_type": "code",
   "execution_count": 118,
   "metadata": {},
   "outputs": [],
   "source": [
    "# params = {'iterations': [5000],\n",
    "#           'depth': [None, 4, 5, 6, 7],\n",
    "#           'l2_leaf_reg': [0.1, 0.4, 1, 3, 5],\n",
    "#           'random_strength': [0, 0.3, 0.7, 1]}"
   ]
  },
  {
   "cell_type": "code",
   "execution_count": 119,
   "metadata": {},
   "outputs": [],
   "source": [
    "# cbr = CatBoostRegressor(random_seed=20, loss_function='MAPE', \n",
    "#                         eval_metric='MAPE', verbose=0)\n",
    "# rs_cbr = cbr.randomized_search(params, X, y, cv=3, n_iter=20)\n",
    "# rs_cbr['params']"
   ]
  },
  {
   "cell_type": "code",
   "execution_count": 120,
   "metadata": {},
   "outputs": [],
   "source": [
    "cbr = CatBoostRegressor(iterations = 5000,\n",
    "                        random_seed = 30,\n",
    "                        loss_function='MAPE',\n",
    "                        learning_rate=0.06,\n",
    "                        depth=7,\n",
    "                        random_strength=0.3,\n",
    "                        l2_leaf_reg=0.15)\n",
    "\n",
    "cbr.fit(X_train, y_train,\n",
    "        eval_set=(X_test, np.log(y_test)),\n",
    "        verbose_eval=0,\n",
    "        use_best_model=True);"
   ]
  },
  {
   "cell_type": "code",
   "execution_count": 121,
   "metadata": {},
   "outputs": [
    {
     "data": {
      "text/plain": [
       "12.16075817320767"
      ]
     },
     "execution_count": 121,
     "metadata": {},
     "output_type": "execute_result"
    }
   ],
   "source": [
    "predict = np.exp(cbr.predict(X_test))\n",
    "MAPE = mean_absolute_percentage_error(y_test, predict) * 100\n",
    "MAPE"
   ]
  },
  {
   "cell_type": "code",
   "execution_count": 122,
   "metadata": {
    "scrolled": true
   },
   "outputs": [],
   "source": [
    "# predict = np.exp(model.predict(test))"
   ]
  },
  {
   "cell_type": "code",
   "execution_count": 123,
   "metadata": {},
   "outputs": [],
   "source": [
    "# submission = pd.read_csv('sample_submission.csv')\n",
    "# submission['price'] = predict * 0.90\n",
    "# # submission.to_csv('submission-1.csv', index=False)\n",
    "# submission['price'] = np.round(submission['price']*2, -4)/2\n",
    "# # сохранить в файл\n",
    "# submission.to_csv('submission-1.csv', index=False)"
   ]
  },
  {
   "cell_type": "markdown",
   "metadata": {},
   "source": [
    "### LGBMRegressor"
   ]
  },
  {
   "cell_type": "code",
   "execution_count": 124,
   "metadata": {},
   "outputs": [],
   "source": [
    "# param = {'n_estimators': [2500],\n",
    "#          'learning_rate': [0.1],\n",
    "#          'max_depth': [-1, 2, 4, 6],\n",
    "#          'num_leaves': [20, 30 , 40, 50],\n",
    "#          'min_child_samples': [None, 5, 10, 20],\n",
    "#          'lambda_l2': [0.05, 0.1, 0.3, 0.8, 1.5]}"
   ]
  },
  {
   "cell_type": "code",
   "execution_count": 125,
   "metadata": {},
   "outputs": [],
   "source": [
    "# lgbm = LGBMRegressor(objective='regression', random_state=30)\n",
    "# rcv = RandomizedSearchCV(estimator=lgbm, param_distributions=param, cv=3, n_jobs=-1,\n",
    "#                          scoring='neg_mean_absolute_percentage_error', n_iter=15)\n",
    "\n",
    "# rcv.fit(X_train, y_train)\n",
    "# predict = rcv.predict(X_test)\n",
    "# predict = np.exp(predict)\n",
    "# MAPE = mean_absolute_percentage_error(y_test, predict) * 100\n",
    "# MAPE"
   ]
  },
  {
   "cell_type": "code",
   "execution_count": 126,
   "metadata": {},
   "outputs": [],
   "source": [
    "# rcv.best_params_"
   ]
  },
  {
   "cell_type": "code",
   "execution_count": 170,
   "metadata": {
    "scrolled": true
   },
   "outputs": [],
   "source": [
    "lgbm = LGBMRegressor(objective='mape', \n",
    "                     random_state=30,\n",
    "                     n_estimators=2500,\n",
    "                     learning_rate=0.05,\n",
    "                     lambda_l2=0.5)\n",
    "\n",
    "lgbm.fit(X_train, y_train,\n",
    "         eval_set=(X_test, np.log(y_test)))"
   ]
  },
  {
   "cell_type": "code",
   "execution_count": 128,
   "metadata": {},
   "outputs": [
    {
     "data": {
      "text/plain": [
       "12.51181902562931"
      ]
     },
     "execution_count": 128,
     "metadata": {},
     "output_type": "execute_result"
    }
   ],
   "source": [
    "predict = lgbm.predict(X_test)\n",
    "predict = np.exp(predict)\n",
    "MAPE = mean_absolute_percentage_error(y_test, predict) * 100\n",
    "MAPE"
   ]
  },
  {
   "cell_type": "markdown",
   "metadata": {},
   "source": [
    "### Stacking"
   ]
  },
  {
   "cell_type": "code",
   "execution_count": 173,
   "metadata": {},
   "outputs": [],
   "source": [
    "estimators = [('cbr', cbr), ('fr', rf), ('etr', etr), ('lgbm', lgbm)]\n",
    "stacking = StackingRegressor(estimators=estimators,\n",
    "                             final_estimator=Ridge())\n",
    "stacking.fit(X_train, y_train)"
   ]
  },
  {
   "cell_type": "code",
   "execution_count": 168,
   "metadata": {},
   "outputs": [
    {
     "data": {
      "text/plain": [
       "10.17226376276189"
      ]
     },
     "execution_count": 168,
     "metadata": {},
     "output_type": "execute_result"
    }
   ],
   "source": [
    "predict = stacking.predict(X_test)\n",
    "predict = np.exp(predict)\n",
    "MAPE = mean_absolute_percentage_error(y_test, predict) * 100\n",
    "MAPE"
   ]
  },
  {
   "cell_type": "markdown",
   "metadata": {},
   "source": [
    "### Submission"
   ]
  },
  {
   "cell_type": "code",
   "execution_count": 169,
   "metadata": {},
   "outputs": [],
   "source": [
    "predict = np.exp(stacking.predict(test))\n",
    "\n",
    "submission = pd.read_csv('sample_submission.csv')\n",
    "submission['price'] = predict * 0.9\n",
    "submission.to_csv('submission.csv', index=False)"
   ]
  },
  {
   "cell_type": "markdown",
   "metadata": {},
   "source": [
    "## Выводы\n",
    "\n",
    "- RandomForestRegressor - 10.11\n",
    "- ExtraTreesRegressor - 10.11\n",
    "- LGBMRegressor - 12.51\n",
    "- CatBoostRegressor - 12.16\n",
    "- StackingRegressor  - 10.17\n",
    "\n",
    "\n",
    "- Kaggle Score - 13.66704\n",
    "\n",
    "На Kaggle - 33 место\n"
   ]
  },
  {
   "cell_type": "code",
   "execution_count": null,
   "metadata": {},
   "outputs": [],
   "source": []
  }
 ],
 "metadata": {
  "kernelspec": {
   "display_name": "Python 3",
   "language": "python",
   "name": "python3"
  },
  "language_info": {
   "codemirror_mode": {
    "name": "ipython",
    "version": 3
   },
   "file_extension": ".py",
   "mimetype": "text/x-python",
   "name": "python",
   "nbconvert_exporter": "python",
   "pygments_lexer": "ipython3",
   "version": "3.8.3"
  },
  "varInspector": {
   "cols": {
    "lenName": 16,
    "lenType": 16,
    "lenVar": 40
   },
   "kernels_config": {
    "python": {
     "delete_cmd_postfix": "",
     "delete_cmd_prefix": "del ",
     "library": "var_list.py",
     "varRefreshCmd": "print(var_dic_list())"
    },
    "r": {
     "delete_cmd_postfix": ") ",
     "delete_cmd_prefix": "rm(",
     "library": "var_list.r",
     "varRefreshCmd": "cat(var_dic_list()) "
    }
   },
   "types_to_exclude": [
    "module",
    "function",
    "builtin_function_or_method",
    "instance",
    "_Feature"
   ],
   "window_display": false
  }
 },
 "nbformat": 4,
 "nbformat_minor": 5
}
