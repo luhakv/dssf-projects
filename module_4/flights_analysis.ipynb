{
 "cells": [
  {
   "cell_type": "markdown",
   "metadata": {},
   "source": [
    "## Проект 4. Авиарейсы без потерь\n",
    "### Юнит 5. Работа с базами данных. SQL \n",
    "#### Итоговая работа Анны Лубневской\n",
    "#### DSPR-19"
   ]
  },
  {
   "cell_type": "code",
   "execution_count": 2,
   "metadata": {},
   "outputs": [],
   "source": [
    "import numpy as np \n",
    "import pandas as pd \n",
    "\n",
    "import matplotlib.pyplot as plt\n",
    "import seaborn as sns \n",
    "%matplotlib inline\n",
    "\n",
    "import os\n",
    "\n",
    "import re\n",
    "import datetime\n",
    "from datetime import datetime, timedelta"
   ]
  },
  {
   "cell_type": "code",
   "execution_count": 3,
   "metadata": {},
   "outputs": [
    {
     "data": {
      "text/html": [
       "<div>\n",
       "<style scoped>\n",
       "    .dataframe tbody tr th:only-of-type {\n",
       "        vertical-align: middle;\n",
       "    }\n",
       "\n",
       "    .dataframe tbody tr th {\n",
       "        vertical-align: top;\n",
       "    }\n",
       "\n",
       "    .dataframe thead th {\n",
       "        text-align: right;\n",
       "    }\n",
       "</style>\n",
       "<table border=\"1\" class=\"dataframe\">\n",
       "  <thead>\n",
       "    <tr style=\"text-align: right;\">\n",
       "      <th></th>\n",
       "      <th>flight_id</th>\n",
       "      <th>sched_year</th>\n",
       "      <th>sched_month</th>\n",
       "      <th>sched_day</th>\n",
       "      <th>departure_airport</th>\n",
       "      <th>flight_no</th>\n",
       "      <th>arrival_airport</th>\n",
       "      <th>scheduled_departure</th>\n",
       "      <th>scheduled_arrival</th>\n",
       "      <th>delay_departure</th>\n",
       "      <th>...</th>\n",
       "      <th>flights_range_km</th>\n",
       "      <th>class2</th>\n",
       "      <th>ticket_count2</th>\n",
       "      <th>amount_sold2</th>\n",
       "      <th>avg_price_class2</th>\n",
       "      <th>class1</th>\n",
       "      <th>ticket_count1</th>\n",
       "      <th>amount_sold1</th>\n",
       "      <th>avg_price_class1</th>\n",
       "      <th>total_amount</th>\n",
       "    </tr>\n",
       "  </thead>\n",
       "  <tbody>\n",
       "    <tr>\n",
       "      <th>67</th>\n",
       "      <td>136900</td>\n",
       "      <td>2017</td>\n",
       "      <td>2</td>\n",
       "      <td>1</td>\n",
       "      <td>AAQ</td>\n",
       "      <td>PG0480</td>\n",
       "      <td>EGO</td>\n",
       "      <td>2017-02-01 12:25:00</td>\n",
       "      <td>2017-02-01 13:15:00</td>\n",
       "      <td>00:05:00</td>\n",
       "      <td>...</td>\n",
       "      <td>3000</td>\n",
       "      <td>Economy</td>\n",
       "      <td>85.0</td>\n",
       "      <td>538500.0</td>\n",
       "      <td>6335.0</td>\n",
       "      <td>Business</td>\n",
       "      <td>12.0</td>\n",
       "      <td>226800.0</td>\n",
       "      <td>18900.0</td>\n",
       "      <td>765300.0</td>\n",
       "    </tr>\n",
       "    <tr>\n",
       "      <th>86</th>\n",
       "      <td>136769</td>\n",
       "      <td>2017</td>\n",
       "      <td>2</td>\n",
       "      <td>10</td>\n",
       "      <td>AAQ</td>\n",
       "      <td>PG0480</td>\n",
       "      <td>EGO</td>\n",
       "      <td>2017-02-10 12:25:00</td>\n",
       "      <td>2017-02-10 13:15:00</td>\n",
       "      <td>00:05:00</td>\n",
       "      <td>...</td>\n",
       "      <td>3000</td>\n",
       "      <td>Economy</td>\n",
       "      <td>77.0</td>\n",
       "      <td>488100.0</td>\n",
       "      <td>6339.0</td>\n",
       "      <td>Business</td>\n",
       "      <td>11.0</td>\n",
       "      <td>207900.0</td>\n",
       "      <td>18900.0</td>\n",
       "      <td>696000.0</td>\n",
       "    </tr>\n",
       "    <tr>\n",
       "      <th>95</th>\n",
       "      <td>136888</td>\n",
       "      <td>2017</td>\n",
       "      <td>2</td>\n",
       "      <td>14</td>\n",
       "      <td>AAQ</td>\n",
       "      <td>PG0480</td>\n",
       "      <td>EGO</td>\n",
       "      <td>2017-02-14 12:25:00</td>\n",
       "      <td>2017-02-14 13:15:00</td>\n",
       "      <td>00:04:00</td>\n",
       "      <td>...</td>\n",
       "      <td>3000</td>\n",
       "      <td>Economy</td>\n",
       "      <td>69.0</td>\n",
       "      <td>437100.0</td>\n",
       "      <td>6335.0</td>\n",
       "      <td>Business</td>\n",
       "      <td>10.0</td>\n",
       "      <td>189000.0</td>\n",
       "      <td>18900.0</td>\n",
       "      <td>626100.0</td>\n",
       "    </tr>\n",
       "    <tr>\n",
       "      <th>122</th>\n",
       "      <td>136953</td>\n",
       "      <td>2017</td>\n",
       "      <td>2</td>\n",
       "      <td>27</td>\n",
       "      <td>AAQ</td>\n",
       "      <td>PG0480</td>\n",
       "      <td>EGO</td>\n",
       "      <td>2017-02-27 12:25:00</td>\n",
       "      <td>2017-02-27 13:15:00</td>\n",
       "      <td>00:02:00</td>\n",
       "      <td>...</td>\n",
       "      <td>3000</td>\n",
       "      <td>Economy</td>\n",
       "      <td>85.0</td>\n",
       "      <td>538500.0</td>\n",
       "      <td>6335.0</td>\n",
       "      <td>Business</td>\n",
       "      <td>12.0</td>\n",
       "      <td>226800.0</td>\n",
       "      <td>18900.0</td>\n",
       "      <td>765300.0</td>\n",
       "    </tr>\n",
       "  </tbody>\n",
       "</table>\n",
       "<p>4 rows × 30 columns</p>\n",
       "</div>"
      ],
      "text/plain": [
       "     flight_id  sched_year  sched_month  sched_day departure_airport  \\\n",
       "67      136900        2017            2          1               AAQ   \n",
       "86      136769        2017            2         10               AAQ   \n",
       "95      136888        2017            2         14               AAQ   \n",
       "122     136953        2017            2         27               AAQ   \n",
       "\n",
       "    flight_no arrival_airport  scheduled_departure    scheduled_arrival  \\\n",
       "67     PG0480             EGO  2017-02-01 12:25:00  2017-02-01 13:15:00   \n",
       "86     PG0480             EGO  2017-02-10 12:25:00  2017-02-10 13:15:00   \n",
       "95     PG0480             EGO  2017-02-14 12:25:00  2017-02-14 13:15:00   \n",
       "122    PG0480             EGO  2017-02-27 12:25:00  2017-02-27 13:15:00   \n",
       "\n",
       "    delay_departure  ... flights_range_km   class2 ticket_count2 amount_sold2  \\\n",
       "67         00:05:00  ...             3000  Economy          85.0     538500.0   \n",
       "86         00:05:00  ...             3000  Economy          77.0     488100.0   \n",
       "95         00:04:00  ...             3000  Economy          69.0     437100.0   \n",
       "122        00:02:00  ...             3000  Economy          85.0     538500.0   \n",
       "\n",
       "    avg_price_class2    class1 ticket_count1 amount_sold1 avg_price_class1  \\\n",
       "67            6335.0  Business          12.0     226800.0          18900.0   \n",
       "86            6339.0  Business          11.0     207900.0          18900.0   \n",
       "95            6335.0  Business          10.0     189000.0          18900.0   \n",
       "122           6335.0  Business          12.0     226800.0          18900.0   \n",
       "\n",
       "    total_amount  \n",
       "67      765300.0  \n",
       "86      696000.0  \n",
       "95      626100.0  \n",
       "122     765300.0  \n",
       "\n",
       "[4 rows x 30 columns]"
      ]
     },
     "execution_count": 3,
     "metadata": {},
     "output_type": "execute_result"
    }
   ],
   "source": [
    "flight = pd.read_csv('flights.csv')\n",
    "flight.sample(4)"
   ]
  },
  {
   "cell_type": "code",
   "execution_count": 4,
   "metadata": {},
   "outputs": [
    {
     "data": {
      "text/plain": [
       "Index(['flight_id', 'sched_year', 'sched_month', 'sched_day',\n",
       "       'departure_airport', 'flight_no', 'arrival_airport',\n",
       "       'scheduled_departure', 'scheduled_arrival', 'delay_departure', 'status',\n",
       "       'flight_duration', 'city', 'timezone', 'actual_departure',\n",
       "       'actual_arrival', 'delay_arrival', 'aircraft_code', 'manufacturer',\n",
       "       'board_model', 'flights_range_km', 'class2', 'ticket_count2',\n",
       "       'amount_sold2', 'avg_price_class2', 'class1', 'ticket_count1',\n",
       "       'amount_sold1', 'avg_price_class1', 'total_amount'],\n",
       "      dtype='object')"
      ]
     },
     "execution_count": 4,
     "metadata": {},
     "output_type": "execute_result"
    }
   ],
   "source": [
    "flight.columns"
   ]
  },
  {
   "cell_type": "code",
   "execution_count": 5,
   "metadata": {},
   "outputs": [
    {
     "data": {
      "text/plain": [
       "30"
      ]
     },
     "execution_count": 5,
     "metadata": {},
     "output_type": "execute_result"
    }
   ],
   "source": [
    "len(flight.columns)"
   ]
  },
  {
   "cell_type": "code",
   "execution_count": 6,
   "metadata": {},
   "outputs": [
    {
     "data": {
      "text/plain": [
       "Moscow          59\n",
       "Belgorod        59\n",
       "Novokuznetsk     9\n",
       "Name: city, dtype: int64"
      ]
     },
     "execution_count": 6,
     "metadata": {},
     "output_type": "execute_result"
    }
   ],
   "source": [
    "# посмотрим на количество направлений\n",
    "flight['city'].value_counts()"
   ]
  },
  {
   "cell_type": "code",
   "execution_count": 7,
   "metadata": {},
   "outputs": [
    {
     "data": {
      "text/plain": [
       "00:50:00    34\n",
       "01:40:00    27\n",
       "01:39:00    17\n",
       "00:51:00    15\n",
       "00:49:00    10\n",
       "01:41:00     8\n",
       "01:38:00     4\n",
       "01:42:00     2\n",
       "05:10:00     2\n",
       "05:04:00     1\n",
       "01:43:00     1\n",
       "05:12:00     1\n",
       "05:05:00     1\n",
       "05:07:00     1\n",
       "04:59:00     1\n",
       "05:11:00     1\n",
       "05:02:00     1\n",
       "Name: flight_duration, dtype: int64"
      ]
     },
     "execution_count": 7,
     "metadata": {},
     "output_type": "execute_result"
    }
   ],
   "source": [
    "# продолжительность полетов\n",
    "flight['flight_duration'].value_counts().sort_values(ascending=False)"
   ]
  },
  {
   "cell_type": "code",
   "execution_count": 8,
   "metadata": {},
   "outputs": [
    {
     "data": {
      "text/plain": [
       "737-300         68\n",
       "Superjet-100    59\n",
       "Name: board_model, dtype: int64"
      ]
     },
     "execution_count": 8,
     "metadata": {},
     "output_type": "execute_result"
    }
   ],
   "source": [
    "# модель саомлетов\n",
    "flight['board_model'].value_counts()"
   ]
  },
  {
   "cell_type": "code",
   "execution_count": 9,
   "metadata": {},
   "outputs": [
    {
     "data": {
      "text/plain": [
       "PG0252    59\n",
       "PG0480    59\n",
       "PG0194     9\n",
       "Name: flight_no, dtype: int64"
      ]
     },
     "execution_count": 9,
     "metadata": {},
     "output_type": "execute_result"
    }
   ],
   "source": [
    "# количество уникальных рейсов\n",
    "flight['flight_no'].value_counts()"
   ]
  },
  {
   "cell_type": "code",
   "execution_count": 10,
   "metadata": {},
   "outputs": [],
   "source": [
    "# количество мест в самолете по классам обслуживания\n",
    "cabin_size = {'SU9': {'Economy': 85, 'Business':12 },\n",
    "              '733': {'Economy': 118, 'Business':12 }}"
   ]
  },
  {
   "cell_type": "markdown",
   "metadata": {},
   "source": [
    "Рассчитаем расход топлива и стоимость. Для этого посмотрим на цены на 2017 год на сайте [Федерального агенства воздушного транспорта](https://favt.gov.ru/dejatelnost-ajeroporty-i-ajerodromy-ceny-na-aviagsm-statistika-aviagsm/?id=3241).   \n",
    "Предположим, что все заправки осуществлялись  Анапе. Итого имеем:\n",
    "\n",
    "*  январь: 41435 руб\\тонна\n",
    "*  февраль: 39553 руб\\тонна\n",
    "*  декабрь: 47101 руб\\тонна"
   ]
  },
  {
   "cell_type": "code",
   "execution_count": 11,
   "metadata": {},
   "outputs": [],
   "source": [
    "# расход топлива за 1 час полета в кг\n",
    "fuel_consumption = {'SU9': 1.7, '733': 2.4}"
   ]
  },
  {
   "cell_type": "code",
   "execution_count": 12,
   "metadata": {},
   "outputs": [],
   "source": [
    "# стоимость топлива за 1000 кг\n",
    "fuel_cost_2017 = {12: 47101, 1: 41435, 2: 39553}"
   ]
  },
  {
   "cell_type": "code",
   "execution_count": 13,
   "metadata": {},
   "outputs": [],
   "source": [
    "flight['flight_hour'] = flight['flight_duration'].apply(lambda x: re.findall(r\"\\d+\", str(x)))\n",
    "flight['flight_hour'] = flight['flight_hour'].apply(lambda x: round(float(x[0]) + float(x[1])/60, 3))"
   ]
  },
  {
   "cell_type": "code",
   "execution_count": 14,
   "metadata": {},
   "outputs": [],
   "source": [
    "# Далее заполняем пропуски\n",
    "flight.fillna(0, inplace=True)"
   ]
  },
  {
   "cell_type": "code",
   "execution_count": 15,
   "metadata": {},
   "outputs": [
    {
     "name": "stdout",
     "output_type": "stream",
     "text": [
      "<class 'pandas.core.frame.DataFrame'>\n",
      "RangeIndex: 127 entries, 0 to 126\n",
      "Data columns (total 31 columns):\n",
      " #   Column               Non-Null Count  Dtype  \n",
      "---  ------               --------------  -----  \n",
      " 0   flight_id            127 non-null    int64  \n",
      " 1   sched_year           127 non-null    int64  \n",
      " 2   sched_month          127 non-null    int64  \n",
      " 3   sched_day            127 non-null    int64  \n",
      " 4   departure_airport    127 non-null    object \n",
      " 5   flight_no            127 non-null    object \n",
      " 6   arrival_airport      127 non-null    object \n",
      " 7   scheduled_departure  127 non-null    object \n",
      " 8   scheduled_arrival    127 non-null    object \n",
      " 9   delay_departure      127 non-null    object \n",
      " 10  status               127 non-null    object \n",
      " 11  flight_duration      127 non-null    object \n",
      " 12  city                 127 non-null    object \n",
      " 13  timezone             127 non-null    object \n",
      " 14  actual_departure     127 non-null    object \n",
      " 15  actual_arrival       127 non-null    object \n",
      " 16  delay_arrival        127 non-null    object \n",
      " 17  aircraft_code        127 non-null    object \n",
      " 18  manufacturer         127 non-null    object \n",
      " 19  board_model          127 non-null    object \n",
      " 20  flights_range_km     127 non-null    int64  \n",
      " 21  class2               127 non-null    object \n",
      " 22  ticket_count2        127 non-null    float64\n",
      " 23  amount_sold2         127 non-null    float64\n",
      " 24  avg_price_class2     127 non-null    float64\n",
      " 25  class1               127 non-null    object \n",
      " 26  ticket_count1        127 non-null    float64\n",
      " 27  amount_sold1         127 non-null    float64\n",
      " 28  avg_price_class1     127 non-null    float64\n",
      " 29  total_amount         127 non-null    float64\n",
      " 30  flight_hour          127 non-null    float64\n",
      "dtypes: float64(8), int64(5), object(18)\n",
      "memory usage: 30.9+ KB\n"
     ]
    }
   ],
   "source": [
    "flight.info()"
   ]
  },
  {
   "cell_type": "code",
   "execution_count": 16,
   "metadata": {},
   "outputs": [],
   "source": [
    "flight['flight_costs'] = flight.apply(lambda row: row['flight_hour'] \n",
    "                                      * fuel_cost_2017[row['sched_month']] \n",
    "                                      * fuel_consumption[row['aircraft_code']], axis=1 )"
   ]
  },
  {
   "cell_type": "code",
   "execution_count": 17,
   "metadata": {},
   "outputs": [],
   "source": [
    "flight['flight_profit'] = flight['total_amount'] - flight['flight_costs']\n",
    "\n",
    "flight['flight_profit'] = flight['flight_profit'].apply(lambda x: int(x))\n",
    "\n",
    "flight['total_amount'] = flight['total_amount'].apply(lambda x: int(x))\n",
    "\n",
    "flight['flight_profit'] = flight['flight_profit'].apply(lambda x: int(x))"
   ]
  },
  {
   "cell_type": "code",
   "execution_count": 18,
   "metadata": {},
   "outputs": [
    {
     "data": {
      "text/plain": [
       "Index(['flight_id', 'sched_year', 'sched_month', 'sched_day',\n",
       "       'departure_airport', 'flight_no', 'arrival_airport',\n",
       "       'scheduled_departure', 'scheduled_arrival', 'delay_departure', 'status',\n",
       "       'flight_duration', 'city', 'timezone', 'actual_departure',\n",
       "       'actual_arrival', 'delay_arrival', 'aircraft_code', 'manufacturer',\n",
       "       'board_model', 'flights_range_km', 'class2', 'ticket_count2',\n",
       "       'amount_sold2', 'avg_price_class2', 'class1', 'ticket_count1',\n",
       "       'amount_sold1', 'avg_price_class1', 'total_amount', 'flight_hour',\n",
       "       'flight_costs', 'flight_profit'],\n",
       "      dtype='object')"
      ]
     },
     "execution_count": 18,
     "metadata": {},
     "output_type": "execute_result"
    }
   ],
   "source": [
    "flight.columns"
   ]
  },
  {
   "cell_type": "code",
   "execution_count": 19,
   "metadata": {},
   "outputs": [
    {
     "data": {
      "text/plain": [
       "<matplotlib.axes._subplots.AxesSubplot at 0x7fec28d43130>"
      ]
     },
     "execution_count": 19,
     "metadata": {},
     "output_type": "execute_result"
    },
    {
     "data": {
      "image/png": "[encoded data removed]",
      "text/plain": [
       "<Figure size 432x288 with 1 Axes>"
      ]
     },
     "metadata": {
      "needs_background": "light"
     },
     "output_type": "display_data"
    }
   ],
   "source": [
    "flight['flight_profit'].plot(kind='hist', grid=True, title='Предполагаемая доходность', color = '#00CED1')"
   ]
  },
  {
   "cell_type": "code",
   "execution_count": 20,
   "metadata": {},
   "outputs": [
    {
     "data": {
      "text/plain": [
       "<matplotlib.axes._subplots.AxesSubplot at 0x7fec284f7b20>"
      ]
     },
     "execution_count": 20,
     "metadata": {},
     "output_type": "execute_result"
    },
    {
     "data": {
      "image/png": "[encoded data removed]",
      "text/plain": [
       "<Figure size 432x288 with 1 Axes>"
      ]
     },
     "metadata": {
      "needs_background": "light"
     },
     "output_type": "display_data"
    }
   ],
   "source": [
    "flight.groupby(by = ['sched_month', 'flight_no'])['flight_profit'].sum().plot(kind = 'bar', grid= True, color = '#00CED1')"
   ]
  },
  {
   "cell_type": "code",
   "execution_count": 214,
   "metadata": {},
   "outputs": [
    {
     "data": {
      "text/plain": [
       "<matplotlib.axes._subplots.AxesSubplot at 0x7f91b5b2e6a0>"
      ]
     },
     "execution_count": 214,
     "metadata": {},
     "output_type": "execute_result"
    },
    {
     "data": {
      "image/png": "[encoded data removed]",
      "text/plain": [
       "<Figure size 432x288 with 1 Axes>"
      ]
     },
     "metadata": {
      "needs_background": "light"
     },
     "output_type": "display_data"
    }
   ],
   "source": [
    "# число рейсов\n",
    "flight.groupby(by = ['sched_month', 'city'])['flight_profit'].count().plot(kind = 'bar', grid= True, color = '#00CED1')"
   ]
  },
  {
   "cell_type": "code",
   "execution_count": 215,
   "metadata": {},
   "outputs": [
    {
     "data": {
      "text/plain": [
       "<matplotlib.axes._subplots.AxesSubplot at 0x7f91b5b126d0>"
      ]
     },
     "execution_count": 215,
     "metadata": {},
     "output_type": "execute_result"
    },
    {
     "data": {
      "image/png": "[encoded data removed]",
      "text/plain": [
       "<Figure size 432x288 with 1 Axes>"
      ]
     },
     "metadata": {
      "needs_background": "light"
     },
     "output_type": "display_data"
    }
   ],
   "source": [
    "# средняя прибыль по городам с группировкой по месяцам\n",
    "flight.groupby(by = ['sched_month', 'city'])['flight_profit'].mean().plot(kind = 'bar', grid= True, color = '#00CED1')"
   ]
  },
  {
   "cell_type": "code",
   "execution_count": 216,
   "metadata": {},
   "outputs": [
    {
     "data": {
      "text/plain": [
       "<matplotlib.axes._subplots.AxesSubplot at 0x7f91b5a85070>"
      ]
     },
     "execution_count": 216,
     "metadata": {},
     "output_type": "execute_result"
    },
    {
     "data": {
      "image/png": "[encoded data removed]",
      "text/plain": [
       "<Figure size 432x288 with 1 Axes>"
      ]
     },
     "metadata": {
      "needs_background": "light"
     },
     "output_type": "display_data"
    }
   ],
   "source": [
    "# суммарная прибыль по рейсам с группировкой по месяцам\n",
    "flight.groupby(by = ['sched_month', 'city'])['flight_profit'].sum().plot(kind = 'bar', grid= True, color = '#00CED1')"
   ]
  },
  {
   "cell_type": "code",
   "execution_count": 222,
   "metadata": {},
   "outputs": [
    {
     "data": {
      "text/plain": [
       "[<matplotlib.lines.Line2D at 0x7f91b4d02b20>]"
      ]
     },
     "execution_count": 222,
     "metadata": {},
     "output_type": "execute_result"
    },
    {
     "data": {
      "image/png": "[encoded data removed]",
      "text/plain": [
       "<Figure size 1080x216 with 1 Axes>"
      ]
     },
     "metadata": {
      "needs_background": "light"
     },
     "output_type": "display_data"
    }
   ],
   "source": [
    "fig = plt.figure(figsize=(15, 3))\n",
    "axes = fig.add_axes([0,0,1,1])\n",
    "axes.plot(flight['scheduled_departure'], flight['total_amount']) \n",
    "axes.plot(flight['scheduled_departure'], flight['flight_costs'], linestyle='-') \n",
    "axes.plot(flight['scheduled_departure'], flight['flight_profit'], linestyle='--')"
   ]
  },
  {
   "cell_type": "code",
   "execution_count": 185,
   "metadata": {},
   "outputs": [
    {
     "data": {
      "text/html": [
       "<div>\n",
       "<style scoped>\n",
       "    .dataframe tbody tr th:only-of-type {\n",
       "        vertical-align: middle;\n",
       "    }\n",
       "\n",
       "    .dataframe tbody tr th {\n",
       "        vertical-align: top;\n",
       "    }\n",
       "\n",
       "    .dataframe thead th {\n",
       "        text-align: right;\n",
       "    }\n",
       "</style>\n",
       "<table border=\"1\" class=\"dataframe\">\n",
       "  <thead>\n",
       "    <tr style=\"text-align: right;\">\n",
       "      <th></th>\n",
       "      <th>flight_id</th>\n",
       "      <th>sched_month</th>\n",
       "      <th>flight_no</th>\n",
       "      <th>flight_duration</th>\n",
       "      <th>city</th>\n",
       "      <th>aircraft_code</th>\n",
       "      <th>total_amount</th>\n",
       "      <th>flight_hour</th>\n",
       "      <th>flight_costs</th>\n",
       "      <th>flight_profit</th>\n",
       "    </tr>\n",
       "  </thead>\n",
       "  <tbody>\n",
       "    <tr>\n",
       "      <th>23</th>\n",
       "      <td>136366</td>\n",
       "      <td>1</td>\n",
       "      <td>PG0252</td>\n",
       "      <td>01:39:00</td>\n",
       "      <td>Moscow</td>\n",
       "      <td>733</td>\n",
       "      <td>1527400</td>\n",
       "      <td>1.650</td>\n",
       "      <td>164082.6000</td>\n",
       "      <td>1363317</td>\n",
       "    </tr>\n",
       "    <tr>\n",
       "      <th>79</th>\n",
       "      <td>136514</td>\n",
       "      <td>2</td>\n",
       "      <td>PG0194</td>\n",
       "      <td>04:59:00</td>\n",
       "      <td>Novokuznetsk</td>\n",
       "      <td>733</td>\n",
       "      <td>0</td>\n",
       "      <td>4.983</td>\n",
       "      <td>473022.2376</td>\n",
       "      <td>-473022</td>\n",
       "    </tr>\n",
       "    <tr>\n",
       "      <th>47</th>\n",
       "      <td>136767</td>\n",
       "      <td>1</td>\n",
       "      <td>PG0480</td>\n",
       "      <td>00:51:00</td>\n",
       "      <td>Belgorod</td>\n",
       "      <td>SU9</td>\n",
       "      <td>651300</td>\n",
       "      <td>0.850</td>\n",
       "      <td>59873.5750</td>\n",
       "      <td>591426</td>\n",
       "    </tr>\n",
       "    <tr>\n",
       "      <th>24</th>\n",
       "      <td>136758</td>\n",
       "      <td>1</td>\n",
       "      <td>PG0480</td>\n",
       "      <td>00:49:00</td>\n",
       "      <td>Belgorod</td>\n",
       "      <td>SU9</td>\n",
       "      <td>765300</td>\n",
       "      <td>0.817</td>\n",
       "      <td>57549.0715</td>\n",
       "      <td>707750</td>\n",
       "    </tr>\n",
       "    <tr>\n",
       "      <th>48</th>\n",
       "      <td>136293</td>\n",
       "      <td>1</td>\n",
       "      <td>PG0252</td>\n",
       "      <td>01:39:00</td>\n",
       "      <td>Moscow</td>\n",
       "      <td>733</td>\n",
       "      <td>1689600</td>\n",
       "      <td>1.650</td>\n",
       "      <td>164082.6000</td>\n",
       "      <td>1525517</td>\n",
       "    </tr>\n",
       "  </tbody>\n",
       "</table>\n",
       "</div>"
      ],
      "text/plain": [
       "    flight_id  sched_month flight_no flight_duration          city  \\\n",
       "23     136366            1    PG0252        01:39:00        Moscow   \n",
       "79     136514            2    PG0194        04:59:00  Novokuznetsk   \n",
       "47     136767            1    PG0480        00:51:00      Belgorod   \n",
       "24     136758            1    PG0480        00:49:00      Belgorod   \n",
       "48     136293            1    PG0252        01:39:00        Moscow   \n",
       "\n",
       "   aircraft_code  total_amount  flight_hour  flight_costs  flight_profit  \n",
       "23           733       1527400        1.650   164082.6000        1363317  \n",
       "79           733             0        4.983   473022.2376        -473022  \n",
       "47           SU9        651300        0.850    59873.5750         591426  \n",
       "24           SU9        765300        0.817    57549.0715         707750  \n",
       "48           733       1689600        1.650   164082.6000        1525517  "
      ]
     },
     "execution_count": 185,
     "metadata": {},
     "output_type": "execute_result"
    }
   ],
   "source": [
    "# исппользуем из датасета только часть полей для анализа\n",
    "fl = flight[['flight_id', 'sched_month', 'flight_no', 'flight_duration', 'city',\n",
    "        'aircraft_code', 'total_amount', 'flight_hour', 'flight_costs', 'flight_profit' ]]\n",
    "\n",
    "fl.sample(5)"
   ]
  },
  {
   "cell_type": "code",
   "execution_count": 186,
   "metadata": {},
   "outputs": [
    {
     "data": {
      "text/plain": [
       "(10,\n",
       " Index(['flight_id', 'sched_month', 'flight_no', 'flight_duration', 'city',\n",
       "        'aircraft_code', 'total_amount', 'flight_hour', 'flight_costs',\n",
       "        'flight_profit'],\n",
       "       dtype='object'))"
      ]
     },
     "execution_count": 186,
     "metadata": {},
     "output_type": "execute_result"
    }
   ],
   "source": [
    "len(fl.columns), fl.columns"
   ]
  },
  {
   "cell_type": "code",
   "execution_count": 187,
   "metadata": {},
   "outputs": [
    {
     "data": {
      "text/plain": [
       "city\n",
       "Belgorod        41915700\n",
       "Moscow          96912000\n",
       "Novokuznetsk           0\n",
       "Name: total_amount, dtype: int64"
      ]
     },
     "execution_count": 187,
     "metadata": {},
     "output_type": "execute_result"
    }
   ],
   "source": [
    "fl.groupby(['city'])['total_amount'].sum()"
   ]
  },
  {
   "cell_type": "code",
   "execution_count": 188,
   "metadata": {},
   "outputs": [
    {
     "data": {
      "text/plain": [
       "city\n",
       "Novokuznetsk    9\n",
       "Name: flight_no, dtype: int64"
      ]
     },
     "execution_count": 188,
     "metadata": {},
     "output_type": "execute_result"
    }
   ],
   "source": [
    "fl[fl['total_amount'] <= 0].groupby(['city'])['flight_no'].count()"
   ]
  },
  {
   "cell_type": "code",
   "execution_count": 189,
   "metadata": {},
   "outputs": [
    {
     "data": {
      "text/html": [
       "<div>\n",
       "<style scoped>\n",
       "    .dataframe tbody tr th:only-of-type {\n",
       "        vertical-align: middle;\n",
       "    }\n",
       "\n",
       "    .dataframe tbody tr th {\n",
       "        vertical-align: top;\n",
       "    }\n",
       "\n",
       "    .dataframe thead th {\n",
       "        text-align: right;\n",
       "    }\n",
       "</style>\n",
       "<table border=\"1\" class=\"dataframe\">\n",
       "  <thead>\n",
       "    <tr style=\"text-align: right;\">\n",
       "      <th></th>\n",
       "      <th>flight_id</th>\n",
       "      <th>sched_month</th>\n",
       "      <th>flight_no</th>\n",
       "      <th>flight_duration</th>\n",
       "      <th>city</th>\n",
       "      <th>aircraft_code</th>\n",
       "      <th>total_amount</th>\n",
       "      <th>flight_hour</th>\n",
       "      <th>flight_costs</th>\n",
       "      <th>flight_profit</th>\n",
       "    </tr>\n",
       "  </thead>\n",
       "  <tbody>\n",
       "    <tr>\n",
       "      <th>4</th>\n",
       "      <td>136546</td>\n",
       "      <td>1</td>\n",
       "      <td>PG0194</td>\n",
       "      <td>05:02:00</td>\n",
       "      <td>Novokuznetsk</td>\n",
       "      <td>733</td>\n",
       "      <td>0</td>\n",
       "      <td>5.033</td>\n",
       "      <td>500501.6520</td>\n",
       "      <td>-500501</td>\n",
       "    </tr>\n",
       "    <tr>\n",
       "      <th>19</th>\n",
       "      <td>136523</td>\n",
       "      <td>1</td>\n",
       "      <td>PG0194</td>\n",
       "      <td>05:12:00</td>\n",
       "      <td>Novokuznetsk</td>\n",
       "      <td>733</td>\n",
       "      <td>0</td>\n",
       "      <td>5.200</td>\n",
       "      <td>517108.8000</td>\n",
       "      <td>-517108</td>\n",
       "    </tr>\n",
       "    <tr>\n",
       "      <th>34</th>\n",
       "      <td>136540</td>\n",
       "      <td>1</td>\n",
       "      <td>PG0194</td>\n",
       "      <td>05:07:00</td>\n",
       "      <td>Novokuznetsk</td>\n",
       "      <td>733</td>\n",
       "      <td>0</td>\n",
       "      <td>5.117</td>\n",
       "      <td>508854.9480</td>\n",
       "      <td>-508854</td>\n",
       "    </tr>\n",
       "    <tr>\n",
       "      <th>49</th>\n",
       "      <td>136560</td>\n",
       "      <td>1</td>\n",
       "      <td>PG0194</td>\n",
       "      <td>05:05:00</td>\n",
       "      <td>Novokuznetsk</td>\n",
       "      <td>733</td>\n",
       "      <td>0</td>\n",
       "      <td>5.083</td>\n",
       "      <td>505473.8520</td>\n",
       "      <td>-505473</td>\n",
       "    </tr>\n",
       "    <tr>\n",
       "      <th>64</th>\n",
       "      <td>136544</td>\n",
       "      <td>1</td>\n",
       "      <td>PG0194</td>\n",
       "      <td>05:04:00</td>\n",
       "      <td>Novokuznetsk</td>\n",
       "      <td>733</td>\n",
       "      <td>0</td>\n",
       "      <td>5.067</td>\n",
       "      <td>503882.7480</td>\n",
       "      <td>-503882</td>\n",
       "    </tr>\n",
       "    <tr>\n",
       "      <th>79</th>\n",
       "      <td>136514</td>\n",
       "      <td>2</td>\n",
       "      <td>PG0194</td>\n",
       "      <td>04:59:00</td>\n",
       "      <td>Novokuznetsk</td>\n",
       "      <td>733</td>\n",
       "      <td>0</td>\n",
       "      <td>4.983</td>\n",
       "      <td>473022.2376</td>\n",
       "      <td>-473022</td>\n",
       "    </tr>\n",
       "    <tr>\n",
       "      <th>94</th>\n",
       "      <td>136567</td>\n",
       "      <td>2</td>\n",
       "      <td>PG0194</td>\n",
       "      <td>05:11:00</td>\n",
       "      <td>Novokuznetsk</td>\n",
       "      <td>733</td>\n",
       "      <td>0</td>\n",
       "      <td>5.183</td>\n",
       "      <td>492007.6776</td>\n",
       "      <td>-492007</td>\n",
       "    </tr>\n",
       "    <tr>\n",
       "      <th>109</th>\n",
       "      <td>136511</td>\n",
       "      <td>2</td>\n",
       "      <td>PG0194</td>\n",
       "      <td>05:10:00</td>\n",
       "      <td>Novokuznetsk</td>\n",
       "      <td>733</td>\n",
       "      <td>0</td>\n",
       "      <td>5.167</td>\n",
       "      <td>490488.8424</td>\n",
       "      <td>-490488</td>\n",
       "    </tr>\n",
       "    <tr>\n",
       "      <th>124</th>\n",
       "      <td>136513</td>\n",
       "      <td>2</td>\n",
       "      <td>PG0194</td>\n",
       "      <td>05:10:00</td>\n",
       "      <td>Novokuznetsk</td>\n",
       "      <td>733</td>\n",
       "      <td>0</td>\n",
       "      <td>5.167</td>\n",
       "      <td>490488.8424</td>\n",
       "      <td>-490488</td>\n",
       "    </tr>\n",
       "  </tbody>\n",
       "</table>\n",
       "</div>"
      ],
      "text/plain": [
       "     flight_id  sched_month flight_no flight_duration          city  \\\n",
       "4       136546            1    PG0194        05:02:00  Novokuznetsk   \n",
       "19      136523            1    PG0194        05:12:00  Novokuznetsk   \n",
       "34      136540            1    PG0194        05:07:00  Novokuznetsk   \n",
       "49      136560            1    PG0194        05:05:00  Novokuznetsk   \n",
       "64      136544            1    PG0194        05:04:00  Novokuznetsk   \n",
       "79      136514            2    PG0194        04:59:00  Novokuznetsk   \n",
       "94      136567            2    PG0194        05:11:00  Novokuznetsk   \n",
       "109     136511            2    PG0194        05:10:00  Novokuznetsk   \n",
       "124     136513            2    PG0194        05:10:00  Novokuznetsk   \n",
       "\n",
       "    aircraft_code  total_amount  flight_hour  flight_costs  flight_profit  \n",
       "4             733             0        5.033   500501.6520        -500501  \n",
       "19            733             0        5.200   517108.8000        -517108  \n",
       "34            733             0        5.117   508854.9480        -508854  \n",
       "49            733             0        5.083   505473.8520        -505473  \n",
       "64            733             0        5.067   503882.7480        -503882  \n",
       "79            733             0        4.983   473022.2376        -473022  \n",
       "94            733             0        5.183   492007.6776        -492007  \n",
       "109           733             0        5.167   490488.8424        -490488  \n",
       "124           733             0        5.167   490488.8424        -490488  "
      ]
     },
     "execution_count": 189,
     "metadata": {},
     "output_type": "execute_result"
    }
   ],
   "source": [
    "# выводим убыточный рейс\n",
    "fl.query('total_amount <= 0')"
   ]
  },
  {
   "cell_type": "code",
   "execution_count": 190,
   "metadata": {},
   "outputs": [
    {
     "data": {
      "text/plain": [
       "flight_no\n",
       "PG0194   -4481823\n",
       "Name: flight_profit, dtype: int64"
      ]
     },
     "execution_count": 190,
     "metadata": {},
     "output_type": "execute_result"
    }
   ],
   "source": [
    "# суммарный предпологаемый убыток по рейсу в Новокузнецк\n",
    "fl.query('flight_no == \"PG0194\"').groupby('flight_no')['flight_profit'].sum()"
   ]
  },
  {
   "cell_type": "markdown",
   "metadata": {},
   "source": [
    "Помечаем себе эти данные для отчета:  \n",
    "Размер убытка: -4,481 млн руб (либо по данному рейсу нет данных)"
   ]
  },
  {
   "cell_type": "markdown",
   "metadata": {},
   "source": [
    "### Уберем лишние данные"
   ]
  },
  {
   "cell_type": "code",
   "execution_count": 191,
   "metadata": {},
   "outputs": [
    {
     "data": {
      "text/plain": [
       "(118, 10)"
      ]
     },
     "execution_count": 191,
     "metadata": {},
     "output_type": "execute_result"
    }
   ],
   "source": [
    "fl = fl.query('total_amount > 0')\n",
    "fl.shape"
   ]
  },
  {
   "cell_type": "code",
   "execution_count": 192,
   "metadata": {},
   "outputs": [
    {
     "data": {
      "text/plain": [
       "flight_id            136900\n",
       "sched_month               2\n",
       "flight_no            PG0480\n",
       "flight_duration    00:51:00\n",
       "city               Belgorod\n",
       "aircraft_code           SU9\n",
       "total_amount         765300\n",
       "flight_hour            0.85\n",
       "flight_costs        57154.1\n",
       "flight_profit        708145\n",
       "Name: 67, dtype: object"
      ]
     },
     "execution_count": 192,
     "metadata": {},
     "output_type": "execute_result"
    }
   ],
   "source": [
    "fl.iloc[fl['flight_profit'].idxmin()]"
   ]
  },
  {
   "cell_type": "code",
   "execution_count": 193,
   "metadata": {},
   "outputs": [
    {
     "data": {
      "text/plain": [
       "473450"
      ]
     },
     "execution_count": 193,
     "metadata": {},
     "output_type": "execute_result"
    }
   ],
   "source": [
    "fl['flight_profit'].min()"
   ]
  },
  {
   "cell_type": "code",
   "execution_count": 194,
   "metadata": {},
   "outputs": [
    {
     "data": {
      "text/plain": [
       "1720226"
      ]
     },
     "execution_count": 194,
     "metadata": {},
     "output_type": "execute_result"
    }
   ],
   "source": [
    "fl['flight_profit'].max()"
   ]
  },
  {
   "cell_type": "markdown",
   "metadata": {},
   "source": [
    "### Средняя ожидаемая прибыль по рейсам\n"
   ]
  },
  {
   "cell_type": "code",
   "execution_count": 195,
   "metadata": {},
   "outputs": [
    {
     "data": {
      "text/plain": [
       "flight_no\n",
       "PG0252    1.480679e+06\n",
       "PG0480    6.529121e+05\n",
       "Name: flight_profit, dtype: float64"
      ]
     },
     "execution_count": 195,
     "metadata": {},
     "output_type": "execute_result"
    }
   ],
   "source": [
    "# средняя прибыль по рейсам\n",
    "fl.groupby(['flight_no'])['flight_profit'].mean()"
   ]
  },
  {
   "cell_type": "code",
   "execution_count": 196,
   "metadata": {},
   "outputs": [
    {
     "data": {
      "text/plain": [
       "flight_no\n",
       "PG0252    87360076\n",
       "PG0480    38521815\n",
       "Name: flight_profit, dtype: int64"
      ]
     },
     "execution_count": 196,
     "metadata": {},
     "output_type": "execute_result"
    }
   ],
   "source": [
    "# суммарная прибыль по рейсам\n",
    "fl.groupby(['flight_no'])['flight_profit'].sum()"
   ]
  },
  {
   "cell_type": "code",
   "execution_count": 197,
   "metadata": {},
   "outputs": [
    {
     "data": {
      "text/plain": [
       "flight_no  sched_month\n",
       "PG0252     1              1.488752e+06\n",
       "           2              1.471741e+06\n",
       "PG0480     1              6.530378e+05\n",
       "           2              6.527730e+05\n",
       "Name: flight_profit, dtype: float64"
      ]
     },
     "execution_count": 197,
     "metadata": {},
     "output_type": "execute_result"
    }
   ],
   "source": [
    "# средняя прибыль по рейсам и месяцам\n",
    "fl.groupby(['flight_no', 'sched_month'])['flight_profit'].mean()"
   ]
  },
  {
   "cell_type": "code",
   "execution_count": 198,
   "metadata": {},
   "outputs": [
    {
     "data": {
      "text/html": [
       "<div>\n",
       "<style scoped>\n",
       "    .dataframe tbody tr th:only-of-type {\n",
       "        vertical-align: middle;\n",
       "    }\n",
       "\n",
       "    .dataframe tbody tr th {\n",
       "        vertical-align: top;\n",
       "    }\n",
       "\n",
       "    .dataframe thead th {\n",
       "        text-align: right;\n",
       "    }\n",
       "</style>\n",
       "<table border=\"1\" class=\"dataframe\">\n",
       "  <thead>\n",
       "    <tr style=\"text-align: right;\">\n",
       "      <th></th>\n",
       "      <th>flight_id</th>\n",
       "      <th>sched_month</th>\n",
       "      <th>flight_no</th>\n",
       "      <th>flight_duration</th>\n",
       "      <th>city</th>\n",
       "      <th>aircraft_code</th>\n",
       "      <th>total_amount</th>\n",
       "      <th>flight_hour</th>\n",
       "      <th>flight_costs</th>\n",
       "      <th>flight_profit</th>\n",
       "    </tr>\n",
       "  </thead>\n",
       "  <tbody>\n",
       "    <tr>\n",
       "      <th>23</th>\n",
       "      <td>136366</td>\n",
       "      <td>1</td>\n",
       "      <td>PG0252</td>\n",
       "      <td>01:39:00</td>\n",
       "      <td>Moscow</td>\n",
       "      <td>733</td>\n",
       "      <td>1527400</td>\n",
       "      <td>1.650</td>\n",
       "      <td>164082.6000</td>\n",
       "      <td>1363317</td>\n",
       "    </tr>\n",
       "    <tr>\n",
       "      <th>113</th>\n",
       "      <td>136165</td>\n",
       "      <td>2</td>\n",
       "      <td>PG0252</td>\n",
       "      <td>01:41:00</td>\n",
       "      <td>Moscow</td>\n",
       "      <td>733</td>\n",
       "      <td>1567600</td>\n",
       "      <td>1.683</td>\n",
       "      <td>159762.4776</td>\n",
       "      <td>1407837</td>\n",
       "    </tr>\n",
       "    <tr>\n",
       "      <th>111</th>\n",
       "      <td>136479</td>\n",
       "      <td>2</td>\n",
       "      <td>PG0252</td>\n",
       "      <td>01:39:00</td>\n",
       "      <td>Moscow</td>\n",
       "      <td>733</td>\n",
       "      <td>1738400</td>\n",
       "      <td>1.650</td>\n",
       "      <td>156629.8800</td>\n",
       "      <td>1581770</td>\n",
       "    </tr>\n",
       "    <tr>\n",
       "      <th>123</th>\n",
       "      <td>136266</td>\n",
       "      <td>2</td>\n",
       "      <td>PG0252</td>\n",
       "      <td>01:40:00</td>\n",
       "      <td>Moscow</td>\n",
       "      <td>733</td>\n",
       "      <td>1566400</td>\n",
       "      <td>1.667</td>\n",
       "      <td>158243.6424</td>\n",
       "      <td>1408156</td>\n",
       "    </tr>\n",
       "    <tr>\n",
       "      <th>100</th>\n",
       "      <td>136268</td>\n",
       "      <td>2</td>\n",
       "      <td>PG0252</td>\n",
       "      <td>01:41:00</td>\n",
       "      <td>Moscow</td>\n",
       "      <td>733</td>\n",
       "      <td>1676200</td>\n",
       "      <td>1.683</td>\n",
       "      <td>159762.4776</td>\n",
       "      <td>1516437</td>\n",
       "    </tr>\n",
       "  </tbody>\n",
       "</table>\n",
       "</div>"
      ],
      "text/plain": [
       "     flight_id  sched_month flight_no flight_duration    city aircraft_code  \\\n",
       "23      136366            1    PG0252        01:39:00  Moscow           733   \n",
       "113     136165            2    PG0252        01:41:00  Moscow           733   \n",
       "111     136479            2    PG0252        01:39:00  Moscow           733   \n",
       "123     136266            2    PG0252        01:40:00  Moscow           733   \n",
       "100     136268            2    PG0252        01:41:00  Moscow           733   \n",
       "\n",
       "     total_amount  flight_hour  flight_costs  flight_profit  \n",
       "23        1527400        1.650   164082.6000        1363317  \n",
       "113       1567600        1.683   159762.4776        1407837  \n",
       "111       1738400        1.650   156629.8800        1581770  \n",
       "123       1566400        1.667   158243.6424        1408156  \n",
       "100       1676200        1.683   159762.4776        1516437  "
      ]
     },
     "execution_count": 198,
     "metadata": {},
     "output_type": "execute_result"
    }
   ],
   "source": [
    "fl.query('flight_no == \"PG0252\"').sample(5)"
   ]
  },
  {
   "cell_type": "code",
   "execution_count": 199,
   "metadata": {},
   "outputs": [
    {
     "data": {
      "text/html": [
       "<div>\n",
       "<style scoped>\n",
       "    .dataframe tbody tr th:only-of-type {\n",
       "        vertical-align: middle;\n",
       "    }\n",
       "\n",
       "    .dataframe tbody tr th {\n",
       "        vertical-align: top;\n",
       "    }\n",
       "\n",
       "    .dataframe thead th {\n",
       "        text-align: right;\n",
       "    }\n",
       "</style>\n",
       "<table border=\"1\" class=\"dataframe\">\n",
       "  <thead>\n",
       "    <tr style=\"text-align: right;\">\n",
       "      <th></th>\n",
       "      <th>flight_id</th>\n",
       "      <th>sched_month</th>\n",
       "      <th>flight_no</th>\n",
       "      <th>flight_duration</th>\n",
       "      <th>city</th>\n",
       "      <th>aircraft_code</th>\n",
       "      <th>total_amount</th>\n",
       "      <th>flight_hour</th>\n",
       "      <th>flight_costs</th>\n",
       "      <th>flight_profit</th>\n",
       "    </tr>\n",
       "  </thead>\n",
       "  <tbody>\n",
       "    <tr>\n",
       "      <th>101</th>\n",
       "      <td>136620</td>\n",
       "      <td>2</td>\n",
       "      <td>PG0480</td>\n",
       "      <td>00:49:00</td>\n",
       "      <td>Belgorod</td>\n",
       "      <td>SU9</td>\n",
       "      <td>613500</td>\n",
       "      <td>0.817</td>\n",
       "      <td>54935.1617</td>\n",
       "      <td>558564</td>\n",
       "    </tr>\n",
       "    <tr>\n",
       "      <th>105</th>\n",
       "      <td>136815</td>\n",
       "      <td>2</td>\n",
       "      <td>PG0480</td>\n",
       "      <td>00:51:00</td>\n",
       "      <td>Belgorod</td>\n",
       "      <td>SU9</td>\n",
       "      <td>765300</td>\n",
       "      <td>0.850</td>\n",
       "      <td>57154.0850</td>\n",
       "      <td>708145</td>\n",
       "    </tr>\n",
       "    <tr>\n",
       "      <th>84</th>\n",
       "      <td>136666</td>\n",
       "      <td>2</td>\n",
       "      <td>PG0480</td>\n",
       "      <td>00:50:00</td>\n",
       "      <td>Belgorod</td>\n",
       "      <td>SU9</td>\n",
       "      <td>664500</td>\n",
       "      <td>0.833</td>\n",
       "      <td>56011.0033</td>\n",
       "      <td>608488</td>\n",
       "    </tr>\n",
       "    <tr>\n",
       "      <th>71</th>\n",
       "      <td>136672</td>\n",
       "      <td>2</td>\n",
       "      <td>PG0480</td>\n",
       "      <td>00:50:00</td>\n",
       "      <td>Belgorod</td>\n",
       "      <td>SU9</td>\n",
       "      <td>759000</td>\n",
       "      <td>0.833</td>\n",
       "      <td>56011.0033</td>\n",
       "      <td>702988</td>\n",
       "    </tr>\n",
       "    <tr>\n",
       "      <th>92</th>\n",
       "      <td>136857</td>\n",
       "      <td>2</td>\n",
       "      <td>PG0480</td>\n",
       "      <td>00:50:00</td>\n",
       "      <td>Belgorod</td>\n",
       "      <td>SU9</td>\n",
       "      <td>765300</td>\n",
       "      <td>0.833</td>\n",
       "      <td>56011.0033</td>\n",
       "      <td>709288</td>\n",
       "    </tr>\n",
       "  </tbody>\n",
       "</table>\n",
       "</div>"
      ],
      "text/plain": [
       "     flight_id  sched_month flight_no flight_duration      city aircraft_code  \\\n",
       "101     136620            2    PG0480        00:49:00  Belgorod           SU9   \n",
       "105     136815            2    PG0480        00:51:00  Belgorod           SU9   \n",
       "84      136666            2    PG0480        00:50:00  Belgorod           SU9   \n",
       "71      136672            2    PG0480        00:50:00  Belgorod           SU9   \n",
       "92      136857            2    PG0480        00:50:00  Belgorod           SU9   \n",
       "\n",
       "     total_amount  flight_hour  flight_costs  flight_profit  \n",
       "101        613500        0.817    54935.1617         558564  \n",
       "105        765300        0.850    57154.0850         708145  \n",
       "84         664500        0.833    56011.0033         608488  \n",
       "71         759000        0.833    56011.0033         702988  \n",
       "92         765300        0.833    56011.0033         709288  "
      ]
     },
     "execution_count": 199,
     "metadata": {},
     "output_type": "execute_result"
    }
   ],
   "source": [
    "fl.query('flight_no == \"PG0480\"').sample(5)"
   ]
  },
  {
   "cell_type": "code",
   "execution_count": 211,
   "metadata": {},
   "outputs": [
    {
     "data": {
      "text/plain": [
       "<matplotlib.axes._subplots.AxesSubplot at 0x7f91b5c6cb80>"
      ]
     },
     "execution_count": 211,
     "metadata": {},
     "output_type": "execute_result"
    },
    {
     "data": {
      "image/png": "[encoded data removed]",
      "text/plain": [
       "<Figure size 432x288 with 1 Axes>"
      ]
     },
     "metadata": {
      "needs_background": "light"
     },
     "output_type": "display_data"
    }
   ],
   "source": [
    "fl.groupby(by = ['flight_no'])['flight_profit'].sum().plot(kind = 'bar', grid= True, color = '#00CED1')"
   ]
  },
  {
   "cell_type": "code",
   "execution_count": 223,
   "metadata": {},
   "outputs": [
    {
     "data": {
      "text/plain": [
       "<matplotlib.axes._subplots.AxesSubplot at 0x7f91b4d807f0>"
      ]
     },
     "execution_count": 223,
     "metadata": {},
     "output_type": "execute_result"
    },
    {
     "data": {
      "image/png": "[encoded data removed]",
      "text/plain": [
       "<Figure size 432x288 with 1 Axes>"
      ]
     },
     "metadata": {
      "needs_background": "light"
     },
     "output_type": "display_data"
    }
   ],
   "source": [
    "fl.groupby(by = ['flight_no'])['flight_profit'].mean().plot(kind = 'bar', grid= True, color = '#00CED1')"
   ]
  },
  {
   "cell_type": "code",
   "execution_count": 224,
   "metadata": {},
   "outputs": [
    {
     "data": {
      "text/plain": [
       "<matplotlib.axes._subplots.AxesSubplot at 0x7f91b5e1af70>"
      ]
     },
     "execution_count": 224,
     "metadata": {},
     "output_type": "execute_result"
    },
    {
     "data": {
      "image/png": "[encoded data removed]",
      "text/plain": [
       "<Figure size 432x288 with 1 Axes>"
      ]
     },
     "metadata": {
      "needs_background": "light"
     },
     "output_type": "display_data"
    }
   ],
   "source": [
    "fl.groupby(by = ['aircraft_code'])['flight_profit'].sum().plot(kind = 'bar', grid= True, color = '#00CED1')"
   ]
  },
  {
   "cell_type": "code",
   "execution_count": 225,
   "metadata": {},
   "outputs": [
    {
     "data": {
      "text/plain": [
       "<matplotlib.axes._subplots.AxesSubplot at 0x7f91b4c5daf0>"
      ]
     },
     "execution_count": 225,
     "metadata": {},
     "output_type": "execute_result"
    },
    {
     "data": {
      "image/png": "[encoded data removed]",
      "text/plain": [
       "<Figure size 432x288 with 1 Axes>"
      ]
     },
     "metadata": {
      "needs_background": "light"
     },
     "output_type": "display_data"
    }
   ],
   "source": [
    "fl.groupby(by = ['aircraft_code'])['flight_profit'].mean().plot(kind = 'bar', grid= True, color = '#00CED1')"
   ]
  },
  {
   "cell_type": "code",
   "execution_count": 226,
   "metadata": {},
   "outputs": [
    {
     "data": {
      "text/plain": [
       "<seaborn.axisgrid.JointGrid at 0x7f91b47bc0a0>"
      ]
     },
     "execution_count": 226,
     "metadata": {},
     "output_type": "execute_result"
    },
    {
     "data": {
      "image/png": "[encoded data removed]",
      "text/plain": [
       "<Figure size 432x432 with 3 Axes>"
      ]
     },
     "metadata": {
      "needs_background": "light"
     },
     "output_type": "display_data"
    }
   ],
   "source": [
    "sns.jointplot(x = 'total_amount', y = 'flight_profit', data = fl, kind='reg', color = '#00CED1')"
   ]
  },
  {
   "cell_type": "code",
   "execution_count": 227,
   "metadata": {},
   "outputs": [
    {
     "data": {
      "text/plain": [
       "<seaborn.axisgrid.JointGrid at 0x7f91b464f0d0>"
      ]
     },
     "execution_count": 227,
     "metadata": {},
     "output_type": "execute_result"
    },
    {
     "data": {
      "image/png": "[encoded data removed]",
      "text/plain": [
       "<Figure size 432x432 with 3 Axes>"
      ]
     },
     "metadata": {
      "needs_background": "light"
     },
     "output_type": "display_data"
    }
   ],
   "source": [
    "sns.jointplot(x = 'flight_hour', y = 'flight_profit', data = fl, kind='reg', color = '#00CED1')"
   ]
  },
  {
   "cell_type": "code",
   "execution_count": 210,
   "metadata": {},
   "outputs": [
    {
     "data": {
      "text/plain": [
       "<seaborn.axisgrid.JointGrid at 0x7f91b5db95e0>"
      ]
     },
     "execution_count": 210,
     "metadata": {},
     "output_type": "execute_result"
    },
    {
     "data": {
      "image/png": "[encoded data removed]",
      "text/plain": [
       "<Figure size 432x432 with 3 Axes>"
      ]
     },
     "metadata": {
      "needs_background": "light"
     },
     "output_type": "display_data"
    }
   ],
   "source": [
    "sns.jointplot(x = 'flight_hour', y = 'flight_costs', data = fl, kind='reg', color = '#00CED1')\n"
   ]
  },
  {
   "cell_type": "markdown",
   "metadata": {},
   "source": [
    "### Итоги Анализа\n",
    "\n",
    "**Убыточный рейс PG0194 (Анапа-Новокузнецк)**  \n",
    "Размер убытка: -4,481 млн руб\n",
    "\n",
    "Предолагаемая суммарная прибыль по рейсам:\n",
    "- PG0252(Moscow) = 87,360 млн руб\n",
    "- PG0480(Belgorod) = 38,521 млн руб\n",
    "\n",
    "Предполагаемая средняя прибыль по рейсам:\n",
    "- PG0252(Moscow) = 1,48 млн руб\n",
    "- PG0480(Belgorod) = 0,65 млн руб\n",
    "\n",
    "\n"
   ]
  },
  {
   "cell_type": "code",
   "execution_count": null,
   "metadata": {},
   "outputs": [],
   "source": []
  }
 ],
 "metadata": {
  "kernelspec": {
   "display_name": "Python 3",
   "language": "python",
   "name": "python3"
  },
  "language_info": {
   "codemirror_mode": {
    "name": "ipython",
    "version": 3
   },
   "file_extension": ".py",
   "mimetype": "text/x-python",
   "name": "python",
   "nbconvert_exporter": "python",
   "pygments_lexer": "ipython3",
   "version": "3.8.3"
  }
 },
 "nbformat": 4,
 "nbformat_minor": 4
}
