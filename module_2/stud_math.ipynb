{
 "cells": [
  {
   "cell_type": "markdown",
   "metadata": {},
   "source": [
    "# Проект 2. Разведывательный анализ данных (EDA)"
   ]
  },
  {
   "cell_type": "markdown",
   "metadata": {},
   "source": [
    "Нас пригласили поучаствовать в одном из проектов UNICEF — международного подразделения ООН, чья миссия состоит в повышении уровня благополучия детей по всему миру. \n",
    "\n",
    "Суть проекта — отследить влияние условий жизни учащихся в возрасте от 15 до 22 лет на их успеваемость по математике, чтобы на ранней стадии выявлять студентов, находящихся в группе риска.\n",
    "\n",
    "Для этого нужно построить модель, которая предсказывала бы результаты госэкзамена по математике для каждого ученика школы.\n",
    "\n",
    "Задача данного проекта - определиться с параметрами будущей модели, проведите разведывательный анализ данных и составьте отчёт по его результатам. \n",
    "\n",
    "Задачи:\n",
    "    * Проведите первичную обработку данных\n",
    "    * Посмотреть на распределение признака для числовых переменных, устраните выбросы.\n",
    "    * Оценить количество уникальных значений для номинативных переменных.\n",
    "    * Провести корреляционный анализ количественных переменных\n",
    "    * Проанализировать номинативные переменные\n",
    "    * Сформулировать промежуточные и итоговые выводы по датасету"
   ]
  },
  {
   "cell_type": "markdown",
   "metadata": {},
   "source": [
    "**Описание датасета** (переменные, которые содержит датасет):\n",
    "\n",
    "1. school — аббревиатура школы, в которой учится ученик\n",
    "2. sex — пол ученика ('F' - женский, 'M' - мужской)\n",
    "3. age — возраст ученика (от 15 до 22)\n",
    "4. address — тип адреса ученика ('U' - городской, 'R' - за городом)\n",
    "5. famsize — размер семьи('LE3' <= 3, 'GT3' >3)\n",
    "6. Pstatus — статус совместного жилья родителей ('T' - живут вместе 'A' - раздельно)\n",
    "7. Medu — образование матери (0 - нет, 1 - 4 класса, 2 - 5-9 классы, 3 - среднее специальное или 11 классов, 4 - высшее)\n",
    "8. Fedu — образование отца (0 - нет, 1 - 4 класса, 2 - 5-9 классы, 3 - среднее специальное или 11 классов, 4 - высшее)\n",
    "9. Mjob — работа матери ('teacher' - учитель, 'health' - сфера здравоохранения, 'services' - гос служба, 'at_home' - не работает, 'other' - другое)\n",
    "10. Fjob — работа отца ('teacher' - учитель, 'health' - сфера здравоохранения, 'services' - гос служба, 'at_home' - не работает, 'other' - другое)\n",
    "11. reason — причина выбора школы ('home' - близость к дому, 'reputation' - репутация школы, 'course' - образовательная программа, 'other' - другое)\n",
    "12. guardian — опекун ('mother' - мать, 'father' - отец, 'other' - другое)\n",
    "13. traveltime — время в пути до школы (1 - <15 мин., 2 - 15-30 мин., 3 - 30-60 мин., 4 - >60 мин.)\n",
    "14. studytime — время на учёбу помимо школы в неделю (1 - <2 часов, 2 - 2-5 часов, 3 - 5-10 часов, 4 - >10 часов)\n",
    "15. failures — количество внеучебных неудач (n, если 1<=n<3, иначе 4)\n",
    "16. schoolsup — дополнительная образовательная поддержка (yes или no)\n",
    "17. famsup — семейная образовательная поддержка (yes или no)\n",
    "18. paid — дополнительные платные занятия по математике (yes или no)\n",
    "19. activities — дополнительные внеучебные занятия (yes или no)\n",
    "20. nursery — посещал детский сад (yes или no)\n",
    "21. higher — хочет получить высшее образование (yes или no)\n",
    "22. internet — наличие интернета дома (yes или no)\n",
    "23. romantic — в романтических отношениях (yes или no)\n",
    "24. famrel — семейные отношения (от 1 - очень плохо до 5 - очень хорошо)\n",
    "25. freetime — свободное время после школы (от 1 - очень мало до 5 - очень мого)\n",
    "26. goout — проведение времени с друзьями (от 1 - очень мало до 5 - очень много)\n",
    "27. health — текущее состояние здоровья (от 1 - очень плохо до 5 - очень хорошо)\n",
    "28. absences — количество пропущенных занятий\n",
    "29. score — баллы по госэкзамену по математике"
   ]
  },
  {
   "cell_type": "markdown",
   "metadata": {},
   "source": [
    "## Подключение модулей и чтение файла"
   ]
  },
  {
   "cell_type": "code",
   "execution_count": 1,
   "metadata": {},
   "outputs": [
    {
     "data": {
      "image/png": "[encoded data removed]",
      "text/plain": [
       "<Figure size 288x36 with 1 Axes>"
      ]
     },
     "metadata": {
      "needs_background": "light"
     },
     "output_type": "display_data"
    }
   ],
   "source": [
    "import pandas as pd\n",
    "import numpy as np\n",
    "import matplotlib.pyplot as plt\n",
    "import matplotlib as mpl\n",
    "import seaborn as sns\n",
    "import matplotlib.ticker as ticker\n",
    "from itertools import combinations\n",
    "from scipy.stats import ttest_ind\n",
    "from scipy.stats import percentileofscore\n",
    "from scipy import stats\n",
    "\n",
    "import warnings\n",
    "warnings.simplefilter('ignore')\n",
    "\n",
    "pd.set_option('display.max_rows', 50)  # показывать больше строк\n",
    "pd.set_option('display.max_columns', 50)  # показывать больше колонок\n",
    "\n",
    "plt.style.use('seaborn-pastel')  # выберем стиль графиков\n",
    "sns.palplot(sns.color_palette(\"Set2\"), 0.5)\n",
    "sns.set_style(\"whitegrid\")\n",
    "sns.axes_style(\"whitegrid\")\n",
    "\n",
    "stud_math = pd.read_csv('stud_math.csv')"
   ]
  },
  {
   "cell_type": "code",
   "execution_count": 2,
   "metadata": {
    "scrolled": true
   },
   "outputs": [
    {
     "data": {
      "text/html": [
       "<div>\n",
       "<style scoped>\n",
       "    .dataframe tbody tr th:only-of-type {\n",
       "        vertical-align: middle;\n",
       "    }\n",
       "\n",
       "    .dataframe tbody tr th {\n",
       "        vertical-align: top;\n",
       "    }\n",
       "\n",
       "    .dataframe thead th {\n",
       "        text-align: right;\n",
       "    }\n",
       "</style>\n",
       "<table border=\"1\" class=\"dataframe\">\n",
       "  <thead>\n",
       "    <tr style=\"text-align: right;\">\n",
       "      <th></th>\n",
       "      <th>school</th>\n",
       "      <th>sex</th>\n",
       "      <th>age</th>\n",
       "      <th>address</th>\n",
       "      <th>famsize</th>\n",
       "      <th>Pstatus</th>\n",
       "      <th>Medu</th>\n",
       "      <th>Fedu</th>\n",
       "      <th>Mjob</th>\n",
       "      <th>Fjob</th>\n",
       "      <th>reason</th>\n",
       "      <th>guardian</th>\n",
       "      <th>traveltime</th>\n",
       "      <th>studytime</th>\n",
       "      <th>failures</th>\n",
       "      <th>schoolsup</th>\n",
       "      <th>famsup</th>\n",
       "      <th>paid</th>\n",
       "      <th>activities</th>\n",
       "      <th>nursery</th>\n",
       "      <th>studytime, granular</th>\n",
       "      <th>higher</th>\n",
       "      <th>internet</th>\n",
       "      <th>romantic</th>\n",
       "      <th>famrel</th>\n",
       "      <th>freetime</th>\n",
       "      <th>goout</th>\n",
       "      <th>health</th>\n",
       "      <th>absences</th>\n",
       "      <th>score</th>\n",
       "    </tr>\n",
       "  </thead>\n",
       "  <tbody>\n",
       "    <tr>\n",
       "      <th>0</th>\n",
       "      <td>GP</td>\n",
       "      <td>F</td>\n",
       "      <td>18</td>\n",
       "      <td>U</td>\n",
       "      <td>NaN</td>\n",
       "      <td>A</td>\n",
       "      <td>4.0</td>\n",
       "      <td>4.0</td>\n",
       "      <td>at_home</td>\n",
       "      <td>teacher</td>\n",
       "      <td>course</td>\n",
       "      <td>mother</td>\n",
       "      <td>2.0</td>\n",
       "      <td>2.0</td>\n",
       "      <td>0.0</td>\n",
       "      <td>yes</td>\n",
       "      <td>no</td>\n",
       "      <td>no</td>\n",
       "      <td>no</td>\n",
       "      <td>yes</td>\n",
       "      <td>-6.0</td>\n",
       "      <td>yes</td>\n",
       "      <td>NaN</td>\n",
       "      <td>no</td>\n",
       "      <td>4.0</td>\n",
       "      <td>3.0</td>\n",
       "      <td>4.0</td>\n",
       "      <td>3.0</td>\n",
       "      <td>6.0</td>\n",
       "      <td>30.0</td>\n",
       "    </tr>\n",
       "    <tr>\n",
       "      <th>1</th>\n",
       "      <td>GP</td>\n",
       "      <td>F</td>\n",
       "      <td>17</td>\n",
       "      <td>U</td>\n",
       "      <td>GT3</td>\n",
       "      <td>NaN</td>\n",
       "      <td>1.0</td>\n",
       "      <td>1.0</td>\n",
       "      <td>at_home</td>\n",
       "      <td>other</td>\n",
       "      <td>course</td>\n",
       "      <td>father</td>\n",
       "      <td>1.0</td>\n",
       "      <td>2.0</td>\n",
       "      <td>0.0</td>\n",
       "      <td>no</td>\n",
       "      <td>yes</td>\n",
       "      <td>no</td>\n",
       "      <td>no</td>\n",
       "      <td>no</td>\n",
       "      <td>-6.0</td>\n",
       "      <td>yes</td>\n",
       "      <td>yes</td>\n",
       "      <td>no</td>\n",
       "      <td>5.0</td>\n",
       "      <td>3.0</td>\n",
       "      <td>3.0</td>\n",
       "      <td>3.0</td>\n",
       "      <td>4.0</td>\n",
       "      <td>30.0</td>\n",
       "    </tr>\n",
       "    <tr>\n",
       "      <th>2</th>\n",
       "      <td>GP</td>\n",
       "      <td>F</td>\n",
       "      <td>15</td>\n",
       "      <td>U</td>\n",
       "      <td>LE3</td>\n",
       "      <td>T</td>\n",
       "      <td>1.0</td>\n",
       "      <td>1.0</td>\n",
       "      <td>at_home</td>\n",
       "      <td>other</td>\n",
       "      <td>other</td>\n",
       "      <td>mother</td>\n",
       "      <td>1.0</td>\n",
       "      <td>2.0</td>\n",
       "      <td>3.0</td>\n",
       "      <td>yes</td>\n",
       "      <td>no</td>\n",
       "      <td>NaN</td>\n",
       "      <td>no</td>\n",
       "      <td>yes</td>\n",
       "      <td>-6.0</td>\n",
       "      <td>yes</td>\n",
       "      <td>yes</td>\n",
       "      <td>NaN</td>\n",
       "      <td>4.0</td>\n",
       "      <td>3.0</td>\n",
       "      <td>2.0</td>\n",
       "      <td>3.0</td>\n",
       "      <td>10.0</td>\n",
       "      <td>50.0</td>\n",
       "    </tr>\n",
       "    <tr>\n",
       "      <th>3</th>\n",
       "      <td>GP</td>\n",
       "      <td>F</td>\n",
       "      <td>15</td>\n",
       "      <td>U</td>\n",
       "      <td>GT3</td>\n",
       "      <td>T</td>\n",
       "      <td>4.0</td>\n",
       "      <td>2.0</td>\n",
       "      <td>health</td>\n",
       "      <td>NaN</td>\n",
       "      <td>home</td>\n",
       "      <td>mother</td>\n",
       "      <td>1.0</td>\n",
       "      <td>3.0</td>\n",
       "      <td>0.0</td>\n",
       "      <td>no</td>\n",
       "      <td>yes</td>\n",
       "      <td>yes</td>\n",
       "      <td>yes</td>\n",
       "      <td>yes</td>\n",
       "      <td>-9.0</td>\n",
       "      <td>yes</td>\n",
       "      <td>yes</td>\n",
       "      <td>yes</td>\n",
       "      <td>3.0</td>\n",
       "      <td>2.0</td>\n",
       "      <td>2.0</td>\n",
       "      <td>5.0</td>\n",
       "      <td>2.0</td>\n",
       "      <td>75.0</td>\n",
       "    </tr>\n",
       "    <tr>\n",
       "      <th>4</th>\n",
       "      <td>GP</td>\n",
       "      <td>F</td>\n",
       "      <td>16</td>\n",
       "      <td>U</td>\n",
       "      <td>GT3</td>\n",
       "      <td>T</td>\n",
       "      <td>3.0</td>\n",
       "      <td>3.0</td>\n",
       "      <td>other</td>\n",
       "      <td>other</td>\n",
       "      <td>home</td>\n",
       "      <td>father</td>\n",
       "      <td>1.0</td>\n",
       "      <td>2.0</td>\n",
       "      <td>0.0</td>\n",
       "      <td>no</td>\n",
       "      <td>yes</td>\n",
       "      <td>yes</td>\n",
       "      <td>no</td>\n",
       "      <td>yes</td>\n",
       "      <td>-6.0</td>\n",
       "      <td>yes</td>\n",
       "      <td>no</td>\n",
       "      <td>no</td>\n",
       "      <td>4.0</td>\n",
       "      <td>3.0</td>\n",
       "      <td>2.0</td>\n",
       "      <td>5.0</td>\n",
       "      <td>4.0</td>\n",
       "      <td>50.0</td>\n",
       "    </tr>\n",
       "    <tr>\n",
       "      <th>5</th>\n",
       "      <td>GP</td>\n",
       "      <td>M</td>\n",
       "      <td>16</td>\n",
       "      <td>U</td>\n",
       "      <td>LE3</td>\n",
       "      <td>T</td>\n",
       "      <td>4.0</td>\n",
       "      <td>3.0</td>\n",
       "      <td>services</td>\n",
       "      <td>other</td>\n",
       "      <td>reputation</td>\n",
       "      <td>mother</td>\n",
       "      <td>1.0</td>\n",
       "      <td>2.0</td>\n",
       "      <td>0.0</td>\n",
       "      <td>no</td>\n",
       "      <td>yes</td>\n",
       "      <td>yes</td>\n",
       "      <td>yes</td>\n",
       "      <td>yes</td>\n",
       "      <td>-6.0</td>\n",
       "      <td>yes</td>\n",
       "      <td>yes</td>\n",
       "      <td>no</td>\n",
       "      <td>5.0</td>\n",
       "      <td>4.0</td>\n",
       "      <td>2.0</td>\n",
       "      <td>5.0</td>\n",
       "      <td>10.0</td>\n",
       "      <td>75.0</td>\n",
       "    </tr>\n",
       "  </tbody>\n",
       "</table>\n",
       "</div>"
      ],
      "text/plain": [
       "  school sex  age address famsize Pstatus  Medu  Fedu      Mjob     Fjob  \\\n",
       "0     GP   F   18       U     NaN       A   4.0   4.0   at_home  teacher   \n",
       "1     GP   F   17       U     GT3     NaN   1.0   1.0   at_home    other   \n",
       "2     GP   F   15       U     LE3       T   1.0   1.0   at_home    other   \n",
       "3     GP   F   15       U     GT3       T   4.0   2.0    health      NaN   \n",
       "4     GP   F   16       U     GT3       T   3.0   3.0     other    other   \n",
       "5     GP   M   16       U     LE3       T   4.0   3.0  services    other   \n",
       "\n",
       "       reason guardian  traveltime  studytime  failures schoolsup famsup paid  \\\n",
       "0      course   mother         2.0        2.0       0.0       yes     no   no   \n",
       "1      course   father         1.0        2.0       0.0        no    yes   no   \n",
       "2       other   mother         1.0        2.0       3.0       yes     no  NaN   \n",
       "3        home   mother         1.0        3.0       0.0        no    yes  yes   \n",
       "4        home   father         1.0        2.0       0.0        no    yes  yes   \n",
       "5  reputation   mother         1.0        2.0       0.0        no    yes  yes   \n",
       "\n",
       "  activities nursery  studytime, granular higher internet romantic  famrel  \\\n",
       "0         no     yes                 -6.0    yes      NaN       no     4.0   \n",
       "1         no      no                 -6.0    yes      yes       no     5.0   \n",
       "2         no     yes                 -6.0    yes      yes      NaN     4.0   \n",
       "3        yes     yes                 -9.0    yes      yes      yes     3.0   \n",
       "4         no     yes                 -6.0    yes       no       no     4.0   \n",
       "5        yes     yes                 -6.0    yes      yes       no     5.0   \n",
       "\n",
       "   freetime  goout  health  absences  score  \n",
       "0       3.0    4.0     3.0       6.0   30.0  \n",
       "1       3.0    3.0     3.0       4.0   30.0  \n",
       "2       3.0    2.0     3.0      10.0   50.0  \n",
       "3       2.0    2.0     5.0       2.0   75.0  \n",
       "4       3.0    2.0     5.0       4.0   50.0  \n",
       "5       4.0    2.0     5.0      10.0   75.0  "
      ]
     },
     "metadata": {},
     "output_type": "display_data"
    },
    {
     "name": "stdout",
     "output_type": "stream",
     "text": [
      "<class 'pandas.core.frame.DataFrame'>\n",
      "RangeIndex: 395 entries, 0 to 394\n",
      "Data columns (total 30 columns):\n",
      " #   Column               Non-Null Count  Dtype  \n",
      "---  ------               --------------  -----  \n",
      " 0   school               395 non-null    object \n",
      " 1   sex                  395 non-null    object \n",
      " 2   age                  395 non-null    int64  \n",
      " 3   address              378 non-null    object \n",
      " 4   famsize              368 non-null    object \n",
      " 5   Pstatus              350 non-null    object \n",
      " 6   Medu                 392 non-null    float64\n",
      " 7   Fedu                 371 non-null    float64\n",
      " 8   Mjob                 376 non-null    object \n",
      " 9   Fjob                 359 non-null    object \n",
      " 10  reason               378 non-null    object \n",
      " 11  guardian             364 non-null    object \n",
      " 12  traveltime           367 non-null    float64\n",
      " 13  studytime            388 non-null    float64\n",
      " 14  failures             373 non-null    float64\n",
      " 15  schoolsup            386 non-null    object \n",
      " 16  famsup               356 non-null    object \n",
      " 17  paid                 355 non-null    object \n",
      " 18  activities           381 non-null    object \n",
      " 19  nursery              379 non-null    object \n",
      " 20  studytime, granular  388 non-null    float64\n",
      " 21  higher               375 non-null    object \n",
      " 22  internet             361 non-null    object \n",
      " 23  romantic             364 non-null    object \n",
      " 24  famrel               368 non-null    float64\n",
      " 25  freetime             384 non-null    float64\n",
      " 26  goout                387 non-null    float64\n",
      " 27  health               380 non-null    float64\n",
      " 28  absences             383 non-null    float64\n",
      " 29  score                389 non-null    float64\n",
      "dtypes: float64(12), int64(1), object(17)\n",
      "memory usage: 92.7+ KB\n"
     ]
    }
   ],
   "source": [
    "display(stud_math.head(6))\n",
    "stud_math.info()"
   ]
  },
  {
   "cell_type": "markdown",
   "metadata": {},
   "source": [
    "``` Вывод: ```\n",
    "загрузились 30 столбцов, а в описании датасета 29 - вопрос \"почему\". Всего 395 записей"
   ]
  },
  {
   "cell_type": "code",
   "execution_count": 3,
   "metadata": {},
   "outputs": [
    {
     "data": {
      "text/html": [
       "<div>\n",
       "<style scoped>\n",
       "    .dataframe tbody tr th:only-of-type {\n",
       "        vertical-align: middle;\n",
       "    }\n",
       "\n",
       "    .dataframe tbody tr th {\n",
       "        vertical-align: top;\n",
       "    }\n",
       "\n",
       "    .dataframe thead th {\n",
       "        text-align: right;\n",
       "    }\n",
       "</style>\n",
       "<table border=\"1\" class=\"dataframe\">\n",
       "  <thead>\n",
       "    <tr style=\"text-align: right;\">\n",
       "      <th></th>\n",
       "      <th>age</th>\n",
       "      <th>Medu</th>\n",
       "      <th>Fedu</th>\n",
       "      <th>traveltime</th>\n",
       "      <th>studytime</th>\n",
       "      <th>failures</th>\n",
       "      <th>studytime, granular</th>\n",
       "      <th>famrel</th>\n",
       "      <th>freetime</th>\n",
       "      <th>goout</th>\n",
       "      <th>health</th>\n",
       "      <th>absences</th>\n",
       "      <th>score</th>\n",
       "    </tr>\n",
       "  </thead>\n",
       "  <tbody>\n",
       "    <tr>\n",
       "      <th>count</th>\n",
       "      <td>395.000000</td>\n",
       "      <td>392.000000</td>\n",
       "      <td>371.000000</td>\n",
       "      <td>367.000000</td>\n",
       "      <td>388.000000</td>\n",
       "      <td>373.000000</td>\n",
       "      <td>388.000000</td>\n",
       "      <td>368.000000</td>\n",
       "      <td>384.000000</td>\n",
       "      <td>387.000000</td>\n",
       "      <td>380.000000</td>\n",
       "      <td>383.000000</td>\n",
       "      <td>389.000000</td>\n",
       "    </tr>\n",
       "    <tr>\n",
       "      <th>mean</th>\n",
       "      <td>16.696203</td>\n",
       "      <td>2.750000</td>\n",
       "      <td>2.614555</td>\n",
       "      <td>1.438692</td>\n",
       "      <td>2.038660</td>\n",
       "      <td>0.337802</td>\n",
       "      <td>-6.115979</td>\n",
       "      <td>3.937500</td>\n",
       "      <td>3.231771</td>\n",
       "      <td>3.105943</td>\n",
       "      <td>3.531579</td>\n",
       "      <td>7.279373</td>\n",
       "      <td>52.262211</td>\n",
       "    </tr>\n",
       "    <tr>\n",
       "      <th>std</th>\n",
       "      <td>1.276043</td>\n",
       "      <td>1.098127</td>\n",
       "      <td>2.228732</td>\n",
       "      <td>0.694181</td>\n",
       "      <td>0.842078</td>\n",
       "      <td>0.743135</td>\n",
       "      <td>2.526235</td>\n",
       "      <td>0.927277</td>\n",
       "      <td>0.993940</td>\n",
       "      <td>1.115896</td>\n",
       "      <td>1.396019</td>\n",
       "      <td>23.465197</td>\n",
       "      <td>22.919022</td>\n",
       "    </tr>\n",
       "    <tr>\n",
       "      <th>min</th>\n",
       "      <td>15.000000</td>\n",
       "      <td>0.000000</td>\n",
       "      <td>0.000000</td>\n",
       "      <td>1.000000</td>\n",
       "      <td>1.000000</td>\n",
       "      <td>0.000000</td>\n",
       "      <td>-12.000000</td>\n",
       "      <td>-1.000000</td>\n",
       "      <td>1.000000</td>\n",
       "      <td>1.000000</td>\n",
       "      <td>1.000000</td>\n",
       "      <td>0.000000</td>\n",
       "      <td>0.000000</td>\n",
       "    </tr>\n",
       "    <tr>\n",
       "      <th>25%</th>\n",
       "      <td>16.000000</td>\n",
       "      <td>2.000000</td>\n",
       "      <td>2.000000</td>\n",
       "      <td>1.000000</td>\n",
       "      <td>1.000000</td>\n",
       "      <td>0.000000</td>\n",
       "      <td>-6.000000</td>\n",
       "      <td>4.000000</td>\n",
       "      <td>3.000000</td>\n",
       "      <td>2.000000</td>\n",
       "      <td>3.000000</td>\n",
       "      <td>0.000000</td>\n",
       "      <td>40.000000</td>\n",
       "    </tr>\n",
       "    <tr>\n",
       "      <th>50%</th>\n",
       "      <td>17.000000</td>\n",
       "      <td>3.000000</td>\n",
       "      <td>2.000000</td>\n",
       "      <td>1.000000</td>\n",
       "      <td>2.000000</td>\n",
       "      <td>0.000000</td>\n",
       "      <td>-6.000000</td>\n",
       "      <td>4.000000</td>\n",
       "      <td>3.000000</td>\n",
       "      <td>3.000000</td>\n",
       "      <td>4.000000</td>\n",
       "      <td>4.000000</td>\n",
       "      <td>55.000000</td>\n",
       "    </tr>\n",
       "    <tr>\n",
       "      <th>75%</th>\n",
       "      <td>18.000000</td>\n",
       "      <td>4.000000</td>\n",
       "      <td>3.000000</td>\n",
       "      <td>2.000000</td>\n",
       "      <td>2.000000</td>\n",
       "      <td>0.000000</td>\n",
       "      <td>-3.000000</td>\n",
       "      <td>5.000000</td>\n",
       "      <td>4.000000</td>\n",
       "      <td>4.000000</td>\n",
       "      <td>5.000000</td>\n",
       "      <td>8.000000</td>\n",
       "      <td>70.000000</td>\n",
       "    </tr>\n",
       "    <tr>\n",
       "      <th>max</th>\n",
       "      <td>22.000000</td>\n",
       "      <td>4.000000</td>\n",
       "      <td>40.000000</td>\n",
       "      <td>4.000000</td>\n",
       "      <td>4.000000</td>\n",
       "      <td>3.000000</td>\n",
       "      <td>-3.000000</td>\n",
       "      <td>5.000000</td>\n",
       "      <td>5.000000</td>\n",
       "      <td>5.000000</td>\n",
       "      <td>5.000000</td>\n",
       "      <td>385.000000</td>\n",
       "      <td>100.000000</td>\n",
       "    </tr>\n",
       "  </tbody>\n",
       "</table>\n",
       "</div>"
      ],
      "text/plain": [
       "              age        Medu        Fedu  traveltime   studytime    failures  \\\n",
       "count  395.000000  392.000000  371.000000  367.000000  388.000000  373.000000   \n",
       "mean    16.696203    2.750000    2.614555    1.438692    2.038660    0.337802   \n",
       "std      1.276043    1.098127    2.228732    0.694181    0.842078    0.743135   \n",
       "min     15.000000    0.000000    0.000000    1.000000    1.000000    0.000000   \n",
       "25%     16.000000    2.000000    2.000000    1.000000    1.000000    0.000000   \n",
       "50%     17.000000    3.000000    2.000000    1.000000    2.000000    0.000000   \n",
       "75%     18.000000    4.000000    3.000000    2.000000    2.000000    0.000000   \n",
       "max     22.000000    4.000000   40.000000    4.000000    4.000000    3.000000   \n",
       "\n",
       "       studytime, granular      famrel    freetime       goout      health  \\\n",
       "count           388.000000  368.000000  384.000000  387.000000  380.000000   \n",
       "mean             -6.115979    3.937500    3.231771    3.105943    3.531579   \n",
       "std               2.526235    0.927277    0.993940    1.115896    1.396019   \n",
       "min             -12.000000   -1.000000    1.000000    1.000000    1.000000   \n",
       "25%              -6.000000    4.000000    3.000000    2.000000    3.000000   \n",
       "50%              -6.000000    4.000000    3.000000    3.000000    4.000000   \n",
       "75%              -3.000000    5.000000    4.000000    4.000000    5.000000   \n",
       "max              -3.000000    5.000000    5.000000    5.000000    5.000000   \n",
       "\n",
       "         absences       score  \n",
       "count  383.000000  389.000000  \n",
       "mean     7.279373   52.262211  \n",
       "std     23.465197   22.919022  \n",
       "min      0.000000    0.000000  \n",
       "25%      0.000000   40.000000  \n",
       "50%      4.000000   55.000000  \n",
       "75%      8.000000   70.000000  \n",
       "max    385.000000  100.000000  "
      ]
     },
     "execution_count": 3,
     "metadata": {},
     "output_type": "execute_result"
    }
   ],
   "source": [
    "stud_math.describe()"
   ]
  },
  {
   "cell_type": "markdown",
   "metadata": {},
   "source": [
    "## Первичная обработка данных"
   ]
  },
  {
   "cell_type": "code",
   "execution_count": 4,
   "metadata": {},
   "outputs": [],
   "source": [
    "# В описании к файлу нет колонки 'studytime, granular', поэтому сразу ее удаляем\n",
    "\n",
    "stud_math.drop(['studytime, granular'], axis='columns', inplace=True)"
   ]
  },
  {
   "cell_type": "code",
   "execution_count": 5,
   "metadata": {},
   "outputs": [
    {
     "data": {
      "text/plain": [
       "Index(['school', 'sex', 'age', 'address', 'famsize', 'Pstatus', 'Medu', 'Fedu',\n",
       "       'Mjob', 'Fjob', 'reason', 'guardian', 'traveltime', 'studytime',\n",
       "       'failures', 'schoolsup', 'famsup', 'paid', 'activities', 'nursery',\n",
       "       'higher', 'internet', 'romantic', 'famrel', 'freetime', 'goout',\n",
       "       'health', 'absences', 'score'],\n",
       "      dtype='object')"
      ]
     },
     "execution_count": 5,
     "metadata": {},
     "output_type": "execute_result"
    }
   ],
   "source": [
    "# посмотрим как записаны столбцы\n",
    "stud_math.columns"
   ]
  },
  {
   "cell_type": "code",
   "execution_count": 6,
   "metadata": {},
   "outputs": [],
   "source": [
    "# переименуем названия колонок\n",
    "# все названия с маленькой буквы\n",
    "stud_math.columns = [\n",
    "    'school', 'sex', 'age', 'address', 'famsize', 'parents_status', 'mum_edu',\n",
    "    'father_edu', 'mum_job', 'father_job', 'reason', 'guardian', 'traveltime',\n",
    "    'studytime', 'failures', 'schoolsup', 'famsup', 'paid', 'activities',\n",
    "    'nursery', 'higher', 'internet', 'romantic', 'famrel', 'freetime', 'goout',\n",
    "    'health', 'absences', 'score'\n",
    "]"
   ]
  },
  {
   "cell_type": "code",
   "execution_count": 7,
   "metadata": {
    "scrolled": true
   },
   "outputs": [
    {
     "data": {
      "text/html": [
       "<div>\n",
       "<style scoped>\n",
       "    .dataframe tbody tr th:only-of-type {\n",
       "        vertical-align: middle;\n",
       "    }\n",
       "\n",
       "    .dataframe tbody tr th {\n",
       "        vertical-align: top;\n",
       "    }\n",
       "\n",
       "    .dataframe thead th {\n",
       "        text-align: right;\n",
       "    }\n",
       "</style>\n",
       "<table border=\"1\" class=\"dataframe\">\n",
       "  <thead>\n",
       "    <tr style=\"text-align: right;\">\n",
       "      <th></th>\n",
       "      <th>school</th>\n",
       "      <th>sex</th>\n",
       "      <th>age</th>\n",
       "      <th>address</th>\n",
       "      <th>famsize</th>\n",
       "      <th>parents_status</th>\n",
       "      <th>mum_edu</th>\n",
       "      <th>father_edu</th>\n",
       "      <th>mum_job</th>\n",
       "      <th>father_job</th>\n",
       "      <th>reason</th>\n",
       "      <th>guardian</th>\n",
       "      <th>traveltime</th>\n",
       "      <th>studytime</th>\n",
       "      <th>failures</th>\n",
       "      <th>schoolsup</th>\n",
       "      <th>famsup</th>\n",
       "      <th>paid</th>\n",
       "      <th>activities</th>\n",
       "      <th>nursery</th>\n",
       "      <th>higher</th>\n",
       "      <th>internet</th>\n",
       "      <th>romantic</th>\n",
       "      <th>famrel</th>\n",
       "      <th>freetime</th>\n",
       "      <th>goout</th>\n",
       "      <th>health</th>\n",
       "      <th>absences</th>\n",
       "      <th>score</th>\n",
       "    </tr>\n",
       "  </thead>\n",
       "  <tbody>\n",
       "    <tr>\n",
       "      <th>0</th>\n",
       "      <td>GP</td>\n",
       "      <td>F</td>\n",
       "      <td>18</td>\n",
       "      <td>U</td>\n",
       "      <td>NaN</td>\n",
       "      <td>A</td>\n",
       "      <td>4.0</td>\n",
       "      <td>4.0</td>\n",
       "      <td>at_home</td>\n",
       "      <td>teacher</td>\n",
       "      <td>course</td>\n",
       "      <td>mother</td>\n",
       "      <td>2.0</td>\n",
       "      <td>2.0</td>\n",
       "      <td>0.0</td>\n",
       "      <td>yes</td>\n",
       "      <td>no</td>\n",
       "      <td>no</td>\n",
       "      <td>no</td>\n",
       "      <td>yes</td>\n",
       "      <td>yes</td>\n",
       "      <td>NaN</td>\n",
       "      <td>no</td>\n",
       "      <td>4.0</td>\n",
       "      <td>3.0</td>\n",
       "      <td>4.0</td>\n",
       "      <td>3.0</td>\n",
       "      <td>6.0</td>\n",
       "      <td>30.0</td>\n",
       "    </tr>\n",
       "    <tr>\n",
       "      <th>1</th>\n",
       "      <td>GP</td>\n",
       "      <td>F</td>\n",
       "      <td>17</td>\n",
       "      <td>U</td>\n",
       "      <td>GT3</td>\n",
       "      <td>NaN</td>\n",
       "      <td>1.0</td>\n",
       "      <td>1.0</td>\n",
       "      <td>at_home</td>\n",
       "      <td>other</td>\n",
       "      <td>course</td>\n",
       "      <td>father</td>\n",
       "      <td>1.0</td>\n",
       "      <td>2.0</td>\n",
       "      <td>0.0</td>\n",
       "      <td>no</td>\n",
       "      <td>yes</td>\n",
       "      <td>no</td>\n",
       "      <td>no</td>\n",
       "      <td>no</td>\n",
       "      <td>yes</td>\n",
       "      <td>yes</td>\n",
       "      <td>no</td>\n",
       "      <td>5.0</td>\n",
       "      <td>3.0</td>\n",
       "      <td>3.0</td>\n",
       "      <td>3.0</td>\n",
       "      <td>4.0</td>\n",
       "      <td>30.0</td>\n",
       "    </tr>\n",
       "    <tr>\n",
       "      <th>2</th>\n",
       "      <td>GP</td>\n",
       "      <td>F</td>\n",
       "      <td>15</td>\n",
       "      <td>U</td>\n",
       "      <td>LE3</td>\n",
       "      <td>T</td>\n",
       "      <td>1.0</td>\n",
       "      <td>1.0</td>\n",
       "      <td>at_home</td>\n",
       "      <td>other</td>\n",
       "      <td>other</td>\n",
       "      <td>mother</td>\n",
       "      <td>1.0</td>\n",
       "      <td>2.0</td>\n",
       "      <td>3.0</td>\n",
       "      <td>yes</td>\n",
       "      <td>no</td>\n",
       "      <td>NaN</td>\n",
       "      <td>no</td>\n",
       "      <td>yes</td>\n",
       "      <td>yes</td>\n",
       "      <td>yes</td>\n",
       "      <td>NaN</td>\n",
       "      <td>4.0</td>\n",
       "      <td>3.0</td>\n",
       "      <td>2.0</td>\n",
       "      <td>3.0</td>\n",
       "      <td>10.0</td>\n",
       "      <td>50.0</td>\n",
       "    </tr>\n",
       "  </tbody>\n",
       "</table>\n",
       "</div>"
      ],
      "text/plain": [
       "  school sex  age address famsize parents_status  mum_edu  father_edu  \\\n",
       "0     GP   F   18       U     NaN              A      4.0         4.0   \n",
       "1     GP   F   17       U     GT3            NaN      1.0         1.0   \n",
       "2     GP   F   15       U     LE3              T      1.0         1.0   \n",
       "\n",
       "   mum_job father_job  reason guardian  traveltime  studytime  failures  \\\n",
       "0  at_home    teacher  course   mother         2.0        2.0       0.0   \n",
       "1  at_home      other  course   father         1.0        2.0       0.0   \n",
       "2  at_home      other   other   mother         1.0        2.0       3.0   \n",
       "\n",
       "  schoolsup famsup paid activities nursery higher internet romantic  famrel  \\\n",
       "0       yes     no   no         no     yes    yes      NaN       no     4.0   \n",
       "1        no    yes   no         no      no    yes      yes       no     5.0   \n",
       "2       yes     no  NaN         no     yes    yes      yes      NaN     4.0   \n",
       "\n",
       "   freetime  goout  health  absences  score  \n",
       "0       3.0    4.0     3.0       6.0   30.0  \n",
       "1       3.0    3.0     3.0       4.0   30.0  \n",
       "2       3.0    2.0     3.0      10.0   50.0  "
      ]
     },
     "metadata": {},
     "output_type": "display_data"
    }
   ],
   "source": [
    "# проверим результат\n",
    "display(stud_math.head(3))"
   ]
  },
  {
   "cell_type": "code",
   "execution_count": 8,
   "metadata": {
    "scrolled": true
   },
   "outputs": [
    {
     "name": "stdout",
     "output_type": "stream",
     "text": [
      "(395, 29)\n",
      "school             object\n",
      "sex                object\n",
      "age                 int64\n",
      "address            object\n",
      "famsize            object\n",
      "parents_status     object\n",
      "mum_edu           float64\n",
      "father_edu        float64\n",
      "mum_job            object\n",
      "father_job         object\n",
      "reason             object\n",
      "guardian           object\n",
      "traveltime        float64\n",
      "studytime         float64\n",
      "failures          float64\n",
      "schoolsup          object\n",
      "famsup             object\n",
      "paid               object\n",
      "activities         object\n",
      "nursery            object\n",
      "higher             object\n",
      "internet           object\n",
      "romantic           object\n",
      "famrel            float64\n",
      "freetime          float64\n",
      "goout             float64\n",
      "health            float64\n",
      "absences          float64\n",
      "score             float64\n",
      "dtype: object\n"
     ]
    }
   ],
   "source": [
    "# Посмотрим информации о типе данных и их количестве\n",
    "print(stud_math.shape)\n",
    "print(stud_math.dtypes)"
   ]
  },
  {
   "cell_type": "code",
   "execution_count": 9,
   "metadata": {},
   "outputs": [
    {
     "name": "stdout",
     "output_type": "stream",
     "text": [
      "['school' 'sex' 'address' 'famsize' 'parents_status' 'mum_job'\n",
      " 'father_job' 'reason' 'guardian' 'schoolsup' 'famsup' 'paid' 'activities'\n",
      " 'nursery' 'higher' 'internet' 'romantic']\n"
     ]
    }
   ],
   "source": [
    "# отберем колонки с категориальными значениями\n",
    "df_nonnumeric = stud_math.select_dtypes(exclude=[np.number])\n",
    "nonnumeric_cols = df_nonnumeric.columns.values\n",
    "print(nonnumeric_cols)"
   ]
  },
  {
   "cell_type": "code",
   "execution_count": 10,
   "metadata": {},
   "outputs": [
    {
     "name": "stdout",
     "output_type": "stream",
     "text": [
      "['age' 'mum_edu' 'father_edu' 'traveltime' 'studytime' 'failures' 'famrel'\n",
      " 'freetime' 'goout' 'health' 'absences' 'score']\n"
     ]
    }
   ],
   "source": [
    "# отберем колонки с числовыми значениями\n",
    "df_numeric = stud_math.select_dtypes(include=[np.number])\n",
    "numeric_cols = df_numeric.columns.values\n",
    "print(numeric_cols)"
   ]
  },
  {
   "cell_type": "markdown",
   "metadata": {},
   "source": [
    "Всего 395 наблюдений с 29 переменными. В каждой строке один студент, а в каждом столбце содержится характеристика о нем. Столбец оценки ('score') является нашей целевой переменной."
   ]
  },
  {
   "cell_type": "markdown",
   "metadata": {},
   "source": [
    "## Поработаем с отсутствующими значениями"
   ]
  },
  {
   "cell_type": "markdown",
   "metadata": {},
   "source": [
    "### Посмотрим визуально на тепловую карту пропущенных данных"
   ]
  },
  {
   "cell_type": "code",
   "execution_count": 11,
   "metadata": {},
   "outputs": [
    {
     "data": {
      "text/plain": [
       "<matplotlib.axes._subplots.AxesSubplot at 0x7f1b86126b20>"
      ]
     },
     "execution_count": 11,
     "metadata": {},
     "output_type": "execute_result"
    },
    {
     "data": {
      "image/png": "[encoded data removed]",
      "text/plain": [
       "<Figure size 432x288 with 2 Axes>"
      ]
     },
     "metadata": {},
     "output_type": "display_data"
    }
   ],
   "source": [
    "cols = stud_math.columns[:]  # все колонки\n",
    "# назначим цвета: желтый - не пропущенные данные, фиолетовый - пропущенные\n",
    "colours = ['#FFFF73', '#660099']\n",
    "sns.heatmap(stud_math[cols].isnull(), cmap=sns.color_palette(colours))"
   ]
  },
  {
   "cell_type": "markdown",
   "metadata": {},
   "source": [
    "По горизонтали - признаки, по вертикали – количество записей. Фиолетовый цвет - пропуски данных.\n",
    "\n",
    "По тепловой карте четко видно, что почти все столбцы содержат пропуски.  \n",
    "Посмотрим по всем колонкам точное количество отсутствующих значений"
   ]
  },
  {
   "cell_type": "code",
   "execution_count": 23,
   "metadata": {
    "scrolled": true
   },
   "outputs": [
    {
     "name": "stdout",
     "output_type": "stream",
     "text": [
      "0 - school\n",
      "0 - sex\n",
      "0 - age\n",
      "17 - address\n",
      "27 - famsize\n",
      "45 - parents_status\n",
      "3 - mum_edu\n",
      "24 - father_edu\n",
      "19 - mum_job\n",
      "36 - father_job\n",
      "17 - reason\n",
      "31 - guardian\n",
      "28 - traveltime\n",
      "7 - studytime\n",
      "22 - failures\n",
      "9 - schoolsup\n",
      "39 - famsup\n",
      "40 - paid\n",
      "14 - activities\n",
      "16 - nursery\n",
      "20 - higher\n",
      "34 - internet\n",
      "31 - romantic\n",
      "27 - famrel\n",
      "11 - freetime\n",
      "8 - goout\n",
      "15 - health\n",
      "12 - absences\n",
      "6 - score\n"
     ]
    }
   ],
   "source": [
    "for col in stud_math.columns:\n",
    "    data_missing_sum = stud_math[col].isnull().sum()\n",
    "    print('{} - {}'.format(data_missing_sum, col))"
   ]
  },
  {
   "cell_type": "code",
   "execution_count": 24,
   "metadata": {
    "scrolled": true
   },
   "outputs": [
    {
     "name": "stdout",
     "output_type": "stream",
     "text": [
      "0.0% - school\n",
      "0.0% - sex\n",
      "0.0% - age\n",
      "4.0% - address\n",
      "7.0% - famsize\n",
      "11.0% - parents_status\n",
      "1.0% - mum_edu\n",
      "6.0% - father_edu\n",
      "5.0% - mum_job\n",
      "9.0% - father_job\n",
      "4.0% - reason\n",
      "8.0% - guardian\n",
      "7.0% - traveltime\n",
      "2.0% - studytime\n",
      "6.0% - failures\n",
      "2.0% - schoolsup\n",
      "10.0% - famsup\n",
      "10.0% - paid\n",
      "4.0% - activities\n",
      "4.0% - nursery\n",
      "5.0% - higher\n",
      "9.0% - internet\n",
      "8.0% - romantic\n",
      "7.0% - famrel\n",
      "3.0% - freetime\n",
      "2.0% - goout\n",
      "4.0% - health\n",
      "3.0% - absences\n",
      "2.0% - score\n"
     ]
    }
   ],
   "source": [
    "# Посмотрим количество пропусков в процентах\n",
    "for col in stud_math.columns:\n",
    "    data_missing = np.mean(stud_math[col].isnull())\n",
    "    print('{}% - {}'.format(round(data_missing * 100), col))"
   ]
  },
  {
   "cell_type": "markdown",
   "metadata": {},
   "source": [
    "Как мы видим, нулевых значений нет только у 3 колонок: school, sex, age. При этом по остальным колонками процент пропщенныз значений низкий. Поэтому полностью отбрасывать признаки не будем. С этими колонками нужно поработать"
   ]
  },
  {
   "cell_type": "markdown",
   "metadata": {},
   "source": [
    "### Пропуски в колонке Score"
   ]
  },
  {
   "cell_type": "markdown",
   "metadata": {},
   "source": [
    "Значение полученного балла по госэкзамену по математике для нас основное, нулевые значения только 2%. Удалим строки, в которых отсутсвует запись о среднем бале:"
   ]
  },
  {
   "cell_type": "code",
   "execution_count": 214,
   "metadata": {},
   "outputs": [],
   "source": [
    "stud_math.dropna(subset=['score'], inplace=True)"
   ]
  },
  {
   "cell_type": "code",
   "execution_count": 215,
   "metadata": {},
   "outputs": [
    {
     "name": "stdout",
     "output_type": "stream",
     "text": [
      "<class 'pandas.core.frame.DataFrame'>\n",
      "Int64Index: 389 entries, 0 to 394\n",
      "Data columns (total 1 columns):\n",
      " #   Column  Non-Null Count  Dtype  \n",
      "---  ------  --------------  -----  \n",
      " 0   score   389 non-null    float64\n",
      "dtypes: float64(1)\n",
      "memory usage: 6.1 KB\n"
     ]
    }
   ],
   "source": [
    "# Посмотрим на эту колонку\n",
    "stud_math.loc[:, ['score']].info()"
   ]
  },
  {
   "cell_type": "markdown",
   "metadata": {},
   "source": [
    "Пропущенных значений больше нет"
   ]
  },
  {
   "cell_type": "markdown",
   "metadata": {},
   "source": [
    "### Дополним другие недостающие значения"
   ]
  },
  {
   "cell_type": "markdown",
   "metadata": {},
   "source": [
    "#### Числовые значения"
   ]
  },
  {
   "cell_type": "markdown",
   "metadata": {},
   "source": [
    "Вернемся к колонкам с числовыми значениями. У нас всего 12 таких колонок: 'age', 'mum_edu', 'father_edu', 'traveltime', 'studytime', 'failures', 'famrel', 'freetime', 'goout', 'health', 'absences', 'score'. Мы поработали с недостающими значениями в колонке 'score'. В колонке 'age' также нет пропусков. Остальные пропуски заполним наиболее часто встречающимися значениями."
   ]
  },
  {
   "cell_type": "code",
   "execution_count": 216,
   "metadata": {},
   "outputs": [],
   "source": [
    "# присвоение значений\n",
    "# и создание индикаторных переменных отсутствующих значений \n",
    "df_numeric = stud_math.select_dtypes(include=[np.number])\n",
    "numeric_cols = df_numeric.columns.values\n",
    "\n",
    "for col in numeric_cols:\n",
    "    missing = stud_math[col].isnull()\n",
    "    num_missing = np.sum(missing)\n",
    "\n",
    "    if num_missing > 0:  # только для столбцов, в которых нет значений\n",
    "        stud_mode = stud_math[col].mode()  # вычисление моды\n",
    "        stud_math[col] = stud_math[col].fillna(stud_mode)  # заполнение ячейки модой"
   ]
  },
  {
   "cell_type": "markdown",
   "metadata": {},
   "source": [
    "#### Категориальные значения"
   ]
  },
  {
   "cell_type": "markdown",
   "metadata": {},
   "source": [
    "Посмотрим на колонки с категориальныеми значениями: 'school', 'sex', 'address', 'famsize', 'parents_status', 'mum_job', 'father_job', 'reason', 'guardian', 'schoolsup', 'famsup', 'paid', 'activities', 'nursery', 'higher', 'internet', 'romantic'. Из 17 столбцов 15 содержат пропуски. Заполним эти пропуски наиболее часто встречаюищимися. "
   ]
  },
  {
   "cell_type": "code",
   "execution_count": 217,
   "metadata": {},
   "outputs": [],
   "source": [
    "# присвоиение значений\n",
    "# и создание индикаторных переменных отсутствующих значений \n",
    "df_nonnumeric = stud_math.select_dtypes(exclude=[np.number])\n",
    "nonnumeric_cols = df_nonnumeric.columns.values\n",
    "\n",
    "for col in nonnumeric_cols:\n",
    "    missing = stud_math[col].isnull()\n",
    "    num_missing = np.sum(missing)\n",
    "\n",
    "    if num_missing > 0:  # только для столбцов, в которых отсутствуют значения\n",
    "        stud_top = stud_math[col].describe()['top']\n",
    "        stud_math[col] = stud_math[col].fillna(stud_top)"
   ]
  },
  {
   "cell_type": "markdown",
   "metadata": {},
   "source": [
    "# Пройдемся по столбцам с числовыми значениями"
   ]
  },
  {
   "cell_type": "markdown",
   "metadata": {},
   "source": [
    "## Посмотрим на возраст: 'age'"
   ]
  },
  {
   "cell_type": "code",
   "execution_count": 218,
   "metadata": {},
   "outputs": [
    {
     "data": {
      "text/html": [
       "<div>\n",
       "<style scoped>\n",
       "    .dataframe tbody tr th:only-of-type {\n",
       "        vertical-align: middle;\n",
       "    }\n",
       "\n",
       "    .dataframe tbody tr th {\n",
       "        vertical-align: top;\n",
       "    }\n",
       "\n",
       "    .dataframe thead th {\n",
       "        text-align: right;\n",
       "    }\n",
       "</style>\n",
       "<table border=\"1\" class=\"dataframe\">\n",
       "  <thead>\n",
       "    <tr style=\"text-align: right;\">\n",
       "      <th></th>\n",
       "      <th>age</th>\n",
       "    </tr>\n",
       "  </thead>\n",
       "  <tbody>\n",
       "    <tr>\n",
       "      <th>16</th>\n",
       "      <td>103</td>\n",
       "    </tr>\n",
       "    <tr>\n",
       "      <th>17</th>\n",
       "      <td>98</td>\n",
       "    </tr>\n",
       "    <tr>\n",
       "      <th>15</th>\n",
       "      <td>82</td>\n",
       "    </tr>\n",
       "    <tr>\n",
       "      <th>18</th>\n",
       "      <td>80</td>\n",
       "    </tr>\n",
       "    <tr>\n",
       "      <th>19</th>\n",
       "      <td>21</td>\n",
       "    </tr>\n",
       "    <tr>\n",
       "      <th>20</th>\n",
       "      <td>3</td>\n",
       "    </tr>\n",
       "    <tr>\n",
       "      <th>22</th>\n",
       "      <td>1</td>\n",
       "    </tr>\n",
       "    <tr>\n",
       "      <th>21</th>\n",
       "      <td>1</td>\n",
       "    </tr>\n",
       "  </tbody>\n",
       "</table>\n",
       "</div>"
      ],
      "text/plain": [
       "    age\n",
       "16  103\n",
       "17   98\n",
       "15   82\n",
       "18   80\n",
       "19   21\n",
       "20    3\n",
       "22    1\n",
       "21    1"
      ]
     },
     "execution_count": 218,
     "metadata": {},
     "output_type": "execute_result"
    }
   ],
   "source": [
    "pd.DataFrame(stud_math.age.value_counts())"
   ]
  },
  {
   "cell_type": "code",
   "execution_count": 219,
   "metadata": {},
   "outputs": [
    {
     "data": {
      "text/plain": [
       "<matplotlib.axes._subplots.AxesSubplot at 0x7f1effbda760>"
      ]
     },
     "execution_count": 219,
     "metadata": {},
     "output_type": "execute_result"
    },
    {
     "data": {
      "image/png": "[encoded data removed]",
      "text/plain": [
       "<Figure size 432x288 with 1 Axes>"
      ]
     },
     "metadata": {},
     "output_type": "display_data"
    }
   ],
   "source": [
    "stud_math['age'].hist()"
   ]
  },
  {
   "cell_type": "code",
   "execution_count": 220,
   "metadata": {},
   "outputs": [
    {
     "data": {
      "text/plain": [
       "<matplotlib.axes._subplots.AxesSubplot at 0x7f1effb481f0>"
      ]
     },
     "execution_count": 220,
     "metadata": {},
     "output_type": "execute_result"
    },
    {
     "data": {
      "image/png": "[encoded data removed]",
      "text/plain": [
       "<Figure size 432x288 with 1 Axes>"
      ]
     },
     "metadata": {},
     "output_type": "display_data"
    }
   ],
   "source": [
    "# Посмотрим на box plot, нет ли выбросов\n",
    "sns.boxplot(data=stud_math.age)"
   ]
  },
  {
   "cell_type": "markdown",
   "metadata": {},
   "source": [
    "Создается впечатление, что возраст 22 года - это выброс. Но в самом задании указано, что мы проводим исследование именно в интервале от 15 до 22 лет. Делаем вывод, что выбросов по столбцу 'age' нет."
   ]
  },
  {
   "cell_type": "markdown",
   "metadata": {},
   "source": [
    "## Образование матери: 'mum_edu'"
   ]
  },
  {
   "cell_type": "markdown",
   "metadata": {},
   "source": [
    "Мое предположение: образование родителей может играть не последнюю роль в успеваемости детей. Позже посмотрим на возможную корреляцию, а пока подробно изучим эти два показателя.\n",
    "\n",
    "Посмотрим на процентное соотношение образования матерей:\n",
    "\n",
    "0 - образования нет\n",
    "\n",
    "1 - 4 класса\n",
    "\n",
    "2 - 5-9 классы\n",
    "\n",
    "3 - среднее специальное или 11 классов\n",
    "\n",
    "4 - высшее"
   ]
  },
  {
   "cell_type": "code",
   "execution_count": 221,
   "metadata": {},
   "outputs": [
    {
     "data": {
      "text/plain": [
       "Text(0.5, 0.98, 'Образование матери')"
      ]
     },
     "execution_count": 221,
     "metadata": {},
     "output_type": "execute_result"
    },
    {
     "data": {
      "image/png": "[encoded data removed]",
      "text/plain": [
       "<Figure size 432x288 with 1 Axes>"
      ]
     },
     "metadata": {},
     "output_type": "display_data"
    }
   ],
   "source": [
    "stud_math.mum_edu.value_counts().plot(kind='pie',\n",
    "                                      label='mum_edu',\n",
    "                                      autopct='%1.0f%%')\n",
    "plt.ylabel(None)\n",
    "plt.suptitle('Образование матери', fontsize=15)"
   ]
  },
  {
   "cell_type": "markdown",
   "metadata": {},
   "source": [
    "Посмотрим, есть ли выбросы:"
   ]
  },
  {
   "cell_type": "code",
   "execution_count": 222,
   "metadata": {},
   "outputs": [
    {
     "data": {
      "image/png": "[encoded data removed]",
      "text/plain": [
       "<Figure size 576x432 with 1 Axes>"
      ]
     },
     "metadata": {},
     "output_type": "display_data"
    }
   ],
   "source": [
    "fig, ax = plt.subplots(figsize=(8, 6))\n",
    "ax.hist(stud_math['mum_edu'])\n",
    "\n",
    "ax.set_title('Образование матери', fontsize=15)\n",
    "ax.set_xlabel('уровень образования', fontsize=12)\n",
    "ax.set_ylabel('количество', fontsize=12)\n",
    "\n",
    "ax.text(0, 125, '0 - нет', fontsize=11)\n",
    "ax.text(0, 120, '1 - 4 класса', fontsize=11)\n",
    "ax.text(0, 115, '2 - 5-9 классов', fontsize=11)\n",
    "ax.text(0, 110, '3 - среднее специальное или 11 классов', fontsize=11)\n",
    "ax.text(0, 105, '4 - высшее', fontsize=11)\n",
    "\n",
    "plt.show()"
   ]
  },
  {
   "cell_type": "code",
   "execution_count": 223,
   "metadata": {},
   "outputs": [
    {
     "data": {
      "text/plain": [
       "<matplotlib.axes._subplots.AxesSubplot at 0x7f1f00b12a30>"
      ]
     },
     "execution_count": 223,
     "metadata": {},
     "output_type": "execute_result"
    },
    {
     "data": {
      "image/png": "[encoded data removed]",
      "text/plain": [
       "<Figure size 432x288 with 1 Axes>"
      ]
     },
     "metadata": {},
     "output_type": "display_data"
    }
   ],
   "source": [
    "# Посмотрим также на box plot\n",
    "sns.boxplot(data=stud_math.mum_edu)"
   ]
  },
  {
   "cell_type": "markdown",
   "metadata": {},
   "source": [
    "Судя по гистограмме и ящику с усами, в категории 'mum_edu' выбросов нет"
   ]
  },
  {
   "cell_type": "markdown",
   "metadata": {},
   "source": [
    "## Образование отца: 'father_edu'"
   ]
  },
  {
   "cell_type": "markdown",
   "metadata": {},
   "source": [
    "Посмотрим на процентное соотношение образования матерей:\n",
    "\n",
    "0 - образования нет  \n",
    "1 - 4 класса  \n",
    "2 - 5-9 классы  \n",
    "3 - среднее специальное или 11 классов  \n",
    "4 - высшее"
   ]
  },
  {
   "cell_type": "code",
   "execution_count": 224,
   "metadata": {},
   "outputs": [
    {
     "data": {
      "image/png": "[encoded data removed]",
      "text/plain": [
       "<Figure size 576x432 with 1 Axes>"
      ]
     },
     "metadata": {},
     "output_type": "display_data"
    }
   ],
   "source": [
    "fig, ax = plt.subplots(figsize=(8, 6))\n",
    "ax.hist(stud_math['father_edu'], bins=60)\n",
    "\n",
    "ax.set_title('Образование отца', fontsize=15)\n",
    "ax.set_xlabel('уровень образования', fontsize=12)\n",
    "ax.set_ylabel('количество', fontsize=12)\n",
    "\n",
    "ax.text(10, 100, '0 - нет', fontsize=11)\n",
    "ax.text(10, 95, '1 - 4 класса', fontsize=11)\n",
    "ax.text(10, 90, '2 - 5-9 классов', fontsize=11)\n",
    "ax.text(10, 85, '3 - среднее специальное или 11 классов', fontsize=11)\n",
    "ax.text(10, 80, '4 - высшее', fontsize=11)\n",
    "\n",
    "plt.show()"
   ]
  },
  {
   "cell_type": "markdown",
   "metadata": {},
   "source": [
    "Не с первого раза, но заметен странный показатель уровня образования - 40"
   ]
  },
  {
   "cell_type": "code",
   "execution_count": 225,
   "metadata": {},
   "outputs": [
    {
     "data": {
      "text/plain": [
       "<matplotlib.axes._subplots.AxesSubplot at 0x7f1effc637f0>"
      ]
     },
     "execution_count": 225,
     "metadata": {},
     "output_type": "execute_result"
    },
    {
     "data": {
      "image/png": "[encoded data removed]",
      "text/plain": [
       "<Figure size 432x288 with 1 Axes>"
      ]
     },
     "metadata": {},
     "output_type": "display_data"
    }
   ],
   "source": [
    "# Посмотрим также на box plot\n",
    "sns.boxplot(data=stud_math.father_edu)"
   ]
  },
  {
   "cell_type": "markdown",
   "metadata": {},
   "source": [
    "Да, дйствительно, мы видим очень странный выброс. В описании у нас 5 вариантов от 0 до 4. Посмотрим на описание столбца по цифрам, возможно, это обычная опечатка - человеческий фактор при составлении  "
   ]
  },
  {
   "cell_type": "code",
   "execution_count": 226,
   "metadata": {},
   "outputs": [
    {
     "data": {
      "text/html": [
       "<div>\n",
       "<style scoped>\n",
       "    .dataframe tbody tr th:only-of-type {\n",
       "        vertical-align: middle;\n",
       "    }\n",
       "\n",
       "    .dataframe tbody tr th {\n",
       "        vertical-align: top;\n",
       "    }\n",
       "\n",
       "    .dataframe thead th {\n",
       "        text-align: right;\n",
       "    }\n",
       "</style>\n",
       "<table border=\"1\" class=\"dataframe\">\n",
       "  <thead>\n",
       "    <tr style=\"text-align: right;\">\n",
       "      <th></th>\n",
       "      <th>father_edu</th>\n",
       "    </tr>\n",
       "  </thead>\n",
       "  <tbody>\n",
       "    <tr>\n",
       "      <th>2.0</th>\n",
       "      <td>105</td>\n",
       "    </tr>\n",
       "    <tr>\n",
       "      <th>3.0</th>\n",
       "      <td>94</td>\n",
       "    </tr>\n",
       "    <tr>\n",
       "      <th>4.0</th>\n",
       "      <td>88</td>\n",
       "    </tr>\n",
       "    <tr>\n",
       "      <th>1.0</th>\n",
       "      <td>75</td>\n",
       "    </tr>\n",
       "    <tr>\n",
       "      <th>0.0</th>\n",
       "      <td>2</td>\n",
       "    </tr>\n",
       "    <tr>\n",
       "      <th>40.0</th>\n",
       "      <td>1</td>\n",
       "    </tr>\n",
       "  </tbody>\n",
       "</table>\n",
       "</div>"
      ],
      "text/plain": [
       "      father_edu\n",
       "2.0          105\n",
       "3.0           94\n",
       "4.0           88\n",
       "1.0           75\n",
       "0.0            2\n",
       "40.0           1"
      ]
     },
     "execution_count": 226,
     "metadata": {},
     "output_type": "execute_result"
    }
   ],
   "source": [
    "pd.DataFrame(stud_math.father_edu.value_counts())"
   ]
  },
  {
   "cell_type": "markdown",
   "metadata": {},
   "source": [
    "Значение 40.0 встречается только 1 раз. Скорее всего при внесении данных была допущена опечатка и это 4.0. Заменим этот показатель выброса"
   ]
  },
  {
   "cell_type": "code",
   "execution_count": 227,
   "metadata": {},
   "outputs": [],
   "source": [
    "stud_math.loc[stud_math['father_edu'] == 40.0, 'father_edu'] = 4.0"
   ]
  },
  {
   "cell_type": "code",
   "execution_count": 228,
   "metadata": {},
   "outputs": [
    {
     "data": {
      "text/html": [
       "<div>\n",
       "<style scoped>\n",
       "    .dataframe tbody tr th:only-of-type {\n",
       "        vertical-align: middle;\n",
       "    }\n",
       "\n",
       "    .dataframe tbody tr th {\n",
       "        vertical-align: top;\n",
       "    }\n",
       "\n",
       "    .dataframe thead th {\n",
       "        text-align: right;\n",
       "    }\n",
       "</style>\n",
       "<table border=\"1\" class=\"dataframe\">\n",
       "  <thead>\n",
       "    <tr style=\"text-align: right;\">\n",
       "      <th></th>\n",
       "      <th>father_edu</th>\n",
       "    </tr>\n",
       "  </thead>\n",
       "  <tbody>\n",
       "    <tr>\n",
       "      <th>2.0</th>\n",
       "      <td>105</td>\n",
       "    </tr>\n",
       "    <tr>\n",
       "      <th>3.0</th>\n",
       "      <td>94</td>\n",
       "    </tr>\n",
       "    <tr>\n",
       "      <th>4.0</th>\n",
       "      <td>89</td>\n",
       "    </tr>\n",
       "    <tr>\n",
       "      <th>1.0</th>\n",
       "      <td>75</td>\n",
       "    </tr>\n",
       "    <tr>\n",
       "      <th>0.0</th>\n",
       "      <td>2</td>\n",
       "    </tr>\n",
       "  </tbody>\n",
       "</table>\n",
       "</div>"
      ],
      "text/plain": [
       "     father_edu\n",
       "2.0         105\n",
       "3.0          94\n",
       "4.0          89\n",
       "1.0          75\n",
       "0.0           2"
      ]
     },
     "execution_count": 228,
     "metadata": {},
     "output_type": "execute_result"
    }
   ],
   "source": [
    "# Проверим\n",
    "pd.DataFrame(stud_math.father_edu.value_counts())"
   ]
  },
  {
   "cell_type": "markdown",
   "metadata": {},
   "source": [
    "Посмотрим процентное соотношение по этому показателю:"
   ]
  },
  {
   "cell_type": "code",
   "execution_count": 229,
   "metadata": {},
   "outputs": [
    {
     "data": {
      "text/plain": [
       "Text(0.5, 0.98, 'Образование отца')"
      ]
     },
     "execution_count": 229,
     "metadata": {},
     "output_type": "execute_result"
    },
    {
     "data": {
      "image/png": "[encoded data removed]",
      "text/plain": [
       "<Figure size 432x288 with 1 Axes>"
      ]
     },
     "metadata": {},
     "output_type": "display_data"
    }
   ],
   "source": [
    "stud_math.father_edu.value_counts().plot(kind='pie',\n",
    "                                      label='father_edu',\n",
    "                                      autopct='%1.0f%%')\n",
    "plt.ylabel(None)\n",
    "plt.suptitle('Образование отца', fontsize=15)"
   ]
  },
  {
   "cell_type": "markdown",
   "metadata": {},
   "source": [
    "## Время в пути до школы"
   ]
  },
  {
   "cell_type": "markdown",
   "metadata": {},
   "source": [
    "Продолжим изучать числовые столбцы. Следующий - время в пути до школы 'traveltime'. Посмтрим на гистограмму"
   ]
  },
  {
   "cell_type": "code",
   "execution_count": 230,
   "metadata": {},
   "outputs": [
    {
     "data": {
      "text/plain": [
       "Text(0.5, 1.0, 'Время в пути до школы')"
      ]
     },
     "execution_count": 230,
     "metadata": {},
     "output_type": "execute_result"
    },
    {
     "data": {
      "image/png": "[encoded data removed]",
      "text/plain": [
       "<Figure size 432x288 with 1 Axes>"
      ]
     },
     "metadata": {},
     "output_type": "display_data"
    }
   ],
   "source": [
    "stud_math['traveltime'].plot(kind='hist', grid=True)\n",
    "plt.xlabel('1 - <15 мин, 2 - 15-30 мин., 3 - 30-60 мин., 4 - >60 мин',\n",
    "           fontsize=10)\n",
    "plt.ylabel('количество учащихся', fontsize=10)\n",
    "plt.title('Время в пути до школы', fontsize=14)"
   ]
  },
  {
   "cell_type": "code",
   "execution_count": 231,
   "metadata": {},
   "outputs": [
    {
     "data": {
      "text/html": [
       "<div>\n",
       "<style scoped>\n",
       "    .dataframe tbody tr th:only-of-type {\n",
       "        vertical-align: middle;\n",
       "    }\n",
       "\n",
       "    .dataframe tbody tr th {\n",
       "        vertical-align: top;\n",
       "    }\n",
       "\n",
       "    .dataframe thead th {\n",
       "        text-align: right;\n",
       "    }\n",
       "</style>\n",
       "<table border=\"1\" class=\"dataframe\">\n",
       "  <thead>\n",
       "    <tr style=\"text-align: right;\">\n",
       "      <th></th>\n",
       "      <th>traveltime</th>\n",
       "    </tr>\n",
       "  </thead>\n",
       "  <tbody>\n",
       "    <tr>\n",
       "      <th>1.0</th>\n",
       "      <td>239</td>\n",
       "    </tr>\n",
       "    <tr>\n",
       "      <th>2.0</th>\n",
       "      <td>94</td>\n",
       "    </tr>\n",
       "    <tr>\n",
       "      <th>3.0</th>\n",
       "      <td>21</td>\n",
       "    </tr>\n",
       "    <tr>\n",
       "      <th>4.0</th>\n",
       "      <td>7</td>\n",
       "    </tr>\n",
       "  </tbody>\n",
       "</table>\n",
       "</div>"
      ],
      "text/plain": [
       "     traveltime\n",
       "1.0         239\n",
       "2.0          94\n",
       "3.0          21\n",
       "4.0           7"
      ]
     },
     "execution_count": 231,
     "metadata": {},
     "output_type": "execute_result"
    }
   ],
   "source": [
    "pd.DataFrame(stud_math.traveltime.value_counts())"
   ]
  },
  {
   "cell_type": "code",
   "execution_count": 232,
   "metadata": {},
   "outputs": [
    {
     "name": "stdout",
     "output_type": "stream",
     "text": [
      "1.0    66.20\n",
      "2.0    26.04\n",
      "3.0     5.82\n",
      "4.0     1.94\n",
      "Name: traveltime, dtype: float64\n"
     ]
    }
   ],
   "source": [
    "# Посмтрим эти значения в процентах\n",
    "print(round(stud_math['traveltime'].value_counts(normalize=True) * 100, 2))"
   ]
  },
  {
   "cell_type": "markdown",
   "metadata": {},
   "source": [
    "Итого: выбросов не обнаружено; более 66% учащихся добирается до школы менее, чем за 15 минут, при этом есть более 7.5% учеников, у кого на дорогу до школы уходит от 30 до 60 минут и более. "
   ]
  },
  {
   "cell_type": "markdown",
   "metadata": {},
   "source": [
    "## Время на учёбу помимо школы (в неделю)"
   ]
  },
  {
   "cell_type": "markdown",
   "metadata": {},
   "source": [
    "Время на учёбу помимо школы в неделю распередляется следующим образом:  \n",
    "\n",
    "1 - <2 часов  \n",
    "2 - 2-5 часов  \n",
    "3 - 5-10 часов  \n",
    "4 - >10 часов  "
   ]
  },
  {
   "cell_type": "code",
   "execution_count": 233,
   "metadata": {},
   "outputs": [
    {
     "data": {
      "image/png": "[encoded data removed]",
      "text/plain": [
       "<Figure size 576x432 with 1 Axes>"
      ]
     },
     "metadata": {},
     "output_type": "display_data"
    }
   ],
   "source": [
    "fig, ax = plt.subplots(figsize=(8, 6))\n",
    "ax.hist(stud_math['studytime'])\n",
    "\n",
    "ax.set_title('Время на учёбу помимо школы в неделю', fontsize=15)\n",
    "ax.set_xlabel('количество времени в условных единицах', fontsize=12)\n",
    "ax.set_ylabel('количество учащихся', fontsize=12)\n",
    "\n",
    "ax.text(2.8, 175, '1 - <2 часов', fontsize=11)\n",
    "ax.text(2.8, 165, '2 - 2-5 часов', fontsize=11)\n",
    "ax.text(2.8, 155, '3 - 5-10 часов', fontsize=11)\n",
    "ax.text(2.8, 145, '4 - >10 часов', fontsize=11)\n",
    "\n",
    "plt.show()"
   ]
  },
  {
   "cell_type": "markdown",
   "metadata": {},
   "source": [
    "Выбросов нет. Корреляцию посмотрим в дальнейшем."
   ]
  },
  {
   "cell_type": "markdown",
   "metadata": {},
   "source": [
    "## Количество внеучебных неудач "
   ]
  },
  {
   "cell_type": "code",
   "execution_count": 234,
   "metadata": {},
   "outputs": [
    {
     "data": {
      "image/png": "[encoded data removed]",
      "text/plain": [
       "<Figure size 576x432 with 1 Axes>"
      ]
     },
     "metadata": {},
     "output_type": "display_data"
    }
   ],
   "source": [
    "# Количество внеучебных неудач (n, если 1<=n<=3, иначе 0)\n",
    "fig, ax = plt.subplots(figsize=(8, 6))\n",
    "ax.hist(stud_math['failures'])\n",
    "\n",
    "ax.set_title('Количество учащихся по объему внеучебных неудач', fontsize=15)\n",
    "ax.set_xlabel('объем внеучебных неудач', fontsize=12)\n",
    "ax.set_ylabel('количество учащихся', fontsize=12)\n",
    "\n",
    "plt.show()"
   ]
  },
  {
   "cell_type": "code",
   "execution_count": 235,
   "metadata": {},
   "outputs": [
    {
     "name": "stdout",
     "output_type": "stream",
     "text": [
      "0.0    79.02\n",
      "1.0    13.08\n",
      "2.0     4.09\n",
      "3.0     3.81\n",
      "Name: failures, dtype: float64\n"
     ]
    }
   ],
   "source": [
    "# Посмтрим эти значения в процентах\n",
    "print(round(stud_math['failures'].value_counts(normalize=True) * 100, 2))"
   ]
  },
  {
   "cell_type": "markdown",
   "metadata": {},
   "source": [
    "Почти в 80% случаях говорится об отсутствии неудач. Но я бы уже сейчас посмотрела возможную зависимость со значением 'score'. "
   ]
  },
  {
   "cell_type": "code",
   "execution_count": 236,
   "metadata": {
    "scrolled": true
   },
   "outputs": [
    {
     "data": {
      "text/html": [
       "<div>\n",
       "<style scoped>\n",
       "    .dataframe tbody tr th:only-of-type {\n",
       "        vertical-align: middle;\n",
       "    }\n",
       "\n",
       "    .dataframe tbody tr th {\n",
       "        vertical-align: top;\n",
       "    }\n",
       "\n",
       "    .dataframe thead tr th {\n",
       "        text-align: left;\n",
       "    }\n",
       "</style>\n",
       "<table border=\"1\" class=\"dataframe\">\n",
       "  <thead>\n",
       "    <tr>\n",
       "      <th>score</th>\n",
       "      <th colspan=\"4\" halign=\"left\">0.0</th>\n",
       "      <th>20.0</th>\n",
       "      <th colspan=\"4\" halign=\"left\">25.0</th>\n",
       "      <th>30.0</th>\n",
       "      <th colspan=\"4\" halign=\"left\">35.0</th>\n",
       "      <th colspan=\"4\" halign=\"left\">40.0</th>\n",
       "      <th colspan=\"4\" halign=\"left\">45.0</th>\n",
       "      <th colspan=\"4\" halign=\"left\">50.0</th>\n",
       "      <th colspan=\"2\" halign=\"left\">55.0</th>\n",
       "      <th colspan=\"2\" halign=\"left\">60.0</th>\n",
       "      <th colspan=\"3\" halign=\"left\">65.0</th>\n",
       "      <th colspan=\"2\" halign=\"left\">70.0</th>\n",
       "      <th colspan=\"2\" halign=\"left\">75.0</th>\n",
       "      <th>80.0</th>\n",
       "      <th>85.0</th>\n",
       "      <th colspan=\"2\" halign=\"left\">90.0</th>\n",
       "      <th>95.0</th>\n",
       "      <th>100.0</th>\n",
       "    </tr>\n",
       "    <tr>\n",
       "      <th>failures</th>\n",
       "      <th>0.0</th>\n",
       "      <th>1.0</th>\n",
       "      <th>2.0</th>\n",
       "      <th>3.0</th>\n",
       "      <th>2.0</th>\n",
       "      <th>0.0</th>\n",
       "      <th>1.0</th>\n",
       "      <th>2.0</th>\n",
       "      <th>3.0</th>\n",
       "      <th>0.0</th>\n",
       "      <th>0.0</th>\n",
       "      <th>1.0</th>\n",
       "      <th>2.0</th>\n",
       "      <th>3.0</th>\n",
       "      <th>0.0</th>\n",
       "      <th>1.0</th>\n",
       "      <th>2.0</th>\n",
       "      <th>3.0</th>\n",
       "      <th>0.0</th>\n",
       "      <th>1.0</th>\n",
       "      <th>2.0</th>\n",
       "      <th>3.0</th>\n",
       "      <th>0.0</th>\n",
       "      <th>1.0</th>\n",
       "      <th>2.0</th>\n",
       "      <th>3.0</th>\n",
       "      <th>0.0</th>\n",
       "      <th>1.0</th>\n",
       "      <th>0.0</th>\n",
       "      <th>1.0</th>\n",
       "      <th>0.0</th>\n",
       "      <th>1.0</th>\n",
       "      <th>2.0</th>\n",
       "      <th>0.0</th>\n",
       "      <th>1.0</th>\n",
       "      <th>0.0</th>\n",
       "      <th>2.0</th>\n",
       "      <th>0.0</th>\n",
       "      <th>0.0</th>\n",
       "      <th>0.0</th>\n",
       "      <th>1.0</th>\n",
       "      <th>0.0</th>\n",
       "      <th>0.0</th>\n",
       "    </tr>\n",
       "  </thead>\n",
       "  <tbody>\n",
       "    <tr>\n",
       "      <th>school</th>\n",
       "      <td>17</td>\n",
       "      <td>10</td>\n",
       "      <td>4</td>\n",
       "      <td>4</td>\n",
       "      <td>1</td>\n",
       "      <td>3</td>\n",
       "      <td>2</td>\n",
       "      <td>1</td>\n",
       "      <td>1</td>\n",
       "      <td>15</td>\n",
       "      <td>3</td>\n",
       "      <td>2</td>\n",
       "      <td>1</td>\n",
       "      <td>3</td>\n",
       "      <td>15</td>\n",
       "      <td>10</td>\n",
       "      <td>2</td>\n",
       "      <td>1</td>\n",
       "      <td>20</td>\n",
       "      <td>2</td>\n",
       "      <td>3</td>\n",
       "      <td>1</td>\n",
       "      <td>41</td>\n",
       "      <td>6</td>\n",
       "      <td>1</td>\n",
       "      <td>4</td>\n",
       "      <td>41</td>\n",
       "      <td>3</td>\n",
       "      <td>24</td>\n",
       "      <td>6</td>\n",
       "      <td>21</td>\n",
       "      <td>5</td>\n",
       "      <td>1</td>\n",
       "      <td>25</td>\n",
       "      <td>1</td>\n",
       "      <td>30</td>\n",
       "      <td>1</td>\n",
       "      <td>14</td>\n",
       "      <td>6</td>\n",
       "      <td>9</td>\n",
       "      <td>1</td>\n",
       "      <td>5</td>\n",
       "      <td>1</td>\n",
       "    </tr>\n",
       "  </tbody>\n",
       "</table>\n",
       "</div>"
      ],
      "text/plain": [
       "score    0.0               20.0  25.0              30.0  35.0               \\\n",
       "failures   0.0 1.0 2.0 3.0   2.0   0.0 1.0 2.0 3.0   0.0   0.0 1.0 2.0 3.0   \n",
       "school      17  10   4   4     1     3   2   1   1    15     3   2   1   3   \n",
       "\n",
       "score    40.0              45.0              50.0              55.0       \\\n",
       "failures   0.0 1.0 2.0 3.0   0.0 1.0 2.0 3.0   0.0 1.0 2.0 3.0   0.0 1.0   \n",
       "school      15  10   2   1    20   2   3   1    41   6   1   4    41   3   \n",
       "\n",
       "score    60.0      65.0          70.0      75.0      80.0  85.0  90.0       \\\n",
       "failures   0.0 1.0   0.0 1.0 2.0   0.0 1.0   0.0 2.0   0.0   0.0   0.0 1.0   \n",
       "school      24   6    21   5   1    25   1    30   1    14     6     9   1   \n",
       "\n",
       "score    95.0  100.0  \n",
       "failures   0.0   0.0  \n",
       "school       5     1  "
      ]
     },
     "execution_count": 236,
     "metadata": {},
     "output_type": "execute_result"
    }
   ],
   "source": [
    "# Сгруппируем два значения: 'failure' и 'score'\n",
    "# Выберем первую строку 'school' для упрощения\n",
    "pd.DataFrame(stud_math.groupby(['score','failures']).school.count()).T"
   ]
  },
  {
   "cell_type": "markdown",
   "metadata": {},
   "source": [
    "Получился любопытный результат наблюдения:   \n",
    "при значениях score равным 0 количество неудач (18) выше, чем их отсутствие (17)    \n",
    "при значениях score до 35 включительно кол-во неудач (1,2,3) больше, чем их отсутствие  \n",
    "при значениях score больше 35 кол-во неудач (1,2,3) меньше, чем их отсутствие    \n",
    "при значениях score больше 55 значения failure = 2.0 и 3.0 не встречаются  \n",
    "при значениях score 70 и выше в большинстве строк практически нет неудач\n",
    "\n",
    "Если обощить: чем меньше неудач тем выше балл 'score'\n",
    " \n"
   ]
  },
  {
   "cell_type": "code",
   "execution_count": 237,
   "metadata": {},
   "outputs": [
    {
     "data": {
      "text/plain": [
       "Text(0.5, 1.0, 'Зависимость балла по математике от количества внеучебных неудач')"
      ]
     },
     "execution_count": 237,
     "metadata": {},
     "output_type": "execute_result"
    },
    {
     "data": {
      "image/png": "[encoded data removed]",
      "text/plain": [
       "<Figure size 432x288 with 1 Axes>"
      ]
     },
     "metadata": {},
     "output_type": "display_data"
    }
   ],
   "source": [
    "# Посмотрим визуально на гистограмме\n",
    "stud_math.groupby('failures')['score'].mean().plot(kind='bar')\n",
    "plt.xlabel('количество внеучебных неудач', fontsize=14)\n",
    "plt.ylabel('балл', fontsize=14)\n",
    "plt.title('Зависимость балла по математике от количества внеучебных неудач')"
   ]
  },
  {
   "cell_type": "markdown",
   "metadata": {},
   "source": [
    "_Преобразуем эти данные в категориальный формат_"
   ]
  },
  {
   "cell_type": "code",
   "execution_count": 238,
   "metadata": {},
   "outputs": [],
   "source": [
    "def fail(f):\n",
    "    if f == 0:\n",
    "        return 'отсутствуют'\n",
    "    elif f == 1 or f == 2 or f == 3:\n",
    "        return 'неудачи есть'\n",
    "    else:\n",
    "        return 'нет данных'\n",
    "\n",
    "\n",
    "# добавим колонку с обозначением наличия/отсутствия неудач\n",
    "stud_math['fail'] = stud_math.failures.apply(fail)"
   ]
  },
  {
   "cell_type": "markdown",
   "metadata": {},
   "source": [
    "_И теперь посмотрим процентное соотношение_"
   ]
  },
  {
   "cell_type": "code",
   "execution_count": 239,
   "metadata": {},
   "outputs": [
    {
     "name": "stdout",
     "output_type": "stream",
     "text": [
      "отсутствуют     74.55\n",
      "неудачи есть    19.79\n",
      "нет данных       5.66\n",
      "Name: fail, dtype: float64\n"
     ]
    }
   ],
   "source": [
    "print(round(stud_math['fail'].value_counts(normalize=True) * 100, 2))"
   ]
  },
  {
   "cell_type": "code",
   "execution_count": 240,
   "metadata": {},
   "outputs": [
    {
     "data": {
      "text/plain": [
       "Text(0.5, 0.98, 'Наличие внеучебных неудач')"
      ]
     },
     "execution_count": 240,
     "metadata": {},
     "output_type": "execute_result"
    },
    {
     "data": {
      "image/png": "[encoded data removed]",
      "text/plain": [
       "<Figure size 432x288 with 1 Axes>"
      ]
     },
     "metadata": {},
     "output_type": "display_data"
    }
   ],
   "source": [
    "# И наглядно на диаграмме\n",
    "stud_math.fail.value_counts().plot(kind='pie',\n",
    "                                   autopct='%1.2f%%')\n",
    "plt.ylabel(None)\n",
    "plt.suptitle('Наличие внеучебных неудач', fontsize=15)"
   ]
  },
  {
   "cell_type": "markdown",
   "metadata": {},
   "source": [
    "## Семейные отношения: 'famrel'"
   ]
  },
  {
   "cell_type": "code",
   "execution_count": 241,
   "metadata": {},
   "outputs": [
    {
     "data": {
      "text/plain": [
       "<matplotlib.axes._subplots.AxesSubplot at 0x7f1f00101700>"
      ]
     },
     "execution_count": 241,
     "metadata": {},
     "output_type": "execute_result"
    },
    {
     "data": {
      "image/png": "[encoded data removed]",
      "text/plain": [
       "<Figure size 432x288 with 1 Axes>"
      ]
     },
     "metadata": {},
     "output_type": "display_data"
    }
   ],
   "source": [
    "stud_math['famrel'].plot(kind='hist', grid=True, title='Отношения в семье')"
   ]
  },
  {
   "cell_type": "markdown",
   "metadata": {},
   "source": [
    "Наши данные должны находится в пределе от1 до 5. Гистограмма показывает наличие выброса. Посмотрим box plot"
   ]
  },
  {
   "cell_type": "code",
   "execution_count": 242,
   "metadata": {},
   "outputs": [
    {
     "data": {
      "text/plain": [
       "<matplotlib.axes._subplots.AxesSubplot at 0x7f1f003f1cd0>"
      ]
     },
     "execution_count": 242,
     "metadata": {},
     "output_type": "execute_result"
    },
    {
     "data": {
      "image/png": "[encoded data removed]",
      "text/plain": [
       "<Figure size 432x288 with 1 Axes>"
      ]
     },
     "metadata": {},
     "output_type": "display_data"
    }
   ],
   "source": [
    "sns.boxplot(data=stud_math.famrel)"
   ]
  },
  {
   "cell_type": "markdown",
   "metadata": {},
   "source": [
    "Да, мы видим редкие значения 1 и 2, но они входят в нашу область анализа данных. А вот значение -1 - выброс. Исключим ложное значение"
   ]
  },
  {
   "cell_type": "code",
   "execution_count": 243,
   "metadata": {},
   "outputs": [],
   "source": [
    "stud_math = stud_math.loc[stud_math.famrel >= 0]"
   ]
  },
  {
   "cell_type": "code",
   "execution_count": 244,
   "metadata": {},
   "outputs": [
    {
     "name": "stdout",
     "output_type": "stream",
     "text": [
      "4.0    49.31\n",
      "5.0    26.87\n",
      "3.0    17.17\n",
      "2.0     4.71\n",
      "1.0     1.94\n",
      "Name: famrel, dtype: float64\n"
     ]
    }
   ],
   "source": [
    "# Проверим, нет ли больше выбросов\n",
    "# Посмотрим заодно эти значения в процентах\n",
    "print(round(stud_math['famrel'].value_counts(normalize=True) * 100, 2))"
   ]
  },
  {
   "cell_type": "markdown",
   "metadata": {},
   "source": [
    "В основном семейные отношения хорошие или очень хорошие, при этом есть небольшой процент семей с неблагоприятными отношениями внутри семьи."
   ]
  },
  {
   "cell_type": "markdown",
   "metadata": {},
   "source": [
    "## Сободное время после школы: 'freetime'"
   ]
  },
  {
   "cell_type": "code",
   "execution_count": 245,
   "metadata": {},
   "outputs": [
    {
     "data": {
      "image/png": "[encoded data removed]",
      "text/plain": [
       "<Figure size 576x432 with 1 Axes>"
      ]
     },
     "metadata": {},
     "output_type": "display_data"
    }
   ],
   "source": [
    "fig, ax = plt.subplots(figsize=(8, 6))\n",
    "ax.hist(stud_math['freetime'])\n",
    "\n",
    "ax.set_title('Количество свободного времени', fontsize=15)\n",
    "ax.set_xlabel('количество времени', fontsize=12)\n",
    "ax.set_ylabel('количество учащихся', fontsize=12)\n",
    "\n",
    "ax.text(1, 140, '1 - очень мало', fontsize=11)\n",
    "ax.text(1, 135, '2 - мало', fontsize=11)\n",
    "ax.text(1, 130, '3 - достаточно', fontsize=11)\n",
    "ax.text(1, 125, '4 - много', fontsize=11)\n",
    "ax.text(1, 120, '5 - очень много', fontsize=11)\n",
    "\n",
    "plt.show()"
   ]
  },
  {
   "cell_type": "code",
   "execution_count": 246,
   "metadata": {},
   "outputs": [
    {
     "name": "stdout",
     "output_type": "stream",
     "text": [
      "1.0     4.82\n",
      "5.0     9.92\n",
      "2.0    16.43\n",
      "4.0    29.18\n",
      "3.0    39.66\n",
      "Name: freetime, dtype: float64\n"
     ]
    }
   ],
   "source": [
    "# Посмотрим эти значения в процентах\n",
    "print(round(stud_math['freetime'].value_counts(normalize=True) * 100, 2).sort_values())"
   ]
  },
  {
   "cell_type": "markdown",
   "metadata": {},
   "source": [
    "Выбросов не обнаружено. Примерно 70% учащихся имеют достаточно и много свободного времени. У ~20% - свободного времени мало и очень мало. Также практически 10% учащихся имеет очень многосвободного времени."
   ]
  },
  {
   "cell_type": "markdown",
   "metadata": {},
   "source": [
    "## Время с друзьями: 'goout'"
   ]
  },
  {
   "cell_type": "code",
   "execution_count": 247,
   "metadata": {},
   "outputs": [
    {
     "data": {
      "image/png": "[encoded data removed]",
      "text/plain": [
       "<Figure size 576x432 with 1 Axes>"
      ]
     },
     "metadata": {},
     "output_type": "display_data"
    }
   ],
   "source": [
    "fig, ax = plt.subplots(figsize=(8, 6))\n",
    "ax.hist(stud_math['goout'])\n",
    "\n",
    "ax.set_title('Количество времени, проведенного с друзьями', fontsize=15)\n",
    "ax.set_xlabel('количество времени', fontsize=12)\n",
    "ax.set_ylabel('количество учащихся', fontsize=12)\n",
    "\n",
    "ax.text(1, 120, '1 - очень мало', fontsize=11)\n",
    "ax.text(1, 115, '2 - мало', fontsize=11)\n",
    "ax.text(1, 110, '3 - достаточно', fontsize=11)\n",
    "ax.text(1, 105, '4 - много', fontsize=11)\n",
    "ax.text(1, 100, '5 - очень много', fontsize=11)\n",
    "\n",
    "plt.show()"
   ]
  },
  {
   "cell_type": "code",
   "execution_count": 248,
   "metadata": {},
   "outputs": [
    {
     "name": "stdout",
     "output_type": "stream",
     "text": [
      "1.0     5.65\n",
      "5.0    13.28\n",
      "4.0    20.90\n",
      "2.0    26.55\n",
      "3.0    33.62\n",
      "Name: goout, dtype: float64\n"
     ]
    }
   ],
   "source": [
    "# Посмотрим эти значения в процентах\n",
    "print(round(stud_math['goout'].value_counts(normalize=True) * 100, 2).sort_values())"
   ]
  },
  {
   "cell_type": "markdown",
   "metadata": {},
   "source": [
    "Выбросов не найдено. Только чуть более 5.5% детей проводят очень мало времени с друзьями. У подавляющего большинства остется время на социальное общение и дружбу. "
   ]
  },
  {
   "cell_type": "markdown",
   "metadata": {},
   "source": [
    "## Здоровье: 'health'"
   ]
  },
  {
   "cell_type": "code",
   "execution_count": 249,
   "metadata": {},
   "outputs": [
    {
     "data": {
      "image/png": "[encoded data removed]",
      "text/plain": [
       "<Figure size 576x432 with 1 Axes>"
      ]
     },
     "metadata": {},
     "output_type": "display_data"
    }
   ],
   "source": [
    "fig, ax = plt.subplots(figsize=(8, 6))\n",
    "ax.hist(stud_math['health'])\n",
    "\n",
    "ax.set_title('Текущее состояние здоровья', fontsize=15)\n",
    "ax.set_xlabel('состояние здоровья', fontsize=12)\n",
    "ax.set_ylabel('количество учащихся', fontsize=12)\n",
    "\n",
    "ax.text(1, 115, '1 - очень плохое', fontsize=11)\n",
    "ax.text(1, 110, '2 - плохое', fontsize=11)\n",
    "ax.text(1, 105, '3 - не плохое', fontsize=11)\n",
    "ax.text(1, 100, '4 - хорошее', fontsize=11)\n",
    "ax.text(1, 95, '5 - очень хорошее', fontsize=11)\n",
    "\n",
    "plt.show()"
   ]
  },
  {
   "cell_type": "code",
   "execution_count": 250,
   "metadata": {},
   "outputs": [
    {
     "name": "stdout",
     "output_type": "stream",
     "text": [
      "2.0    11.85\n",
      "1.0    12.43\n",
      "4.0    16.47\n",
      "3.0    24.86\n",
      "5.0    34.39\n",
      "Name: health, dtype: float64\n"
     ]
    }
   ],
   "source": [
    "# Посмотрим эти значения в процентах\n",
    "print(round(stud_math['health'].value_counts(normalize=True) * 100, 2).sort_values())"
   ]
  },
  {
   "cell_type": "markdown",
   "metadata": {},
   "source": [
    "Выбросов нет. При этом около четверти учащихся имеют проблемы со здоровьем. Возможно, это может оказывать влияние и на экзаменационный балл."
   ]
  },
  {
   "cell_type": "markdown",
   "metadata": {},
   "source": [
    "##  Количество пропущенных занятий: 'absences'"
   ]
  },
  {
   "cell_type": "code",
   "execution_count": 251,
   "metadata": {},
   "outputs": [
    {
     "data": {
      "text/plain": [
       "Text(0.5, 1.0, 'Количество пропущенных занятий')"
      ]
     },
     "execution_count": 251,
     "metadata": {},
     "output_type": "execute_result"
    },
    {
     "data": {
      "image/png": "[encoded data removed]",
      "text/plain": [
       "<Figure size 432x288 with 1 Axes>"
      ]
     },
     "metadata": {},
     "output_type": "display_data"
    }
   ],
   "source": [
    "stud_math['absences'].hist(bins=100)\n",
    "plt.xlabel('количество пропущенных занятий', fontsize=11)\n",
    "plt.ylabel('количество учащихся', fontsize=11)\n",
    "plt.title('Количество пропущенных занятий', fontsize=13, pad=20)"
   ]
  },
  {
   "cell_type": "code",
   "execution_count": 252,
   "metadata": {},
   "outputs": [
    {
     "data": {
      "text/plain": [
       "<matplotlib.axes._subplots.AxesSubplot at 0x7f1eff8282b0>"
      ]
     },
     "execution_count": 252,
     "metadata": {},
     "output_type": "execute_result"
    },
    {
     "data": {
      "image/png": "[encoded data removed]",
      "text/plain": [
       "<Figure size 432x288 with 1 Axes>"
      ]
     },
     "metadata": {},
     "output_type": "display_data"
    }
   ],
   "source": [
    "# Посмотрим box plot на наличие выбросов\n",
    "sns.boxplot(data=stud_math.absences)"
   ]
  },
  {
   "cell_type": "markdown",
   "metadata": {},
   "source": [
    "Есть значительные выбросы. Посмотрим в процентах"
   ]
  },
  {
   "cell_type": "code",
   "execution_count": 253,
   "metadata": {
    "scrolled": true
   },
   "outputs": [
    {
     "name": "stdout",
     "output_type": "stream",
     "text": [
      "385.0     0.29\n",
      "17.0      0.29\n",
      "11.0      0.29\n",
      "23.0      0.29\n",
      "40.0      0.29\n",
      "38.0      0.29\n",
      "19.0      0.29\n",
      "25.0      0.29\n",
      "54.0      0.29\n",
      "21.0      0.29\n",
      "26.0      0.29\n",
      "56.0      0.29\n",
      "24.0      0.29\n",
      "28.0      0.29\n",
      "212.0     0.29\n",
      "30.0      0.29\n",
      "13.0      0.29\n",
      "1.0       0.57\n",
      "15.0      0.57\n",
      "9.0       0.57\n",
      "22.0      0.86\n",
      "20.0      0.86\n",
      "18.0      1.14\n",
      "5.0       1.43\n",
      "7.0       1.71\n",
      "16.0      2.00\n",
      "3.0       2.00\n",
      "14.0      2.86\n",
      "12.0      3.43\n",
      "10.0      4.29\n",
      "8.0       5.71\n",
      "6.0       8.00\n",
      "4.0      14.57\n",
      "2.0      16.29\n",
      "0.0      28.29\n",
      "Name: absences, dtype: float64\n"
     ]
    }
   ],
   "source": [
    "# Посмотрим эти значения в процентах\n",
    "print(round(stud_math['absences'].value_counts(normalize=True) * 100, 2).sort_values())"
   ]
  },
  {
   "cell_type": "markdown",
   "metadata": {},
   "source": [
    "На мой взгляд, есть очень странные выбросы по количеству пропущенных занятий. Возможно, ученики могли болеть, но действительно ли возможно пропустить больше половины года обучения?  \n",
    "\n",
    "Давайте посмотрим, действительно ли есть зависимость между пропусками  и баллом по математике"
   ]
  },
  {
   "cell_type": "code",
   "execution_count": 254,
   "metadata": {},
   "outputs": [
    {
     "data": {
      "text/plain": [
       "Text(0.5, 1.0, 'Зависимость балла по математике от количества пропущенных занятий')"
      ]
     },
     "execution_count": 254,
     "metadata": {},
     "output_type": "execute_result"
    },
    {
     "data": {
      "image/png": "[encoded data removed]",
      "text/plain": [
       "<Figure size 432x288 with 1 Axes>"
      ]
     },
     "metadata": {},
     "output_type": "display_data"
    }
   ],
   "source": [
    "stud_math.groupby('absences')['score'].mean().plot(kind='bar')\n",
    "plt.xlabel('количество пропущенных занятий', fontsize=14)\n",
    "plt.ylabel('балл', fontsize=14)\n",
    "plt.title('Зависимость балла по математике от количества пропущенных занятий')"
   ]
  },
  {
   "cell_type": "markdown",
   "metadata": {},
   "source": [
    "Как мы видим, четкой зависимости полученной отметки от количества пропущенных занятий не наблюдается. Давайте тогда посмотрим, может, этот показатель будет связан со здоровьем, семейными отношениями, свободным временем и временем, проведенным с друзьями. Посмтрим сводную таблицу."
   ]
  },
  {
   "cell_type": "code",
   "execution_count": 255,
   "metadata": {},
   "outputs": [
    {
     "data": {
      "text/html": [
       "<div>\n",
       "<style scoped>\n",
       "    .dataframe tbody tr th:only-of-type {\n",
       "        vertical-align: middle;\n",
       "    }\n",
       "\n",
       "    .dataframe tbody tr th {\n",
       "        vertical-align: top;\n",
       "    }\n",
       "\n",
       "    .dataframe thead tr th {\n",
       "        text-align: left;\n",
       "    }\n",
       "\n",
       "    .dataframe thead tr:last-of-type th {\n",
       "        text-align: right;\n",
       "    }\n",
       "</style>\n",
       "<table border=\"1\" class=\"dataframe\">\n",
       "  <thead>\n",
       "    <tr>\n",
       "      <th></th>\n",
       "      <th colspan=\"4\" halign=\"left\">count</th>\n",
       "      <th colspan=\"4\" halign=\"left\">mean</th>\n",
       "    </tr>\n",
       "    <tr>\n",
       "      <th></th>\n",
       "      <th>famrel</th>\n",
       "      <th>freetime</th>\n",
       "      <th>goout</th>\n",
       "      <th>health</th>\n",
       "      <th>famrel</th>\n",
       "      <th>freetime</th>\n",
       "      <th>goout</th>\n",
       "      <th>health</th>\n",
       "    </tr>\n",
       "    <tr>\n",
       "      <th>absences</th>\n",
       "      <th></th>\n",
       "      <th></th>\n",
       "      <th></th>\n",
       "      <th></th>\n",
       "      <th></th>\n",
       "      <th></th>\n",
       "      <th></th>\n",
       "      <th></th>\n",
       "    </tr>\n",
       "  </thead>\n",
       "  <tbody>\n",
       "    <tr>\n",
       "      <th>(0, 2]</th>\n",
       "      <td>59</td>\n",
       "      <td>59</td>\n",
       "      <td>57</td>\n",
       "      <td>56</td>\n",
       "      <td>3.898305</td>\n",
       "      <td>3.152542</td>\n",
       "      <td>2.877193</td>\n",
       "      <td>3.625000</td>\n",
       "    </tr>\n",
       "    <tr>\n",
       "      <th>(2, 4]</th>\n",
       "      <td>58</td>\n",
       "      <td>58</td>\n",
       "      <td>55</td>\n",
       "      <td>56</td>\n",
       "      <td>3.931034</td>\n",
       "      <td>3.172414</td>\n",
       "      <td>3.363636</td>\n",
       "      <td>3.267857</td>\n",
       "    </tr>\n",
       "    <tr>\n",
       "      <th>(4, 6]</th>\n",
       "      <td>33</td>\n",
       "      <td>33</td>\n",
       "      <td>33</td>\n",
       "      <td>31</td>\n",
       "      <td>3.787879</td>\n",
       "      <td>3.181818</td>\n",
       "      <td>3.484848</td>\n",
       "      <td>3.419355</td>\n",
       "    </tr>\n",
       "    <tr>\n",
       "      <th>(6, 8]</th>\n",
       "      <td>26</td>\n",
       "      <td>25</td>\n",
       "      <td>26</td>\n",
       "      <td>25</td>\n",
       "      <td>4.038462</td>\n",
       "      <td>3.200000</td>\n",
       "      <td>2.884615</td>\n",
       "      <td>3.520000</td>\n",
       "    </tr>\n",
       "    <tr>\n",
       "      <th>(8, 12]</th>\n",
       "      <td>30</td>\n",
       "      <td>30</td>\n",
       "      <td>30</td>\n",
       "      <td>28</td>\n",
       "      <td>3.933333</td>\n",
       "      <td>3.400000</td>\n",
       "      <td>2.933333</td>\n",
       "      <td>3.392857</td>\n",
       "    </tr>\n",
       "    <tr>\n",
       "      <th>(12, 20]</th>\n",
       "      <td>29</td>\n",
       "      <td>27</td>\n",
       "      <td>28</td>\n",
       "      <td>29</td>\n",
       "      <td>3.793103</td>\n",
       "      <td>3.666667</td>\n",
       "      <td>3.428571</td>\n",
       "      <td>3.586207</td>\n",
       "    </tr>\n",
       "    <tr>\n",
       "      <th>(20, 50]</th>\n",
       "      <td>12</td>\n",
       "      <td>11</td>\n",
       "      <td>12</td>\n",
       "      <td>12</td>\n",
       "      <td>3.750000</td>\n",
       "      <td>2.454545</td>\n",
       "      <td>3.333333</td>\n",
       "      <td>3.000000</td>\n",
       "    </tr>\n",
       "    <tr>\n",
       "      <th>(50, 100]</th>\n",
       "      <td>2</td>\n",
       "      <td>1</td>\n",
       "      <td>2</td>\n",
       "      <td>2</td>\n",
       "      <td>4.500000</td>\n",
       "      <td>3.000000</td>\n",
       "      <td>3.000000</td>\n",
       "      <td>3.000000</td>\n",
       "    </tr>\n",
       "  </tbody>\n",
       "</table>\n",
       "</div>"
      ],
      "text/plain": [
       "           count                            mean                              \n",
       "          famrel freetime goout health    famrel  freetime     goout    health\n",
       "absences                                                                      \n",
       "(0, 2]        59       59    57     56  3.898305  3.152542  2.877193  3.625000\n",
       "(2, 4]        58       58    55     56  3.931034  3.172414  3.363636  3.267857\n",
       "(4, 6]        33       33    33     31  3.787879  3.181818  3.484848  3.419355\n",
       "(6, 8]        26       25    26     25  4.038462  3.200000  2.884615  3.520000\n",
       "(8, 12]       30       30    30     28  3.933333  3.400000  2.933333  3.392857\n",
       "(12, 20]      29       27    28     29  3.793103  3.666667  3.428571  3.586207\n",
       "(20, 50]      12       11    12     12  3.750000  2.454545  3.333333  3.000000\n",
       "(50, 100]      2        1     2      2  4.500000  3.000000  3.000000  3.000000"
      ]
     },
     "execution_count": 255,
     "metadata": {},
     "output_type": "execute_result"
    }
   ],
   "source": [
    "absences = pd.cut(stud_math['absences'], [0, 2,4,6,8, 12, 20, 50,100])\n",
    "stud_math.pivot_table(['health', 'famrel', 'goout', 'freetime'], absences, aggfunc=['count','mean'])"
   ]
  },
  {
   "cell_type": "markdown",
   "metadata": {},
   "source": [
    "Явной зависимости нет, при этом на графике выше прослеживается некоторое снижение балла с увеличением пропусков. Этот показатель оставим."
   ]
  },
  {
   "cell_type": "markdown",
   "metadata": {},
   "source": [
    "## Баллы по госэкзамену по математике: 'score'"
   ]
  },
  {
   "cell_type": "code",
   "execution_count": 258,
   "metadata": {},
   "outputs": [
    {
     "data": {
      "text/plain": [
       "<matplotlib.axes._subplots.AxesSubplot at 0x7f1eff86cfa0>"
      ]
     },
     "execution_count": 258,
     "metadata": {},
     "output_type": "execute_result"
    },
    {
     "data": {
      "image/png": "[encoded data removed]",
      "text/plain": [
       "<Figure size 432x288 with 1 Axes>"
      ]
     },
     "metadata": {},
     "output_type": "display_data"
    }
   ],
   "source": [
    "stud_math.score.hist()"
   ]
  },
  {
   "cell_type": "markdown",
   "metadata": {},
   "source": [
    "Судя по гистограмме, у нас могут быть выбросы. Проверим:"
   ]
  },
  {
   "cell_type": "code",
   "execution_count": 259,
   "metadata": {},
   "outputs": [
    {
     "name": "stdout",
     "output_type": "stream",
     "text": [
      "25-й перцентиль: 40.0, 75-й перцентиль: 70.0, IQR: 30.0,  Границы выбросов: [-5.0, 115.0].\n"
     ]
    },
    {
     "data": {
      "text/plain": [
       "<matplotlib.legend.Legend at 0x7f1eff7173d0>"
      ]
     },
     "execution_count": 259,
     "metadata": {},
     "output_type": "execute_result"
    },
    {
     "data": {
      "image/png": "[encoded data removed]",
      "text/plain": [
       "<Figure size 432x288 with 1 Axes>"
      ]
     },
     "metadata": {},
     "output_type": "display_data"
    }
   ],
   "source": [
    "median = stud_math.score.median()\n",
    "IQR = stud_math.score.quantile(0.75) - stud_math.score.quantile(0.25)\n",
    "perc25 = stud_math.score.quantile(0.25)\n",
    "perc75 = stud_math.score.quantile(0.75)\n",
    "print('25-й перцентиль: {},'.format(perc25),\n",
    "      '75-й перцентиль: {},'.format(perc75),\n",
    "      \"IQR: {}, \".format(IQR),\n",
    "      \"Границы выбросов: [{f}, {l}].\".format(f=perc25 - 1.5*IQR, l=perc75 + 1.5*IQR))\n",
    "\n",
    "stud_math.score.loc[stud_math.score <= 101].hist(bins = 21, \n",
    "                                  range = (-1, 101), \n",
    "                                  color = 'pink',\n",
    "                                  label = 'выбросы')\n",
    "\n",
    "stud_math.score.loc[stud_math.score.between(perc25 - 1.5*IQR, perc75 + 1.5*IQR)].hist(bins = 21, \n",
    "                                                                        range = (-1, 101),\n",
    "                                                                        label = 'IQR')\n",
    "\n",
    "plt.legend()"
   ]
  },
  {
   "cell_type": "code",
   "execution_count": 260,
   "metadata": {},
   "outputs": [
    {
     "data": {
      "text/plain": [
       "count    361.000000\n",
       "mean      52.368421\n",
       "std       22.846103\n",
       "min        0.000000\n",
       "25%       40.000000\n",
       "50%       55.000000\n",
       "75%       70.000000\n",
       "max      100.000000\n",
       "Name: score, dtype: float64"
      ]
     },
     "execution_count": 260,
     "metadata": {},
     "output_type": "execute_result"
    }
   ],
   "source": [
    "stud_math.score.describe()"
   ]
  },
  {
   "cell_type": "code",
   "execution_count": 261,
   "metadata": {},
   "outputs": [
    {
     "data": {
      "text/plain": [
       "<matplotlib.axes._subplots.AxesSubplot at 0x7f1eff5f9340>"
      ]
     },
     "execution_count": 261,
     "metadata": {},
     "output_type": "execute_result"
    },
    {
     "data": {
      "image/png": "[encoded data removed]",
      "text/plain": [
       "<Figure size 432x288 with 1 Axes>"
      ]
     },
     "metadata": {},
     "output_type": "display_data"
    }
   ],
   "source": [
    "# Давайте посмотрим на распределение без нуля\n",
    "score_without_0 = stud_math.score.apply(lambda x: x if x>0 else np.nan)\n",
    "sns.distplot(score_without_0, bins = 10)"
   ]
  },
  {
   "cell_type": "code",
   "execution_count": 262,
   "metadata": {},
   "outputs": [
    {
     "name": "stdout",
     "output_type": "stream",
     "text": [
      "25-й перцентиль: 50.0, 75-й перцентиль: 70.0, IQR: 20.0,  Границы выбросов: [20.0, 100.0].\n"
     ]
    },
    {
     "data": {
      "text/plain": [
       "<matplotlib.legend.Legend at 0x7f1eff812eb0>"
      ]
     },
     "execution_count": 262,
     "metadata": {},
     "output_type": "execute_result"
    },
    {
     "data": {
      "image/png": "[encoded data removed]",
      "text/plain": [
       "<Figure size 432x288 with 1 Axes>"
      ]
     },
     "metadata": {},
     "output_type": "display_data"
    }
   ],
   "source": [
    "median = score_without_0.median()\n",
    "IQR = score_without_0.quantile(0.75) - score_without_0.quantile(0.25)\n",
    "perc25 = score_without_0.quantile(0.25)\n",
    "perc75 = score_without_0.quantile(0.75)\n",
    "print('25-й перцентиль: {},'.format(perc25),\n",
    "      '75-й перцентиль: {},'.format(perc75),\n",
    "      \"IQR: {}, \".format(IQR),\n",
    "      \"Границы выбросов: [{f}, {l}].\".format(f=perc25 - 1.5*IQR, l=perc75 + 1.5*IQR))\n",
    "\n",
    "\n",
    "score_without_0.loc[score_without_0 <= 101].hist(bins = 15, \n",
    "                                  range = (19, 101), \n",
    "                                  color = 'pink',\n",
    "                                  label = 'выбросы')\n",
    "\n",
    "score_without_0.loc[score_without_0.between(perc25 - 1.5*IQR, perc75 + 1.5*IQR)].hist(bins = 15, \n",
    "                                                                        range = (19, 101),\n",
    "                                                                        label = 'IQR')\n",
    "\n",
    "plt.legend()"
   ]
  },
  {
   "cell_type": "markdown",
   "metadata": {},
   "source": [
    "Если посмотреть на границы выбросов, то у нас нет 0, и нет выхода выше 100 (скорее всего максимальный балл был 100)."
   ]
  },
  {
   "cell_type": "code",
   "execution_count": 263,
   "metadata": {},
   "outputs": [
    {
     "name": "stdout",
     "output_type": "stream",
     "text": [
      "(361, 30)\n"
     ]
    }
   ],
   "source": [
    "print(stud_math.shape)"
   ]
  },
  {
   "cell_type": "code",
   "execution_count": 264,
   "metadata": {},
   "outputs": [],
   "source": [
    "# Избавимся от выбросов\n",
    "stud_math = stud_math.loc[stud_math.score.between(perc25 - 1.5 * IQR,\n",
    "                                                  perc75 + 1.5 * IQR)]"
   ]
  },
  {
   "cell_type": "markdown",
   "metadata": {},
   "source": [
    "Посмотрим на итоговый вариант"
   ]
  },
  {
   "cell_type": "code",
   "execution_count": 265,
   "metadata": {},
   "outputs": [
    {
     "data": {
      "text/plain": [
       "<matplotlib.axes._subplots.AxesSubplot at 0x7f1eff50db20>"
      ]
     },
     "execution_count": 265,
     "metadata": {},
     "output_type": "execute_result"
    },
    {
     "data": {
      "image/png": "[encoded data removed]",
      "text/plain": [
       "<Figure size 432x288 with 1 Axes>"
      ]
     },
     "metadata": {},
     "output_type": "display_data"
    }
   ],
   "source": [
    "stud_math.score.hist()"
   ]
  },
  {
   "cell_type": "markdown",
   "metadata": {},
   "source": [
    "# Пройдемся по столбцам с категориальными значениями"
   ]
  },
  {
   "cell_type": "markdown",
   "metadata": {},
   "source": [
    "Посмотрим значения (подсчитаем уникальные значения) сразу для всех категориальных столбцов:"
   ]
  },
  {
   "cell_type": "code",
   "execution_count": 266,
   "metadata": {
    "scrolled": true
   },
   "outputs": [
    {
     "name": "stdout",
     "output_type": "stream",
     "text": [
      "\n",
      "Название столбца: school\n",
      "GP    290\n",
      "MS     37\n",
      "Name: school, dtype: int64\n",
      "\n",
      "Название столбца: sex\n",
      "F    170\n",
      "M    157\n",
      "Name: sex, dtype: int64\n",
      "\n",
      "Название столбца: address\n",
      "U    260\n",
      "R     67\n",
      "Name: address, dtype: int64\n",
      "\n",
      "Название столбца: famsize\n",
      "GT3    232\n",
      "LE3     95\n",
      "Name: famsize, dtype: int64\n",
      "\n",
      "Название столбца: parents_status\n",
      "T    297\n",
      "A     30\n",
      "Name: parents_status, dtype: int64\n",
      "\n",
      "Название столбца: mum_job\n",
      "other       124\n",
      "services     81\n",
      "at_home      47\n",
      "teacher      47\n",
      "health       28\n",
      "Name: mum_job, dtype: int64\n",
      "\n",
      "Название столбца: father_job\n",
      "other       192\n",
      "services     82\n",
      "teacher      26\n",
      "at_home      14\n",
      "health       13\n",
      "Name: father_job, dtype: int64\n",
      "\n",
      "Название столбца: reason\n",
      "course        120\n",
      "reputation     91\n",
      "home           83\n",
      "other          33\n",
      "Name: reason, dtype: int64\n",
      "\n",
      "Название столбца: guardian\n",
      "mother    237\n",
      "father     71\n",
      "other      19\n",
      "Name: guardian, dtype: int64\n",
      "\n",
      "Название столбца: schoolsup\n",
      "no     282\n",
      "yes     45\n",
      "Name: schoolsup, dtype: int64\n",
      "\n",
      "Название столбца: famsup\n",
      "yes    212\n",
      "no     115\n",
      "Name: famsup, dtype: int64\n",
      "\n",
      "Название столбца: paid\n",
      "no     190\n",
      "yes    137\n",
      "Name: paid, dtype: int64\n",
      "\n",
      "Название столбца: activities\n",
      "yes    170\n",
      "no     157\n",
      "Name: activities, dtype: int64\n",
      "\n",
      "Название столбца: nursery\n",
      "yes    266\n",
      "no      61\n",
      "Name: nursery, dtype: int64\n",
      "\n",
      "Название столбца: higher\n",
      "yes    315\n",
      "no      12\n",
      "Name: higher, dtype: int64\n",
      "\n",
      "Название столбца: internet\n",
      "yes    281\n",
      "no      46\n",
      "Name: internet, dtype: int64\n",
      "\n",
      "Название столбца: romantic\n",
      "no     232\n",
      "yes     95\n",
      "Name: romantic, dtype: int64\n",
      "\n",
      "Название столбца: fail\n",
      "отсутствуют     254\n",
      "неудачи есть     53\n",
      "нет данных       20\n",
      "Name: fail, dtype: int64\n"
     ]
    }
   ],
   "source": [
    "for col in stud_math.columns:\n",
    "    if stud_math[col].dtype == 'object':\n",
    "        print('\\nНазвание столбца:',\n",
    "            col,\n",
    "        )\n",
    "        print(stud_math[col].value_counts())"
   ]
  },
  {
   "cell_type": "markdown",
   "metadata": {},
   "source": [
    "__Какие данные мы имеем:__  \n",
    "- есть только две школы, записей для учеников школы GP намного больше, чем учеников школы MS;\n",
    "- распределение учеников примерно одинаковое (170 девочек и 157 мальчиков);\n",
    "- учеников, проживающих в городе гораздо больше (260), чем за городом(67) - возможно,это связано со школой, в которую дети ходят;\n",
    "- учеников многодетных семей больше (232 и 95);\n",
    "- родители, в основном, живут вместе (297 и 30);\n",
    "- в сведениях о работе матери большинство значений имеют вариант \"другое\".\n",
    "- в сведениях о работе отца большинство значений имеют вариант \"другое\".\n",
    "- преобладающее большинство выбирало школу по образовательной программе (120). На втром месте - репутация школы (91)\n",
    "- преобладающее большинтво детей сопровождают матери (237), отцы только 71, есть дети, кто в качестве опекунов имеют отметку \"другое\".\n",
    "- дополнительная образовательная поддержка: имеют 282, не имеют 45\n",
    "- семейная образовательная поддержка: у многих детей она имеется (212), но также у значительного количества детей ее нет (115).\n",
    "- меньше половины (137 человек) имеют дополнителные платные занятия по математике, а 190 детей дополнительно платно не занимаются.\n",
    "- дополнительные внеучебные занятия: у большей половины есть (170 против 157).\n",
    "- преобладающее большинство посещало детский сад (266 против 61).\n",
    "- практически все хотят получить высшее образование (315), только 12 человек не планируют его получать.\n",
    "- преобладающее большинство имеет дома интернет (281 против 46).\n",
    "- преобладающее большинство состоит в романтических отнршениях (232 против 95).\n",
    "\n",
    "\n",
    "_Эту информацию будем принимать во внимание._"
   ]
  },
  {
   "cell_type": "markdown",
   "metadata": {},
   "source": [
    "# Корреляционный анализ"
   ]
  },
  {
   "cell_type": "markdown",
   "metadata": {},
   "source": [
    "Для того, чтобы найти и отобрать данные, которые имеют наибольшую (положительную или отрицательную) корреляцию со столбцом 'score', проведем корреляционный анализ. "
   ]
  },
  {
   "cell_type": "code",
   "execution_count": 267,
   "metadata": {},
   "outputs": [
    {
     "data": {
      "text/plain": [
       "failures     -0.272641\n",
       "goout        -0.163253\n",
       "age          -0.116884\n",
       "traveltime   -0.078749\n",
       "health       -0.067138\n",
       "freetime     -0.017335\n",
       "absences      0.002373\n",
       "famrel        0.030041\n",
       "father_edu    0.136274\n",
       "studytime     0.142675\n",
       "mum_edu       0.171035\n",
       "score         1.000000\n",
       "Name: score, dtype: float64"
      ]
     },
     "execution_count": 267,
     "metadata": {},
     "output_type": "execute_result"
    }
   ],
   "source": [
    "# Посмотрим корреляцию \n",
    "stud_math.corr()['score'].sort_values()"
   ]
  },
  {
   "cell_type": "markdown",
   "metadata": {},
   "source": [
    "Мы видим положительную и отрицательную корреляцию. При положительном результате это означает, что с возрастанием одного показателя, балл 'score' также возрастает. И наоборот, при отрицательной корреляции чем выше один показатель, тем ниже итоговый балл госэкзамена по математике."
   ]
  },
  {
   "cell_type": "markdown",
   "metadata": {},
   "source": [
    "### Положительная корреляция\n",
    "\n",
    "- Положительная корреляция параметра 'mum_edu' и 'father_edu' указывает на то, что с увеличением этих показателя (чем лучше образование) балл по госэкзамену увеличивается. При этом от уровня образования матери итоговый балл зависит сильнее, чем от образования отца.\n",
    "\n",
    "- Положительная корреляция параметра 'studytime' и 'score' может говорить о том, что при увеличении затрачиваемого времени на учёбу помимо школы показатель в столбце 'score' (итоговый балл) имеет возврастающих характер. То же касается и уровня семейных отношений: чем они лучше, тем выше экзаменационный балл."
   ]
  },
  {
   "cell_type": "markdown",
   "metadata": {},
   "source": [
    "### Отрицательная корреляция\n",
    "\n",
    "- Отрицательная корреляция параметра 'failures' говорит о том, что чем больше внеучебных неудач, тем балл по госэкзамену ниже.\n",
    "\n",
    "- Отрицательная корреляция параметра 'goout' показывает, что чем больше ученик проводит времени с друзьями, тем его балл может быть ниже.\n",
    "\n",
    "- Отрицательная корреляция параметра 'age' cо 'score' указывает на возможность того, что чем старше ученик, тем его балл вероятно будет ниже.\n",
    "\n",
    "- Отрицательная корреляция параметра 'traveltime' cо 'score' показывает на то, что чем больше времени у ученика уходит на дорогу до школы, чем балл может быть ниже.\n",
    "\n",
    "- Отрицательная корреляция параметра 'health' может подтверждать предположение: чем больше ребенок болеет, тем ниже его успеваемость.\n",
    "\n",
    "- Отрицательная корреляция параметра 'freetime' cо 'score' показывает вероятную обратную зависимость между свободным временем после школы и баллом: чем больше у учащегося свободного времени, тем экзаменационный балл может быть ниже."
   ]
  },
  {
   "cell_type": "markdown",
   "metadata": {},
   "source": [
    "### Посмотрим итоговый балл по разным признакам"
   ]
  },
  {
   "cell_type": "markdown",
   "metadata": {},
   "source": [
    "#### Сравним средний балл по мальчикам (M) и девочкам (F) и сразу по обеим школам"
   ]
  },
  {
   "cell_type": "code",
   "execution_count": 268,
   "metadata": {},
   "outputs": [
    {
     "data": {
      "text/plain": [
       "<matplotlib.axes._subplots.AxesSubplot at 0x7f1eff461fd0>"
      ]
     },
     "execution_count": 268,
     "metadata": {},
     "output_type": "execute_result"
    },
    {
     "data": {
      "image/png": "[encoded data removed]",
      "text/plain": [
       "<Figure size 432x288 with 1 Axes>"
      ]
     },
     "metadata": {},
     "output_type": "display_data"
    }
   ],
   "source": [
    "sns.boxplot(x='school', y='score', data=stud_math, hue='sex')"
   ]
  },
  {
   "cell_type": "markdown",
   "metadata": {},
   "source": [
    "Мы видим, что средний балл по госэкзамену по математике в школе GP выше, но незначительно. В школе GP средний балл выше у мальчиков, при этом в школе MS средний балл выше имеют девочки. Обратим внимание, что средний балл у девочек в разных школах он примерно одинаковый, а у мальчиков в школе GP он выше, а в школе MS ниже. "
   ]
  },
  {
   "cell_type": "markdown",
   "metadata": {},
   "source": [
    "### Номинативные переменные"
   ]
  },
  {
   "cell_type": "markdown",
   "metadata": {},
   "source": [
    "С помощью box plot посмотрим, различаются ли распределения балла в зависимости от значения некоторых номинативных переменных.\n",
    "\n",
    "Рассмотрим: 'famsize', 'parents_status', 'reason', 'gardian', 'schoolsup', 'famsup', 'paid', 'activities', 'nursery', 'mum_job', 'father_job', 'romantic'. "
   ]
  },
  {
   "cell_type": "code",
   "execution_count": 269,
   "metadata": {},
   "outputs": [],
   "source": [
    "# функция для построения box plot\n",
    "def stud_boxplot(column):\n",
    "    fig, ax = plt.subplots(figsize=(5, 2))\n",
    "    sns.boxplot(x=column,\n",
    "                y='score',\n",
    "                data=stud_math.loc[stud_math.loc[:, column].isin(\n",
    "                    stud_math.loc[:, column].value_counts().index[:])],\n",
    "                ax=ax)\n",
    "    plt.xticks(rotation=45)\n",
    "    ax.set_title('Boxplot for ' + column)\n",
    "    plt.show()"
   ]
  },
  {
   "cell_type": "code",
   "execution_count": 270,
   "metadata": {
    "scrolled": true
   },
   "outputs": [
    {
     "data": {
      "image/png": "[encoded data removed]",
      "text/plain": [
       "<Figure size 360x144 with 1 Axes>"
      ]
     },
     "metadata": {},
     "output_type": "display_data"
    },
    {
     "data": {
      "image/png": "[encoded data removed]",
      "text/plain": [
       "<Figure size 360x144 with 1 Axes>"
      ]
     },
     "metadata": {},
     "output_type": "display_data"
    },
    {
     "data": {
      "image/png": "[encoded data removed]",
      "text/plain": [
       "<Figure size 360x144 with 1 Axes>"
      ]
     },
     "metadata": {},
     "output_type": "display_data"
    },
    {
     "data": {
      "image/png": "[encoded data removed]",
      "text/plain": [
       "<Figure size 360x144 with 1 Axes>"
      ]
     },
     "metadata": {},
     "output_type": "display_data"
    },
    {
     "data": {
      "image/png": "[encoded data removed]",
      "text/plain": [
       "<Figure size 360x144 with 1 Axes>"
      ]
     },
     "metadata": {},
     "output_type": "display_data"
    },
    {
     "data": {
      "image/png": "[encoded data removed]",
      "text/plain": [
       "<Figure size 360x144 with 1 Axes>"
      ]
     },
     "metadata": {},
     "output_type": "display_data"
    },
    {
     "data": {
      "image/png": "[encoded data removed]",
      "text/plain": [
       "<Figure size 360x144 with 1 Axes>"
      ]
     },
     "metadata": {},
     "output_type": "display_data"
    },
    {
     "data": {
      "image/png": "[encoded data removed]",
      "text/plain": [
       "<Figure size 360x144 with 1 Axes>"
      ]
     },
     "metadata": {},
     "output_type": "display_data"
    },
    {
     "data": {
      "image/png": "[encoded data removed]",
      "text/plain": [
       "<Figure size 360x144 with 1 Axes>"
      ]
     },
     "metadata": {},
     "output_type": "display_data"
    },
    {
     "data": {
      "image/png": "[encoded data removed]",
      "text/plain": [
       "<Figure size 360x144 with 1 Axes>"
      ]
     },
     "metadata": {},
     "output_type": "display_data"
    },
    {
     "data": {
      "image/png": "[encoded data removed]",
      "text/plain": [
       "<Figure size 360x144 with 1 Axes>"
      ]
     },
     "metadata": {},
     "output_type": "display_data"
    },
    {
     "data": {
      "image/png": "[encoded data removed]",
      "text/plain": [
       "<Figure size 360x144 with 1 Axes>"
      ]
     },
     "metadata": {},
     "output_type": "display_data"
    }
   ],
   "source": [
    "for col in [\n",
    "        'famsize', 'parents_status', 'reason', 'guardian', 'schoolsup', 'famsup', 'paid',\n",
    "        'activities', 'nursery', 'mum_job', 'father_job', 'romantic'\n",
    "]:\n",
    "    stud_boxplot(col)"
   ]
  },
  {
   "cell_type": "markdown",
   "metadata": {},
   "source": [
    "По графикам видим, что оказывать влияние на итоговый балл могут такие параметры, как 'schoolsup', 'mum_job', 'father_job'."
   ]
  },
  {
   "cell_type": "markdown",
   "metadata": {},
   "source": [
    "_Для остальных параметров построим графики плотности. Рассмотрим место проживания, хотят ли дети получать высшее образование, есть ли дома интернет._"
   ]
  },
  {
   "cell_type": "markdown",
   "metadata": {},
   "source": [
    "#### Распределение баллов в зависимости от места проживания"
   ]
  },
  {
   "cell_type": "code",
   "execution_count": 271,
   "metadata": {},
   "outputs": [
    {
     "data": {
      "text/plain": [
       "Text(0.5, 1.0, 'График плотности по месту проживания')"
      ]
     },
     "execution_count": 271,
     "metadata": {},
     "output_type": "execute_result"
    },
    {
     "data": {
      "image/png": "[encoded data removed]",
      "text/plain": [
       "<Figure size 432x288 with 1 Axes>"
      ]
     },
     "metadata": {},
     "output_type": "display_data"
    }
   ],
   "source": [
    "sns.kdeplot(stud_math.loc[stud_math['address'] == 'U', 'score'],\n",
    "            label='Город',\n",
    "            shade=True)\n",
    "sns.kdeplot(stud_math.loc[stud_math['address'] == 'R', 'score'],\n",
    "            label='За городом',\n",
    "            shade=True)\n",
    "\n",
    "plt.xlabel('набранный балл')\n",
    "plt.ylabel('плотность оценок')\n",
    "plt.title('График плотности по месту проживания',\n",
    "          fontsize=13,\n",
    "          pad=15)"
   ]
  },
  {
   "cell_type": "markdown",
   "metadata": {},
   "source": [
    "``` Вывод: ```  \n",
    "_Параметр 'address' оставляем - он может влиять на итоговый балл на экзамене_"
   ]
  },
  {
   "cell_type": "markdown",
   "metadata": {},
   "source": [
    "#### Распределение баллов в зависимости от желания получить высшее образование"
   ]
  },
  {
   "cell_type": "code",
   "execution_count": 272,
   "metadata": {},
   "outputs": [
    {
     "data": {
      "text/plain": [
       "Text(0.5, 1.0, 'График плотности по желанию получить высшее образование')"
      ]
     },
     "execution_count": 272,
     "metadata": {},
     "output_type": "execute_result"
    },
    {
     "data": {
      "image/png": "[encoded data removed]",
      "text/plain": [
       "<Figure size 432x288 with 1 Axes>"
      ]
     },
     "metadata": {},
     "output_type": "display_data"
    }
   ],
   "source": [
    "sns.kdeplot(stud_math.loc[stud_math['higher'] == 'yes', 'score'],\n",
    "            label='Хочет',\n",
    "            shade=True)\n",
    "sns.kdeplot(stud_math.loc[stud_math['higher'] == 'no', 'score'],\n",
    "            label='Не хочет',\n",
    "            shade=True)\n",
    "\n",
    "plt.xlabel('набранный балл')\n",
    "plt.ylabel('плотность оценок')\n",
    "plt.title('График плотности по желанию получить высшее образование',\n",
    "    fontsize=13,\n",
    "    pad=15)"
   ]
  },
  {
   "cell_type": "markdown",
   "metadata": {},
   "source": [
    "``` Вывод: ```  \n",
    "_Параметр 'higher' оставляем - он может влиять на итоговый балл на экзамене_"
   ]
  },
  {
   "cell_type": "markdown",
   "metadata": {},
   "source": [
    "#### Распределение баллов в зависимости от наличия интернета дома"
   ]
  },
  {
   "cell_type": "code",
   "execution_count": 273,
   "metadata": {},
   "outputs": [
    {
     "data": {
      "text/plain": [
       "Text(0.5, 1.0, 'График плотности по наличию интернета')"
      ]
     },
     "execution_count": 273,
     "metadata": {},
     "output_type": "execute_result"
    },
    {
     "data": {
      "image/png": "[encoded data removed]",
      "text/plain": [
       "<Figure size 432x288 with 1 Axes>"
      ]
     },
     "metadata": {},
     "output_type": "display_data"
    }
   ],
   "source": [
    "sns.kdeplot(stud_math.loc[stud_math['internet'] == 'yes', 'score'],\n",
    "            label='Есть интернет',\n",
    "            shade=True)\n",
    "sns.kdeplot(stud_math.loc[stud_math['internet'] == 'no', 'score'],\n",
    "            label='Нет интернета',\n",
    "            shade=True)\n",
    "\n",
    "# Добавление надписей\n",
    "plt.xlabel('набранный балл')\n",
    "plt.ylabel('плотность оценок')\n",
    "plt.title('График плотности по наличию интернета',\n",
    "          fontsize=13,\n",
    "          pad=15)"
   ]
  },
  {
   "cell_type": "markdown",
   "metadata": {},
   "source": [
    "``` Вывод: ```  \n",
    "_Параметр 'higher' оставляем - он может влиять на итоговый балл на экзамене_"
   ]
  },
  {
   "cell_type": "markdown",
   "metadata": {},
   "source": [
    "## Тест Стьюдента\n",
    "\n",
    "Проверим нулевую гипотезу о том, что распределения баллов по математике по различным параметрам неразличимы"
   ]
  },
  {
   "cell_type": "code",
   "execution_count": 274,
   "metadata": {},
   "outputs": [],
   "source": [
    "def get_stat_dif(column):\n",
    "    cols = stud_math.loc[:, column].value_counts().index[:10]\n",
    "    combinations_all = list(combinations(cols, 2))\n",
    "    for comb in combinations_all:\n",
    "        if ttest_ind(stud_math.loc[stud_math.loc[:, column] == comb[0], 'score'],\n",
    "                     stud_math.loc[stud_math.loc[:, column] == comb[1], 'score']).pvalue \\\n",
    "                <= 0.05/len(combinations_all):  # учет поправки Бонферони\n",
    "            print('Найдены статистически значимые различия для колонки', column)\n",
    "            break"
   ]
  },
  {
   "cell_type": "code",
   "execution_count": 275,
   "metadata": {},
   "outputs": [
    {
     "name": "stdout",
     "output_type": "stream",
     "text": [
      "Найдены статистически значимые различия для колонки father_job\n",
      "Найдены статистически значимые различия для колонки schoolsup\n"
     ]
    }
   ],
   "source": [
    "for col in ['famsize', 'parents_status',\n",
    "            'mum_job', 'father_job', 'reason', 'guardian', 'schoolsup',\n",
    "            'famsup', 'paid', 'activities', 'nursery',\n",
    "            'romantic']:\n",
    "    get_stat_dif(col)"
   ]
  },
  {
   "cell_type": "markdown",
   "metadata": {},
   "source": [
    "Как мы видим, серьезно отличаются 2 параметра: 'father_job' и 'schoolsup' (дополнительная образовательная поддержка). Оставим также и эти переменные в датасете для дальнейшего построения модели.\n",
    "\n",
    "Итак, в нашем случае важные переменные, которые, возможно, оказывают влияние на итоговую оценку ('score'), это: **age, absences, address, mum_edu, father_edu, mum_job, father_job, studytime, paid, goout, schoolsup, higher, internet, failures.**"
   ]
  },
  {
   "cell_type": "code",
   "execution_count": 277,
   "metadata": {},
   "outputs": [
    {
     "data": {
      "text/html": [
       "<div>\n",
       "<style scoped>\n",
       "    .dataframe tbody tr th:only-of-type {\n",
       "        vertical-align: middle;\n",
       "    }\n",
       "\n",
       "    .dataframe tbody tr th {\n",
       "        vertical-align: top;\n",
       "    }\n",
       "\n",
       "    .dataframe thead th {\n",
       "        text-align: right;\n",
       "    }\n",
       "</style>\n",
       "<table border=\"1\" class=\"dataframe\">\n",
       "  <thead>\n",
       "    <tr style=\"text-align: right;\">\n",
       "      <th></th>\n",
       "      <th>score</th>\n",
       "      <th>absences</th>\n",
       "      <th>address</th>\n",
       "      <th>age</th>\n",
       "      <th>failures</th>\n",
       "      <th>father_edu</th>\n",
       "      <th>father_job</th>\n",
       "      <th>goout</th>\n",
       "      <th>higher</th>\n",
       "      <th>internet</th>\n",
       "      <th>mum_edu</th>\n",
       "      <th>mum_job</th>\n",
       "      <th>paid</th>\n",
       "      <th>schoolsup</th>\n",
       "      <th>studytime</th>\n",
       "    </tr>\n",
       "  </thead>\n",
       "  <tbody>\n",
       "    <tr>\n",
       "      <th>0</th>\n",
       "      <td>30.0</td>\n",
       "      <td>6.0</td>\n",
       "      <td>U</td>\n",
       "      <td>18</td>\n",
       "      <td>0.0</td>\n",
       "      <td>4.0</td>\n",
       "      <td>teacher</td>\n",
       "      <td>4.0</td>\n",
       "      <td>yes</td>\n",
       "      <td>yes</td>\n",
       "      <td>4.0</td>\n",
       "      <td>at_home</td>\n",
       "      <td>no</td>\n",
       "      <td>yes</td>\n",
       "      <td>2.0</td>\n",
       "    </tr>\n",
       "    <tr>\n",
       "      <th>1</th>\n",
       "      <td>30.0</td>\n",
       "      <td>4.0</td>\n",
       "      <td>U</td>\n",
       "      <td>17</td>\n",
       "      <td>0.0</td>\n",
       "      <td>1.0</td>\n",
       "      <td>other</td>\n",
       "      <td>3.0</td>\n",
       "      <td>yes</td>\n",
       "      <td>yes</td>\n",
       "      <td>1.0</td>\n",
       "      <td>at_home</td>\n",
       "      <td>no</td>\n",
       "      <td>no</td>\n",
       "      <td>2.0</td>\n",
       "    </tr>\n",
       "    <tr>\n",
       "      <th>2</th>\n",
       "      <td>50.0</td>\n",
       "      <td>10.0</td>\n",
       "      <td>U</td>\n",
       "      <td>15</td>\n",
       "      <td>3.0</td>\n",
       "      <td>1.0</td>\n",
       "      <td>other</td>\n",
       "      <td>2.0</td>\n",
       "      <td>yes</td>\n",
       "      <td>yes</td>\n",
       "      <td>1.0</td>\n",
       "      <td>at_home</td>\n",
       "      <td>no</td>\n",
       "      <td>yes</td>\n",
       "      <td>2.0</td>\n",
       "    </tr>\n",
       "    <tr>\n",
       "      <th>3</th>\n",
       "      <td>75.0</td>\n",
       "      <td>2.0</td>\n",
       "      <td>U</td>\n",
       "      <td>15</td>\n",
       "      <td>0.0</td>\n",
       "      <td>2.0</td>\n",
       "      <td>other</td>\n",
       "      <td>2.0</td>\n",
       "      <td>yes</td>\n",
       "      <td>yes</td>\n",
       "      <td>4.0</td>\n",
       "      <td>health</td>\n",
       "      <td>yes</td>\n",
       "      <td>no</td>\n",
       "      <td>3.0</td>\n",
       "    </tr>\n",
       "    <tr>\n",
       "      <th>4</th>\n",
       "      <td>50.0</td>\n",
       "      <td>4.0</td>\n",
       "      <td>U</td>\n",
       "      <td>16</td>\n",
       "      <td>0.0</td>\n",
       "      <td>3.0</td>\n",
       "      <td>other</td>\n",
       "      <td>2.0</td>\n",
       "      <td>yes</td>\n",
       "      <td>no</td>\n",
       "      <td>3.0</td>\n",
       "      <td>other</td>\n",
       "      <td>yes</td>\n",
       "      <td>no</td>\n",
       "      <td>2.0</td>\n",
       "    </tr>\n",
       "  </tbody>\n",
       "</table>\n",
       "</div>"
      ],
      "text/plain": [
       "   score  absences address  age  failures  father_edu father_job  goout  \\\n",
       "0   30.0       6.0       U   18       0.0         4.0    teacher    4.0   \n",
       "1   30.0       4.0       U   17       0.0         1.0      other    3.0   \n",
       "2   50.0      10.0       U   15       3.0         1.0      other    2.0   \n",
       "3   75.0       2.0       U   15       0.0         2.0      other    2.0   \n",
       "4   50.0       4.0       U   16       0.0         3.0      other    2.0   \n",
       "\n",
       "  higher internet  mum_edu  mum_job paid schoolsup  studytime  \n",
       "0    yes      yes      4.0  at_home   no       yes        2.0  \n",
       "1    yes      yes      1.0  at_home   no        no        2.0  \n",
       "2    yes      yes      1.0  at_home   no       yes        2.0  \n",
       "3    yes      yes      4.0   health  yes        no        3.0  \n",
       "4    yes       no      3.0    other  yes        no        2.0  "
      ]
     },
     "execution_count": 277,
     "metadata": {},
     "output_type": "execute_result"
    }
   ],
   "source": [
    "# создадим новый датафрейм для построения будущей модели\n",
    "stud_math_for_model = stud_math.loc[:, [\n",
    "    'score', 'absences', 'address', 'age', 'failures', 'father_edu', 'father_job', 'goout',  'higher', 'internet',\n",
    "    'mum_edu',  'mum_job', 'paid', 'schoolsup', 'studytime' \n",
    "    \n",
    "]]\n",
    "stud_math_for_model.head()"
   ]
  },
  {
   "cell_type": "markdown",
   "metadata": {},
   "source": [
    "# Выводы\n",
    "\n",
    "В результате EDA для анализа влияния различных параметров на балл по госэкзамену по математике были получены следующие выводы:\n",
    "\n",
    "- В данных есть пустые значения, в некоторых случаях они составляли около 12% от всех значений рассматриваемого параметра. При этом нулевые значения полностью отсутствут только у колонок, в которых содержится информация о школе ученика, его половой принадлежности и возрасте.\n",
    "- Выбросы найдены в столбцах, в которых хранятся сведения об образовании отца, отношениях в семье, пропущенных занятиях. В столбце, где хранятся данные о балле по госэкзамену были отмечены подозрительные значения.\n",
    "- Параметр 'father_job' имеет существенно много значений 'другое'.\n",
    "- Положительная корреляция параметра 'mum_edu' и 'father_edu' указывает на то, что с увеличением этих показателя (чем лучше образование) балл по госэкзамену увеличивается. При этом от уровня образования матери итоговый балл зависит сильнее, чем от образования отца.\n",
    "- Положительная корреляция параметра 'studytime' и 'score' может говорить о том, что при увеличении затрачиваемого времени на учёбу помимо школы показатель в столбце 'score' (итоговый балл) имеет возврастающих характер. То же касается и уровня семейных отношений: чем они лучше, тем выше экзаменационный балл.\n",
    "- Отрицательная корреляция параметра 'failures' говорит о том, что чем больше внеучебных неудач, тем балл по госэкзамену ниже.\n",
    "- Отрицательная корреляция параметра 'goout' показывает, что чем больше ученик проводит времени с друзьями, тем его балл может быть ниже.\n",
    "- Отрицательная корреляция параметра 'age' cо 'score' указывает на возможность того, что чем старше ученик, тем его балл вероятно будет ниже.\n",
    "- Отрицательная корреляция параметра 'traveltime' cо 'score' показывает на то, что чем больше времени у ученика уходит на дорогу до школы, чем балл может быть ниже.\n",
    "- Отрицательная корреляция параметра 'health' может подтверждать предположение: чем больше ребенок болеет, тем ниже его успеваемость.\n",
    "- Отрицательная корреляция параметра 'freetime' cо 'score' показывает вероятную обратную зависимость между свободным временем после школы и баллом: чем больше у учащегося свободного времени, тем экзаменационный балл может быть ниже.\n",
    "\n",
    "Самые важные параметры, которые предполагается использовать в дальнейшем для построения модели, это  **age, absences, address, mum_edu, father_edu, mum_job, father_job, studytime, paid, goout, schoolsup, higher, internet, failures.**\n",
    "\n",
    "Результат работы включает подготовленный датасет **stud_math_for_model**."
   ]
  },
  {
   "cell_type": "code",
   "execution_count": null,
   "metadata": {},
   "outputs": [],
   "source": []
  }
 ],
 "metadata": {
  "kernelspec": {
   "display_name": "Python 3",
   "language": "python",
   "name": "python3"
  },
  "language_info": {
   "codemirror_mode": {
    "name": "ipython",
    "version": 3
   },
   "file_extension": ".py",
   "mimetype": "text/x-python",
   "name": "python",
   "nbconvert_exporter": "python",
   "pygments_lexer": "ipython3",
   "version": "3.8.3"
  }
 },
 "nbformat": 4,
 "nbformat_minor": 4
}
