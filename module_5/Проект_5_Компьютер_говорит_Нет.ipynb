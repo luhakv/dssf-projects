{
 "cells": [
  {
   "cell_type": "markdown",
   "metadata": {},
   "source": [
    "## Итоговое задание Анны Лубневской  \n",
    "### по Проекту 5. Компьютер говорит «Нет» \n",
    "###  Юнит 5. Основные алгоритмы машинного обучения. Часть I "
   ]
  },
  {
   "cell_type": "markdown",
   "metadata": {},
   "source": [
    "### Описание задачи\n",
    "- Обработка предоставленных данных: нахождение и заполнение пропусков, кодировка, нормализация признаков;\n",
    "- Создание новых признаков с использованием предоставленных данных;\n",
    "- Отбор признаков;\n",
    "- Визуализация;\n",
    "- Обучение и тестирование модели на полученных признаках;\n",
    "- Оптимизация размера набора данных \n",
    "- Получение нового значения ROC AUC для новой модели, улучшение ее результатов на основе подбора параметра регуляризации;\n",
    "- Получение предсказанных моделью значений, подготовка и отправка submission\n",
    "\n",
    "### Описание датасета\n",
    "Первоначальная версия датасета состоит столбцов, содержащих следующую информацию:\n",
    "\n",
    "- **client_id** - идентификатор клиента\n",
    "- **education** - уровень образования\n",
    "- **sex** - пол заёмщика\n",
    "- **age** - возраст заёмщика\n",
    "- **car** - флаг наличия автомобиля\n",
    "- **car_type**\t- флаг автомобиля-иномарки\n",
    "- **decline_app_cnt** - количество отказанных прошлых заявок\n",
    "- **good_work** - флаг наличия «хорошей» работы\n",
    "- **bki_request_cnt** - количество запросов в БКИ\n",
    "- **home_address** - категоризатор домашнего адреса\n",
    "- **work_address** - категоризатор рабочего адреса\n",
    "- **income** - доход заёмщика\n",
    "- **foreign_passport** - наличие загранпаспорта\n",
    "- **sna** - связь заемщика с клиентами банка\n",
    "- **first_time** - давность наличия информации о заемщике\n",
    "- **score_bki** - скоринговый балл по данным из БКИ\n",
    "- **region_rating** - рейтинг региона\n",
    "- **app_date** - дата подачи заявки\n",
    "- **default** - наличие дефолта (целевая переменная)"
   ]
  },
  {
   "cell_type": "markdown",
   "metadata": {},
   "source": [
    "### Импорт библиотек, установка параметров, определение функций"
   ]
  },
  {
   "cell_type": "code",
   "execution_count": 2,
   "metadata": {},
   "outputs": [],
   "source": [
    "import pandas as pd\n",
    "from pandas import Series\n",
    "import numpy as np\n",
    "from sklearn.model_selection import train_test_split, cross_validate, learning_curve \n",
    "from sklearn.ensemble import RandomForestRegressor \n",
    "from sklearn import metrics\n",
    "from sklearn.metrics import accuracy_score, precision_score, recall_score, f1_score\n",
    "from sklearn.preprocessing import LabelEncoder, OneHotEncoder, StandardScaler, MinMaxScaler\n",
    "from sklearn.preprocessing import PolynomialFeatures\n",
    "from collections import Counter\n",
    "import matplotlib.pyplot as plt\n",
    "import seaborn as sns \n",
    "%matplotlib inline\n",
    "import re\n",
    "import math\n",
    "import copy\n",
    "from IPython.display import display\n",
    "from sklearn.linear_model import LogisticRegression\n",
    "from sklearn.metrics import confusion_matrix\n",
    "from sklearn.metrics import auc, roc_auc_score, roc_curve\n",
    "from sklearn.model_selection import StratifiedShuffleSplit\n",
    "from sklearn.feature_selection import f_classif, mutual_info_classif\n",
    "from sklearn.model_selection import GridSearchCV, RandomizedSearchCV\n",
    "from sklearn.model_selection import cross_val_score\n",
    "from sklearn.model_selection import StratifiedKFold\n",
    "from importlib import reload\n",
    "from tqdm import tqdm\n",
    "from datetime import datetime\n",
    "\n",
    "import warnings\n",
    "warnings.filterwarnings(\"ignore\")\n",
    "\n",
    "import os"
   ]
  },
  {
   "cell_type": "code",
   "execution_count": 2,
   "metadata": {},
   "outputs": [],
   "source": [
    "# функции используемые в ноутбуке\n",
    "\n",
    "def df_describe(df):\n",
    "    desc = df.describe(include='all',percentiles=[0.5]).T\n",
    "    desc['type'] = [type(x) for x in df.iloc[0]]\n",
    "    desc['NaN'] = df.isna().sum()\n",
    "    desc.unique = df.nunique()\n",
    "    desc.top = df.mode(axis=0).iloc[0]\n",
    "    desc.freq = [df[col].value_counts().iloc[0] for col in  df.columns]\n",
    "    return desc\n",
    "\n",
    "def nums_visualisation(df,annotation=False):\n",
    "    columns = df.columns\n",
    "    cols_num = df.shape[1]\n",
    "    \n",
    "    fstr = '\\033[1m{}\\033[0m, '* (len(columns)-1) + '\\033[1m{}\\033[0m'\n",
    "    if annotation: print(('Всего признаков этого типа {}. К ним относятся: ' + fstr).format(len(columns),*columns))\n",
    "\n",
    "    indent = 0.05\n",
    "    fig = plt.figure(figsize=(14,3))\n",
    "    for i,col in enumerate(columns):\n",
    "        row = df[col]\n",
    "        min_diff = pd.Series(row.unique()).sort_values().diff().min()\n",
    "        bins = min(int((row.max()-row.min()) /min_diff + 1),100)\n",
    "        \n",
    "        fig.add_axes([1/cols_num*i, 0.35, 1/cols_num-indent, 1])\n",
    "        plt.title(col)\n",
    "        row.plot.hist(bins=bins,density=True)\n",
    "    \n",
    "        fig.add_axes([1/cols_num*i, 0, 1/cols_num-indent, 0.2])\n",
    "        sns.boxplot(x=row)\n",
    "\n",
    "    plt.tight_layout()\n",
    "\n",
    "def num_visualisation(column,df_inp,lg=False): \n",
    "    df = df_inp.copy()\n",
    "    \n",
    "    if lg: df[column] = np.log(df[column]+1)\n",
    "        \n",
    "    hue = df.default\n",
    "    trn = df[df['sample']==1]\n",
    "    tst = df[df['sample']==0]\n",
    "    \n",
    "    row = df[column]\n",
    "    row1 = trn[column][hue==0]\n",
    "    row2 = trn[column][hue==1]\n",
    "    \n",
    "    row3 = trn[column]\n",
    "    row4 = tst[column]\n",
    "    \n",
    "    min_diff = pd.Series(row.unique()).sort_values().diff().min()\n",
    "    bins = min(int((row.max()-row.min()) /min_diff + 1),100)\n",
    "    bins_range = row.min()-min_diff/2 ,row.max()+min_diff/2 \n",
    "\n",
    "    fig = plt.figure(figsize=(14,4))\n",
    "    \n",
    "    ax1 = fig.add_axes([0, 0.4, 0.45, 1])\n",
    "    plt.title('Распределение '+column+' в train в зависимоти от значения default' )\n",
    "    row1.plot.hist(bins=bins,density=True,alpha = 0.65)\n",
    "    row2.plot.hist(bins=bins,density=True,alpha = 0.65)\n",
    "    plt.legend(['negative','positive'])\n",
    "    \n",
    "    ax2 = fig.add_axes([0, 0, 0.45, 0.30]) \n",
    "    ax1.get_shared_x_axes().join(ax1, ax2)\n",
    "    sns.boxplot(data = [row1,row2],orient='h',saturation = 0.5)\n",
    "    \n",
    "    ax3 = fig.add_axes([0.55, 0.4, 0.45, 1])\n",
    "    plt.title('Распределение '+column+' в train и test' )\n",
    "    row3.plot.hist(bins=bins,density=True,alpha = 0.65)\n",
    "    row4.plot.hist(bins=bins,density=True,alpha = 0.65)\n",
    "    plt.legend(['train','test'])  \n",
    "    \n",
    "    ax4 = fig.add_axes([0.55, 0, 0.45, 0.30]) \n",
    "    ax4.get_shared_x_axes().join(ax3, ax4)\n",
    "    sns.boxplot(data = [row3,row4],orient='h',saturation = 0.5)\n",
    "\n",
    "    \n",
    "def cats_visualisation(df):\n",
    "    columns = df.columns\n",
    "    cols_num = df.shape[1]\n",
    "    \n",
    "    fstr = '\\033[1m{}\\033[0m, '* (len(columns)-1) + '\\033[1m{}\\033[0m'\n",
    "    print(('Всего признаков этого типа {}. К ним относятся: ' + fstr).format(len(columns),*columns))\n",
    "    \n",
    "    indent = 0.05\n",
    "    fig = plt.figure(figsize=(14,3))\n",
    "    for i,col in enumerate(columns):\n",
    "        row = df[col]\n",
    "        bins = df.shape[1]\n",
    "        \n",
    "        fig.add_axes([1/cols_num*i, 0, 1/cols_num-indent, 1])\n",
    "        plt.title(col)\n",
    "        sns.countplot(df[col])\n",
    "    \n",
    "def cat_visualisation(row):\n",
    "    feat_name = row.name\n",
    "    fig, axes = plt.subplots(1,2,figsize = (14,5))\n",
    "    \n",
    "    hue = data.default\n",
    "    \n",
    "    dist_1 = pd.DataFrame({'neg':row[hue==0].value_counts(normalize=True),\n",
    "                           'pos':row[hue==1].value_counts(normalize=True)})\n",
    "    ind = dist_1.index\n",
    "    dist_2 = pd.DataFrame({'neg':data.groupby(feat_name).default.value_counts(normalize=True)[:,0],\n",
    "                           'pos':data.groupby(feat_name).default.value_counts(normalize=True)[:,1]}).loc[ind]\n",
    "    \n",
    "    display(dist_2.T)\n",
    "    dist_1.plot.bar(title = 'Распределение категорий '+ feat_name + '\\n при разных значениях default',ax = axes[0])\n",
    "    dist_2.plot.bar(title = 'Распределение default в каждой категории '+ feat_name,ax = axes[1],stacked=True)\n",
    "    plt.legend(loc = 4)\n",
    "    \n",
    "def pre_process(df_inp):\n",
    "    df = df_inp.copy()\n",
    "    label_encoder = LabelEncoder()\n",
    "    scaler = StandardScaler()    \n",
    "    \n",
    "    # заполнение пропусков\n",
    "    df.education.fillna(df.education.mode()[0],inplace=True)\n",
    "    \n",
    "    df.drop(columns='app_date',inplace=True)\n",
    "    \n",
    "    # разделение на типы призанков\n",
    "    num_uniq = df.nunique()\n",
    "    bin_cols = df.columns[num_uniq==2]\n",
    "    cat_cols = df.columns[(num_uniq>2) & (num_uniq<10)] \n",
    "    num_cols = df.columns[num_uniq>=10]\n",
    "    \n",
    "    # обработка численных признаков\n",
    "    for col in num_cols.drop(['client_id','score_bki']):\n",
    "        df[col] = np.log(df[col]+1)\n",
    "        \n",
    "    df[num_cols] = scaler.fit_transform(df[num_cols].values)\n",
    "    \n",
    "    # обработка категориальных признаков\n",
    "    df = pd.get_dummies(df,columns=cat_cols)\n",
    "    \n",
    "    # отбработка бинарных признаков\n",
    "    for col in bin_cols:\n",
    "        df[col] = label_encoder.fit_transform(df[col])\n",
    "    \n",
    "    # удаление client_id\n",
    "    df.drop(columns='client_id')\n",
    "        \n",
    "    return df\n",
    "\n",
    "def validation(X,y,model):\n",
    "    model = model\n",
    "    cv_results = cross_validate(model, X, y, scoring='roc_auc', cv=5,)\n",
    "    return cv_results['test_score'].mean()"
   ]
  },
  {
   "cell_type": "code",
   "execution_count": 3,
   "metadata": {},
   "outputs": [
    {
     "name": "stdout",
     "output_type": "stream",
     "text": [
      "Populating the interactive namespace from numpy and matplotlib\n"
     ]
    }
   ],
   "source": [
    "# установка параметров\n",
    "%pylab inline\n",
    "\n",
    "pd.set_option('display.max_rows', 70) # выведем больше строк\n",
    "pd.set_option('display.max_columns', 30) # выведем больше колонок\n",
    "\n",
    "RANDOM_SEED = 42\n",
    "model = LogisticRegression()\n",
    "\n",
    "solvers_hyperparameters = {\n",
    "    'newton-cg': {'penalty': ['l2'] , \n",
    "#                   'tol': logspace(-5,-3,2) ,\n",
    "                  'C': logspace(-3, 3, 7) , \n",
    "                  'class_weight':  [{0:1, 1:x} for x in range(1,13,3)] ,\n",
    "                  'max_iter': [500] \n",
    "                 }, \n",
    "    'lbfgs':     {'penalty': ['l2'] , \n",
    "#                   'tol': logspace(-5,-3,2) ,\n",
    "                  'C': logspace(-3, 3, 7) , \n",
    "                 'class_weight':  [{0:1, 1:x} for x in range(1,13,3)] ,\n",
    "                  'max_iter': [500] \n",
    "                 }, \n",
    "    'liblinear': {'penalty': ['l1', 'l2'] , \n",
    "#                   'tol': logspace(-5,-3,2) ,\n",
    "                  'C': logspace(-3, 3, 7) , \n",
    "                  'intercept_scaling': [1,3,10,33,100],  \n",
    "                 'class_weight':  [{0:1, 1:x} for x in range(1,13,3)] \n",
    "                 },\n",
    "    'sag':       {'penalty': ['l2'] , \n",
    "#                   'tol': logspace(-5,-3,2) ,\n",
    "                  'C': logspace(-3, 3, 7) , \n",
    "                 'class_weight':  [{0:1, 1:x} for x in range(1,13,3)] ,\n",
    "                  'max_iter': [500] \n",
    "                 }, \n",
    "    'saga':      {'penalty': ['l1', 'l2'] , \n",
    "#                   'tol': logspace(-5,-3,2) ,\n",
    "                  'C': logspace(-3, 3, 7) , \n",
    "                 'class_weight':  [{0:1, 1:x} for x in range(1,13,3)] \n",
    "                 }\n",
    "}"
   ]
  },
  {
   "cell_type": "markdown",
   "metadata": {},
   "source": [
    "### Знакомство с данными"
   ]
  },
  {
   "cell_type": "code",
   "execution_count": 151,
   "metadata": {},
   "outputs": [],
   "source": [
    "sample_submission = pd.read_csv('data/sample_submission.csv')\n",
    "test = pd.read_csv('data/test.csv')\n",
    "train = pd.read_csv('data/train.csv')"
   ]
  },
  {
   "cell_type": "markdown",
   "metadata": {},
   "source": [
    "Для корректной работы с признаками объединим train и test в один датасет data"
   ]
  },
  {
   "cell_type": "code",
   "execution_count": 152,
   "metadata": {},
   "outputs": [],
   "source": [
    "train['sample'] = 1  # помечаем где у нас train\n",
    "test['sample'] = 0   # помечаем где у нас test\n",
    "test['default'] = 0  # в test нет значения default, поэтому пока просто заполняем нулями\n",
    "\n",
    "data = test.append(train, sort=False).reset_index(drop=True) # объединяем"
   ]
  },
  {
   "cell_type": "code",
   "execution_count": 153,
   "metadata": {},
   "outputs": [
    {
     "data": {
      "text/plain": [
       "0"
      ]
     },
     "execution_count": 153,
     "metadata": {},
     "output_type": "execute_result"
    }
   ],
   "source": [
    "# Проверим наличие дупликатов\n",
    "data.duplicated().sum()"
   ]
  },
  {
   "cell_type": "code",
   "execution_count": 154,
   "metadata": {},
   "outputs": [
    {
     "name": "stdout",
     "output_type": "stream",
     "text": [
      "<class 'pandas.core.frame.DataFrame'>\n",
      "RangeIndex: 110148 entries, 0 to 110147\n",
      "Data columns (total 20 columns):\n",
      " #   Column            Non-Null Count   Dtype  \n",
      "---  ------            --------------   -----  \n",
      " 0   client_id         110148 non-null  int64  \n",
      " 1   app_date          110148 non-null  object \n",
      " 2   education         109670 non-null  object \n",
      " 3   sex               110148 non-null  object \n",
      " 4   age               110148 non-null  int64  \n",
      " 5   car               110148 non-null  object \n",
      " 6   car_type          110148 non-null  object \n",
      " 7   decline_app_cnt   110148 non-null  int64  \n",
      " 8   good_work         110148 non-null  int64  \n",
      " 9   score_bki         110148 non-null  float64\n",
      " 10  bki_request_cnt   110148 non-null  int64  \n",
      " 11  region_rating     110148 non-null  int64  \n",
      " 12  home_address      110148 non-null  int64  \n",
      " 13  work_address      110148 non-null  int64  \n",
      " 14  income            110148 non-null  int64  \n",
      " 15  sna               110148 non-null  int64  \n",
      " 16  first_time        110148 non-null  int64  \n",
      " 17  foreign_passport  110148 non-null  object \n",
      " 18  sample            110148 non-null  int64  \n",
      " 19  default           110148 non-null  int64  \n",
      "dtypes: float64(1), int64(13), object(6)\n",
      "memory usage: 16.8+ MB\n"
     ]
    }
   ],
   "source": [
    "# посмотрим на данные\n",
    "\n",
    "data.info()"
   ]
  },
  {
   "cell_type": "code",
   "execution_count": 155,
   "metadata": {},
   "outputs": [
    {
     "name": "stdout",
     "output_type": "stream",
     "text": [
      "<class 'pandas.core.frame.DataFrame'>\n",
      "RangeIndex: 110148 entries, 0 to 110147\n",
      "Columns: 20 entries, client_id to default\n",
      "dtypes: float64(1), int64(13), object(6)\n",
      "memory usage: 16.8+ MB\n"
     ]
    }
   ],
   "source": [
    "data.info(verbose=False)"
   ]
  },
  {
   "cell_type": "code",
   "execution_count": 156,
   "metadata": {},
   "outputs": [
    {
     "data": {
      "text/html": [
       "<div>\n",
       "<style scoped>\n",
       "    .dataframe tbody tr th:only-of-type {\n",
       "        vertical-align: middle;\n",
       "    }\n",
       "\n",
       "    .dataframe tbody tr th {\n",
       "        vertical-align: top;\n",
       "    }\n",
       "\n",
       "    .dataframe thead th {\n",
       "        text-align: right;\n",
       "    }\n",
       "</style>\n",
       "<table border=\"1\" class=\"dataframe\">\n",
       "  <thead>\n",
       "    <tr style=\"text-align: right;\">\n",
       "      <th></th>\n",
       "      <th>client_id</th>\n",
       "      <th>app_date</th>\n",
       "      <th>education</th>\n",
       "      <th>sex</th>\n",
       "      <th>age</th>\n",
       "      <th>car</th>\n",
       "      <th>car_type</th>\n",
       "      <th>decline_app_cnt</th>\n",
       "      <th>good_work</th>\n",
       "      <th>score_bki</th>\n",
       "      <th>bki_request_cnt</th>\n",
       "      <th>region_rating</th>\n",
       "      <th>home_address</th>\n",
       "      <th>work_address</th>\n",
       "      <th>income</th>\n",
       "      <th>sna</th>\n",
       "      <th>first_time</th>\n",
       "      <th>foreign_passport</th>\n",
       "      <th>sample</th>\n",
       "      <th>default</th>\n",
       "    </tr>\n",
       "  </thead>\n",
       "  <tbody>\n",
       "    <tr>\n",
       "      <th>0</th>\n",
       "      <td>74835</td>\n",
       "      <td>22MAR2014</td>\n",
       "      <td>GRD</td>\n",
       "      <td>M</td>\n",
       "      <td>29</td>\n",
       "      <td>Y</td>\n",
       "      <td>Y</td>\n",
       "      <td>0</td>\n",
       "      <td>0</td>\n",
       "      <td>-2.271884</td>\n",
       "      <td>3</td>\n",
       "      <td>50</td>\n",
       "      <td>1</td>\n",
       "      <td>2</td>\n",
       "      <td>50000</td>\n",
       "      <td>1</td>\n",
       "      <td>4</td>\n",
       "      <td>N</td>\n",
       "      <td>0</td>\n",
       "      <td>0</td>\n",
       "    </tr>\n",
       "    <tr>\n",
       "      <th>1</th>\n",
       "      <td>17527</td>\n",
       "      <td>24JAN2014</td>\n",
       "      <td>SCH</td>\n",
       "      <td>F</td>\n",
       "      <td>39</td>\n",
       "      <td>N</td>\n",
       "      <td>N</td>\n",
       "      <td>5</td>\n",
       "      <td>0</td>\n",
       "      <td>-1.504999</td>\n",
       "      <td>2</td>\n",
       "      <td>50</td>\n",
       "      <td>1</td>\n",
       "      <td>2</td>\n",
       "      <td>5000</td>\n",
       "      <td>4</td>\n",
       "      <td>3</td>\n",
       "      <td>N</td>\n",
       "      <td>0</td>\n",
       "      <td>0</td>\n",
       "    </tr>\n",
       "    <tr>\n",
       "      <th>2</th>\n",
       "      <td>75683</td>\n",
       "      <td>23MAR2014</td>\n",
       "      <td>UGR</td>\n",
       "      <td>M</td>\n",
       "      <td>50</td>\n",
       "      <td>Y</td>\n",
       "      <td>Y</td>\n",
       "      <td>0</td>\n",
       "      <td>0</td>\n",
       "      <td>-1.691339</td>\n",
       "      <td>1</td>\n",
       "      <td>50</td>\n",
       "      <td>1</td>\n",
       "      <td>2</td>\n",
       "      <td>30000</td>\n",
       "      <td>1</td>\n",
       "      <td>3</td>\n",
       "      <td>Y</td>\n",
       "      <td>0</td>\n",
       "      <td>0</td>\n",
       "    </tr>\n",
       "    <tr>\n",
       "      <th>3</th>\n",
       "      <td>26883</td>\n",
       "      <td>03FEB2014</td>\n",
       "      <td>SCH</td>\n",
       "      <td>M</td>\n",
       "      <td>56</td>\n",
       "      <td>N</td>\n",
       "      <td>N</td>\n",
       "      <td>0</td>\n",
       "      <td>0</td>\n",
       "      <td>-2.374182</td>\n",
       "      <td>1</td>\n",
       "      <td>40</td>\n",
       "      <td>1</td>\n",
       "      <td>2</td>\n",
       "      <td>17000</td>\n",
       "      <td>1</td>\n",
       "      <td>3</td>\n",
       "      <td>N</td>\n",
       "      <td>0</td>\n",
       "      <td>0</td>\n",
       "    </tr>\n",
       "    <tr>\n",
       "      <th>4</th>\n",
       "      <td>28862</td>\n",
       "      <td>04FEB2014</td>\n",
       "      <td>GRD</td>\n",
       "      <td>F</td>\n",
       "      <td>38</td>\n",
       "      <td>N</td>\n",
       "      <td>N</td>\n",
       "      <td>0</td>\n",
       "      <td>0</td>\n",
       "      <td>-2.487502</td>\n",
       "      <td>0</td>\n",
       "      <td>80</td>\n",
       "      <td>2</td>\n",
       "      <td>3</td>\n",
       "      <td>120000</td>\n",
       "      <td>1</td>\n",
       "      <td>3</td>\n",
       "      <td>N</td>\n",
       "      <td>0</td>\n",
       "      <td>0</td>\n",
       "    </tr>\n",
       "  </tbody>\n",
       "</table>\n",
       "</div>"
      ],
      "text/plain": [
       "   client_id   app_date education sex  age car car_type  decline_app_cnt  \\\n",
       "0      74835  22MAR2014       GRD   M   29   Y        Y                0   \n",
       "1      17527  24JAN2014       SCH   F   39   N        N                5   \n",
       "2      75683  23MAR2014       UGR   M   50   Y        Y                0   \n",
       "3      26883  03FEB2014       SCH   M   56   N        N                0   \n",
       "4      28862  04FEB2014       GRD   F   38   N        N                0   \n",
       "\n",
       "   good_work  score_bki  bki_request_cnt  region_rating  home_address  \\\n",
       "0          0  -2.271884                3             50             1   \n",
       "1          0  -1.504999                2             50             1   \n",
       "2          0  -1.691339                1             50             1   \n",
       "3          0  -2.374182                1             40             1   \n",
       "4          0  -2.487502                0             80             2   \n",
       "\n",
       "   work_address  income  sna  first_time foreign_passport  sample  default  \n",
       "0             2   50000    1           4                N       0        0  \n",
       "1             2    5000    4           3                N       0        0  \n",
       "2             2   30000    1           3                Y       0        0  \n",
       "3             2   17000    1           3                N       0        0  \n",
       "4             3  120000    1           3                N       0        0  "
      ]
     },
     "execution_count": 156,
     "metadata": {},
     "output_type": "execute_result"
    }
   ],
   "source": [
    "data.head()"
   ]
  },
  {
   "cell_type": "code",
   "execution_count": 157,
   "metadata": {},
   "outputs": [
    {
     "data": {
      "text/html": [
       "<div>\n",
       "<style scoped>\n",
       "    .dataframe tbody tr th:only-of-type {\n",
       "        vertical-align: middle;\n",
       "    }\n",
       "\n",
       "    .dataframe tbody tr th {\n",
       "        vertical-align: top;\n",
       "    }\n",
       "\n",
       "    .dataframe thead th {\n",
       "        text-align: right;\n",
       "    }\n",
       "</style>\n",
       "<table border=\"1\" class=\"dataframe\">\n",
       "  <thead>\n",
       "    <tr style=\"text-align: right;\">\n",
       "      <th></th>\n",
       "      <th>count</th>\n",
       "      <th>unique</th>\n",
       "      <th>top</th>\n",
       "      <th>freq</th>\n",
       "      <th>mean</th>\n",
       "      <th>std</th>\n",
       "      <th>min</th>\n",
       "      <th>50%</th>\n",
       "      <th>max</th>\n",
       "      <th>type</th>\n",
       "      <th>NaN</th>\n",
       "    </tr>\n",
       "  </thead>\n",
       "  <tbody>\n",
       "    <tr>\n",
       "      <th>client_id</th>\n",
       "      <td>110148</td>\n",
       "      <td>110148</td>\n",
       "      <td>1</td>\n",
       "      <td>1</td>\n",
       "      <td>55074.5</td>\n",
       "      <td>31797.1</td>\n",
       "      <td>1</td>\n",
       "      <td>55074.5</td>\n",
       "      <td>110148</td>\n",
       "      <td>&lt;class 'numpy.int64'&gt;</td>\n",
       "      <td>0</td>\n",
       "    </tr>\n",
       "    <tr>\n",
       "      <th>app_date</th>\n",
       "      <td>110148</td>\n",
       "      <td>120</td>\n",
       "      <td>18MAR2014</td>\n",
       "      <td>1491</td>\n",
       "      <td>NaN</td>\n",
       "      <td>NaN</td>\n",
       "      <td>NaN</td>\n",
       "      <td>NaN</td>\n",
       "      <td>NaN</td>\n",
       "      <td>&lt;class 'str'&gt;</td>\n",
       "      <td>0</td>\n",
       "    </tr>\n",
       "    <tr>\n",
       "      <th>education</th>\n",
       "      <td>109670</td>\n",
       "      <td>5</td>\n",
       "      <td>SCH</td>\n",
       "      <td>57998</td>\n",
       "      <td>NaN</td>\n",
       "      <td>NaN</td>\n",
       "      <td>NaN</td>\n",
       "      <td>NaN</td>\n",
       "      <td>NaN</td>\n",
       "      <td>&lt;class 'str'&gt;</td>\n",
       "      <td>478</td>\n",
       "    </tr>\n",
       "    <tr>\n",
       "      <th>sex</th>\n",
       "      <td>110148</td>\n",
       "      <td>2</td>\n",
       "      <td>F</td>\n",
       "      <td>61836</td>\n",
       "      <td>NaN</td>\n",
       "      <td>NaN</td>\n",
       "      <td>NaN</td>\n",
       "      <td>NaN</td>\n",
       "      <td>NaN</td>\n",
       "      <td>&lt;class 'str'&gt;</td>\n",
       "      <td>0</td>\n",
       "    </tr>\n",
       "    <tr>\n",
       "      <th>age</th>\n",
       "      <td>110148</td>\n",
       "      <td>52</td>\n",
       "      <td>31</td>\n",
       "      <td>4084</td>\n",
       "      <td>39.2494</td>\n",
       "      <td>11.5181</td>\n",
       "      <td>21</td>\n",
       "      <td>37</td>\n",
       "      <td>72</td>\n",
       "      <td>&lt;class 'numpy.int64'&gt;</td>\n",
       "      <td>0</td>\n",
       "    </tr>\n",
       "    <tr>\n",
       "      <th>car</th>\n",
       "      <td>110148</td>\n",
       "      <td>2</td>\n",
       "      <td>N</td>\n",
       "      <td>74290</td>\n",
       "      <td>NaN</td>\n",
       "      <td>NaN</td>\n",
       "      <td>NaN</td>\n",
       "      <td>NaN</td>\n",
       "      <td>NaN</td>\n",
       "      <td>&lt;class 'str'&gt;</td>\n",
       "      <td>0</td>\n",
       "    </tr>\n",
       "    <tr>\n",
       "      <th>car_type</th>\n",
       "      <td>110148</td>\n",
       "      <td>2</td>\n",
       "      <td>N</td>\n",
       "      <td>89140</td>\n",
       "      <td>NaN</td>\n",
       "      <td>NaN</td>\n",
       "      <td>NaN</td>\n",
       "      <td>NaN</td>\n",
       "      <td>NaN</td>\n",
       "      <td>&lt;class 'str'&gt;</td>\n",
       "      <td>0</td>\n",
       "    </tr>\n",
       "    <tr>\n",
       "      <th>decline_app_cnt</th>\n",
       "      <td>110148</td>\n",
       "      <td>24</td>\n",
       "      <td>0</td>\n",
       "      <td>91471</td>\n",
       "      <td>0.273205</td>\n",
       "      <td>0.799099</td>\n",
       "      <td>0</td>\n",
       "      <td>0</td>\n",
       "      <td>33</td>\n",
       "      <td>&lt;class 'numpy.int64'&gt;</td>\n",
       "      <td>0</td>\n",
       "    </tr>\n",
       "    <tr>\n",
       "      <th>good_work</th>\n",
       "      <td>110148</td>\n",
       "      <td>2</td>\n",
       "      <td>0</td>\n",
       "      <td>91917</td>\n",
       "      <td>0.165514</td>\n",
       "      <td>0.371645</td>\n",
       "      <td>0</td>\n",
       "      <td>0</td>\n",
       "      <td>1</td>\n",
       "      <td>&lt;class 'numpy.int64'&gt;</td>\n",
       "      <td>0</td>\n",
       "    </tr>\n",
       "    <tr>\n",
       "      <th>score_bki</th>\n",
       "      <td>110148</td>\n",
       "      <td>102618</td>\n",
       "      <td>-1.77526</td>\n",
       "      <td>517</td>\n",
       "      <td>-1.90454</td>\n",
       "      <td>0.499397</td>\n",
       "      <td>-3.62459</td>\n",
       "      <td>-1.92082</td>\n",
       "      <td>0.199773</td>\n",
       "      <td>&lt;class 'numpy.float64'&gt;</td>\n",
       "      <td>0</td>\n",
       "    </tr>\n",
       "    <tr>\n",
       "      <th>bki_request_cnt</th>\n",
       "      <td>110148</td>\n",
       "      <td>40</td>\n",
       "      <td>0</td>\n",
       "      <td>28908</td>\n",
       "      <td>2.005</td>\n",
       "      <td>2.26693</td>\n",
       "      <td>0</td>\n",
       "      <td>1</td>\n",
       "      <td>53</td>\n",
       "      <td>&lt;class 'numpy.int64'&gt;</td>\n",
       "      <td>0</td>\n",
       "    </tr>\n",
       "    <tr>\n",
       "      <th>region_rating</th>\n",
       "      <td>110148</td>\n",
       "      <td>7</td>\n",
       "      <td>50</td>\n",
       "      <td>40981</td>\n",
       "      <td>56.7512</td>\n",
       "      <td>13.0659</td>\n",
       "      <td>20</td>\n",
       "      <td>50</td>\n",
       "      <td>80</td>\n",
       "      <td>&lt;class 'numpy.int64'&gt;</td>\n",
       "      <td>0</td>\n",
       "    </tr>\n",
       "    <tr>\n",
       "      <th>home_address</th>\n",
       "      <td>110148</td>\n",
       "      <td>3</td>\n",
       "      <td>2</td>\n",
       "      <td>59591</td>\n",
       "      <td>1.57494</td>\n",
       "      <td>0.527562</td>\n",
       "      <td>1</td>\n",
       "      <td>2</td>\n",
       "      <td>3</td>\n",
       "      <td>&lt;class 'numpy.int64'&gt;</td>\n",
       "      <td>0</td>\n",
       "    </tr>\n",
       "    <tr>\n",
       "      <th>work_address</th>\n",
       "      <td>110148</td>\n",
       "      <td>3</td>\n",
       "      <td>3</td>\n",
       "      <td>67113</td>\n",
       "      <td>2.49787</td>\n",
       "      <td>0.687651</td>\n",
       "      <td>1</td>\n",
       "      <td>3</td>\n",
       "      <td>3</td>\n",
       "      <td>&lt;class 'numpy.int64'&gt;</td>\n",
       "      <td>0</td>\n",
       "    </tr>\n",
       "    <tr>\n",
       "      <th>income</th>\n",
       "      <td>110148</td>\n",
       "      <td>1207</td>\n",
       "      <td>30000</td>\n",
       "      <td>10437</td>\n",
       "      <td>41012.6</td>\n",
       "      <td>45399.7</td>\n",
       "      <td>1000</td>\n",
       "      <td>30000</td>\n",
       "      <td>1e+06</td>\n",
       "      <td>&lt;class 'numpy.int64'&gt;</td>\n",
       "      <td>0</td>\n",
       "    </tr>\n",
       "    <tr>\n",
       "      <th>sna</th>\n",
       "      <td>110148</td>\n",
       "      <td>4</td>\n",
       "      <td>1</td>\n",
       "      <td>70681</td>\n",
       "      <td>1.73159</td>\n",
       "      <td>1.12265</td>\n",
       "      <td>1</td>\n",
       "      <td>1</td>\n",
       "      <td>4</td>\n",
       "      <td>&lt;class 'numpy.int64'&gt;</td>\n",
       "      <td>0</td>\n",
       "    </tr>\n",
       "    <tr>\n",
       "      <th>first_time</th>\n",
       "      <td>110148</td>\n",
       "      <td>4</td>\n",
       "      <td>3</td>\n",
       "      <td>46588</td>\n",
       "      <td>2.76557</td>\n",
       "      <td>1.01015</td>\n",
       "      <td>1</td>\n",
       "      <td>3</td>\n",
       "      <td>4</td>\n",
       "      <td>&lt;class 'numpy.int64'&gt;</td>\n",
       "      <td>0</td>\n",
       "    </tr>\n",
       "    <tr>\n",
       "      <th>foreign_passport</th>\n",
       "      <td>110148</td>\n",
       "      <td>2</td>\n",
       "      <td>N</td>\n",
       "      <td>93721</td>\n",
       "      <td>NaN</td>\n",
       "      <td>NaN</td>\n",
       "      <td>NaN</td>\n",
       "      <td>NaN</td>\n",
       "      <td>NaN</td>\n",
       "      <td>&lt;class 'str'&gt;</td>\n",
       "      <td>0</td>\n",
       "    </tr>\n",
       "    <tr>\n",
       "      <th>sample</th>\n",
       "      <td>110148</td>\n",
       "      <td>2</td>\n",
       "      <td>1</td>\n",
       "      <td>73799</td>\n",
       "      <td>0.669999</td>\n",
       "      <td>0.470215</td>\n",
       "      <td>0</td>\n",
       "      <td>1</td>\n",
       "      <td>1</td>\n",
       "      <td>&lt;class 'numpy.int64'&gt;</td>\n",
       "      <td>0</td>\n",
       "    </tr>\n",
       "    <tr>\n",
       "      <th>default</th>\n",
       "      <td>110148</td>\n",
       "      <td>2</td>\n",
       "      <td>0</td>\n",
       "      <td>100776</td>\n",
       "      <td>0.0850855</td>\n",
       "      <td>0.27901</td>\n",
       "      <td>0</td>\n",
       "      <td>0</td>\n",
       "      <td>1</td>\n",
       "      <td>&lt;class 'numpy.int64'&gt;</td>\n",
       "      <td>0</td>\n",
       "    </tr>\n",
       "  </tbody>\n",
       "</table>\n",
       "</div>"
      ],
      "text/plain": [
       "                   count  unique        top    freq       mean       std  \\\n",
       "client_id         110148  110148          1       1    55074.5   31797.1   \n",
       "app_date          110148     120  18MAR2014    1491        NaN       NaN   \n",
       "education         109670       5        SCH   57998        NaN       NaN   \n",
       "sex               110148       2          F   61836        NaN       NaN   \n",
       "age               110148      52         31    4084    39.2494   11.5181   \n",
       "car               110148       2          N   74290        NaN       NaN   \n",
       "car_type          110148       2          N   89140        NaN       NaN   \n",
       "decline_app_cnt   110148      24          0   91471   0.273205  0.799099   \n",
       "good_work         110148       2          0   91917   0.165514  0.371645   \n",
       "score_bki         110148  102618   -1.77526     517   -1.90454  0.499397   \n",
       "bki_request_cnt   110148      40          0   28908      2.005   2.26693   \n",
       "region_rating     110148       7         50   40981    56.7512   13.0659   \n",
       "home_address      110148       3          2   59591    1.57494  0.527562   \n",
       "work_address      110148       3          3   67113    2.49787  0.687651   \n",
       "income            110148    1207      30000   10437    41012.6   45399.7   \n",
       "sna               110148       4          1   70681    1.73159   1.12265   \n",
       "first_time        110148       4          3   46588    2.76557   1.01015   \n",
       "foreign_passport  110148       2          N   93721        NaN       NaN   \n",
       "sample            110148       2          1   73799   0.669999  0.470215   \n",
       "default           110148       2          0  100776  0.0850855   0.27901   \n",
       "\n",
       "                      min      50%       max                     type  NaN  \n",
       "client_id               1  55074.5    110148    <class 'numpy.int64'>    0  \n",
       "app_date              NaN      NaN       NaN            <class 'str'>    0  \n",
       "education             NaN      NaN       NaN            <class 'str'>  478  \n",
       "sex                   NaN      NaN       NaN            <class 'str'>    0  \n",
       "age                    21       37        72    <class 'numpy.int64'>    0  \n",
       "car                   NaN      NaN       NaN            <class 'str'>    0  \n",
       "car_type              NaN      NaN       NaN            <class 'str'>    0  \n",
       "decline_app_cnt         0        0        33    <class 'numpy.int64'>    0  \n",
       "good_work               0        0         1    <class 'numpy.int64'>    0  \n",
       "score_bki        -3.62459 -1.92082  0.199773  <class 'numpy.float64'>    0  \n",
       "bki_request_cnt         0        1        53    <class 'numpy.int64'>    0  \n",
       "region_rating          20       50        80    <class 'numpy.int64'>    0  \n",
       "home_address            1        2         3    <class 'numpy.int64'>    0  \n",
       "work_address            1        3         3    <class 'numpy.int64'>    0  \n",
       "income               1000    30000     1e+06    <class 'numpy.int64'>    0  \n",
       "sna                     1        1         4    <class 'numpy.int64'>    0  \n",
       "first_time              1        3         4    <class 'numpy.int64'>    0  \n",
       "foreign_passport      NaN      NaN       NaN            <class 'str'>    0  \n",
       "sample                  0        1         1    <class 'numpy.int64'>    0  \n",
       "default                 0        0         1    <class 'numpy.int64'>    0  "
      ]
     },
     "metadata": {},
     "output_type": "display_data"
    }
   ],
   "source": [
    "display(df_describe(data))"
   ]
  },
  {
   "cell_type": "markdown",
   "metadata": {},
   "source": [
    "Как видиим 14 признаков представлены числовым типом данных, 6 строковыми величинами. Из этих 6 \"строковых\" признаков 4 признака бинарных, один категориальный(5 уникальных значений, одно из них NaN) и один,`app_date`- временной ряд.  \n",
    "\n",
    "Пропуски встречаются только в одном признаке `education`. Их количество не велико и составляет менее 0,5% от количества наблюдений.  \n",
    "\n",
    "Сравнивая количество уникальных значений *unique* и частоту  наиболее часто встречающейся категории *freq* можно заметь несбалансированность признаков по категориям. В `foreign_passport` `good_work` `decline_app_cnt` и `default` доля дисбаланса составляет около 6/7, что особенно в целевой переменной `default` может создать проблемы при обучении модели. Нам придется предпринимать меры для устранения несбалансированности.\n",
    "\n",
    "Посмотрим на данные:"
   ]
  },
  {
   "cell_type": "code",
   "execution_count": 158,
   "metadata": {},
   "outputs": [
    {
     "data": {
      "text/html": [
       "<div>\n",
       "<style scoped>\n",
       "    .dataframe tbody tr th:only-of-type {\n",
       "        vertical-align: middle;\n",
       "    }\n",
       "\n",
       "    .dataframe tbody tr th {\n",
       "        vertical-align: top;\n",
       "    }\n",
       "\n",
       "    .dataframe thead th {\n",
       "        text-align: right;\n",
       "    }\n",
       "</style>\n",
       "<table border=\"1\" class=\"dataframe\">\n",
       "  <thead>\n",
       "    <tr style=\"text-align: right;\">\n",
       "      <th></th>\n",
       "      <th>client_id</th>\n",
       "      <th>app_date</th>\n",
       "      <th>education</th>\n",
       "      <th>sex</th>\n",
       "      <th>age</th>\n",
       "      <th>car</th>\n",
       "      <th>car_type</th>\n",
       "      <th>decline_app_cnt</th>\n",
       "      <th>good_work</th>\n",
       "      <th>score_bki</th>\n",
       "      <th>bki_request_cnt</th>\n",
       "      <th>region_rating</th>\n",
       "      <th>home_address</th>\n",
       "      <th>work_address</th>\n",
       "      <th>income</th>\n",
       "      <th>sna</th>\n",
       "      <th>first_time</th>\n",
       "      <th>foreign_passport</th>\n",
       "      <th>sample</th>\n",
       "      <th>default</th>\n",
       "    </tr>\n",
       "  </thead>\n",
       "  <tbody>\n",
       "    <tr>\n",
       "      <th>20591</th>\n",
       "      <td>77311</td>\n",
       "      <td>25MAR2014</td>\n",
       "      <td>GRD</td>\n",
       "      <td>F</td>\n",
       "      <td>31</td>\n",
       "      <td>N</td>\n",
       "      <td>N</td>\n",
       "      <td>0</td>\n",
       "      <td>1</td>\n",
       "      <td>-1.422126</td>\n",
       "      <td>2</td>\n",
       "      <td>40</td>\n",
       "      <td>2</td>\n",
       "      <td>1</td>\n",
       "      <td>16000</td>\n",
       "      <td>2</td>\n",
       "      <td>3</td>\n",
       "      <td>N</td>\n",
       "      <td>0</td>\n",
       "      <td>0</td>\n",
       "    </tr>\n",
       "    <tr>\n",
       "      <th>78422</th>\n",
       "      <td>29549</td>\n",
       "      <td>05FEB2014</td>\n",
       "      <td>SCH</td>\n",
       "      <td>F</td>\n",
       "      <td>60</td>\n",
       "      <td>N</td>\n",
       "      <td>N</td>\n",
       "      <td>0</td>\n",
       "      <td>0</td>\n",
       "      <td>-1.746066</td>\n",
       "      <td>1</td>\n",
       "      <td>80</td>\n",
       "      <td>2</td>\n",
       "      <td>3</td>\n",
       "      <td>32000</td>\n",
       "      <td>1</td>\n",
       "      <td>4</td>\n",
       "      <td>N</td>\n",
       "      <td>1</td>\n",
       "      <td>0</td>\n",
       "    </tr>\n",
       "    <tr>\n",
       "      <th>73839</th>\n",
       "      <td>75926</td>\n",
       "      <td>24MAR2014</td>\n",
       "      <td>GRD</td>\n",
       "      <td>F</td>\n",
       "      <td>48</td>\n",
       "      <td>N</td>\n",
       "      <td>N</td>\n",
       "      <td>3</td>\n",
       "      <td>0</td>\n",
       "      <td>-1.630587</td>\n",
       "      <td>2</td>\n",
       "      <td>50</td>\n",
       "      <td>1</td>\n",
       "      <td>2</td>\n",
       "      <td>45000</td>\n",
       "      <td>1</td>\n",
       "      <td>3</td>\n",
       "      <td>N</td>\n",
       "      <td>1</td>\n",
       "      <td>0</td>\n",
       "    </tr>\n",
       "    <tr>\n",
       "      <th>55125</th>\n",
       "      <td>85172</td>\n",
       "      <td>02APR2014</td>\n",
       "      <td>GRD</td>\n",
       "      <td>M</td>\n",
       "      <td>39</td>\n",
       "      <td>Y</td>\n",
       "      <td>Y</td>\n",
       "      <td>0</td>\n",
       "      <td>1</td>\n",
       "      <td>-2.024104</td>\n",
       "      <td>0</td>\n",
       "      <td>50</td>\n",
       "      <td>2</td>\n",
       "      <td>3</td>\n",
       "      <td>35000</td>\n",
       "      <td>1</td>\n",
       "      <td>4</td>\n",
       "      <td>Y</td>\n",
       "      <td>1</td>\n",
       "      <td>0</td>\n",
       "    </tr>\n",
       "    <tr>\n",
       "      <th>14442</th>\n",
       "      <td>65100</td>\n",
       "      <td>14MAR2014</td>\n",
       "      <td>UGR</td>\n",
       "      <td>F</td>\n",
       "      <td>32</td>\n",
       "      <td>N</td>\n",
       "      <td>N</td>\n",
       "      <td>0</td>\n",
       "      <td>0</td>\n",
       "      <td>-1.277256</td>\n",
       "      <td>1</td>\n",
       "      <td>60</td>\n",
       "      <td>1</td>\n",
       "      <td>3</td>\n",
       "      <td>12000</td>\n",
       "      <td>1</td>\n",
       "      <td>2</td>\n",
       "      <td>N</td>\n",
       "      <td>0</td>\n",
       "      <td>0</td>\n",
       "    </tr>\n",
       "  </tbody>\n",
       "</table>\n",
       "</div>"
      ],
      "text/plain": [
       "       client_id   app_date education sex  age car car_type  decline_app_cnt  \\\n",
       "20591      77311  25MAR2014       GRD   F   31   N        N                0   \n",
       "78422      29549  05FEB2014       SCH   F   60   N        N                0   \n",
       "73839      75926  24MAR2014       GRD   F   48   N        N                3   \n",
       "55125      85172  02APR2014       GRD   M   39   Y        Y                0   \n",
       "14442      65100  14MAR2014       UGR   F   32   N        N                0   \n",
       "\n",
       "       good_work  score_bki  bki_request_cnt  region_rating  home_address  \\\n",
       "20591          1  -1.422126                2             40             2   \n",
       "78422          0  -1.746066                1             80             2   \n",
       "73839          0  -1.630587                2             50             1   \n",
       "55125          1  -2.024104                0             50             2   \n",
       "14442          0  -1.277256                1             60             1   \n",
       "\n",
       "       work_address  income  sna  first_time foreign_passport  sample  default  \n",
       "20591             1   16000    2           3                N       0        0  \n",
       "78422             3   32000    1           4                N       1        0  \n",
       "73839             2   45000    1           3                N       1        0  \n",
       "55125             3   35000    1           4                Y       1        0  \n",
       "14442             3   12000    1           2                N       0        0  "
      ]
     },
     "execution_count": 158,
     "metadata": {},
     "output_type": "execute_result"
    }
   ],
   "source": [
    "data.sample(5)"
   ]
  },
  {
   "cell_type": "markdown",
   "metadata": {},
   "source": [
    "Предлагаю на этом этапе разделить признаки на количественные `num_cols` , категориальные `cat_cols` и бинарные `bin_cols`.\n",
    "Временной ряд рассмотрим отдельно."
   ]
  },
  {
   "cell_type": "code",
   "execution_count": 159,
   "metadata": {},
   "outputs": [],
   "source": [
    "# временной ряд \n",
    "#time_cols = ['app_date']\n",
    "# бинарные переменные (default не включаем в список) (5+1 = 6)\n",
    "#bin_cols = ['sex', 'car', 'car_type', 'good_work', 'foreign_passport']\n",
    "# категориальные переменные (Train не включаем в список, так как мы сами его добавили) (3+1=4)\n",
    "#cat_cols = ['education', 'work_address', 'home_address']\n",
    "# числовые переменные, client_id исключили из списка (8)\n",
    "#num_cols = ['client_id','age', 'decline_app_cnt', 'bki_request_cnt', 'income', 'score_bki', 'sna', 'first_time', 'region_rating']"
   ]
  },
  {
   "cell_type": "code",
   "execution_count": 160,
   "metadata": {},
   "outputs": [],
   "source": [
    "num_uniq = train.nunique()\n",
    "time_col = pd.Index(['app_date'])\n",
    "bin_cols = train.columns[num_uniq==2]\n",
    "cat_cols = train.columns[(num_uniq>2) & (num_uniq<10)] \n",
    "num_cols = train.columns[num_uniq>=10].drop(time_col)"
   ]
  },
  {
   "cell_type": "markdown",
   "metadata": {},
   "source": [
    "### Работа с данными\n",
    "Сперва рассмотрим существующие признаки, разделив их по типам. Выберем способы предобработки, извлечем, если возможно, из существующих признаков информацию для создания новых. Затем предобработаем существующие признаки согласно выбранным способам. После этого создадим новые, при необходимости предобработаем и их тоже.\n",
    "\n",
    "\n",
    "### Временной признак\n",
    "\n",
    "Временной признак у нас в строковом виде. Приведем его к типу `Datetime`. Затем сразу на этой стадии извлечем из него  признаки `app_day_num`, `app_weekday`, `day`, `app_day_weekend`  и `app_month_beginning` - возможно, они понадобятся нам при работе в дальнейшем. После чего удалим исходный `app_date`."
   ]
  },
  {
   "cell_type": "code",
   "execution_count": 161,
   "metadata": {},
   "outputs": [],
   "source": [
    "from datetime import datetime\n",
    "\n",
    "data.app_date = pd.to_datetime(data.app_date,format='%d%b%Y')\n",
    "\n",
    "data['app_day_num'] = (data.app_date - data.app_date.min()).dt.days  # день подачи заявки от начала ведения БД\n",
    "data['app_weekday'] = data.app_date.dt.weekday                       # день недели подачи заявки\n",
    "data['day'] = data.app_date.dt.day                                   # число подачи заявки\n",
    "data['app_day_weekend'] = data.app_date.dt.weekday.ge(5).astype(int) # день подачи заявки - выходной\n",
    "data['app_month_beginning'] = data.app_date.dt.day.le(7).astype(int) # подача заявки в первые 7 дней месяца\n",
    "\n",
    "# data.drop(columns='app_date',inplace=True)"
   ]
  },
  {
   "cell_type": "markdown",
   "metadata": {},
   "source": [
    "Посмотрим на распределения полученных признаков"
   ]
  },
  {
   "cell_type": "code",
   "execution_count": 162,
   "metadata": {},
   "outputs": [
    {
     "data": {
      "image/png": "[encoded data removed]",
      "text/plain": [
       "<Figure size 1008x288 with 4 Axes>"
      ]
     },
     "metadata": {
      "needs_background": "light"
     },
     "output_type": "display_data"
    }
   ],
   "source": [
    "num_visualisation('app_day_num',data)"
   ]
  },
  {
   "cell_type": "markdown",
   "metadata": {},
   "source": [
    "На графике распределений `app_day_num` в обучающей части выборки заметен сдвиг влево. Со временем доля дефолтов падает. Обьяснения тому могут быть разные: банк настроил систему скоринга или , например, более поздние клиенты еще не успели показать свои возможности.  \n",
    "\n",
    "На графике распределений `app_day_num` на обучающей и тестовой части выборки заметна маленькая разница - медиана и 3 квартиль на тестовой части немного меньше. Разница небольшая, но есть. Если такая картина повторится во других признаках, то будет смысл провести нормирование выборки."
   ]
  },
  {
   "cell_type": "code",
   "execution_count": 163,
   "metadata": {},
   "outputs": [
    {
     "data": {
      "image/png": "[encoded data removed]",
      "text/plain": [
       "<Figure size 1008x288 with 4 Axes>"
      ]
     },
     "metadata": {
      "needs_background": "light"
     },
     "output_type": "display_data"
    }
   ],
   "source": [
    "num_visualisation('app_weekday',data)"
   ]
  },
  {
   "cell_type": "code",
   "execution_count": 164,
   "metadata": {},
   "outputs": [
    {
     "data": {
      "text/html": [
       "<div>\n",
       "<style scoped>\n",
       "    .dataframe tbody tr th:only-of-type {\n",
       "        vertical-align: middle;\n",
       "    }\n",
       "\n",
       "    .dataframe tbody tr th {\n",
       "        vertical-align: top;\n",
       "    }\n",
       "\n",
       "    .dataframe thead th {\n",
       "        text-align: right;\n",
       "    }\n",
       "</style>\n",
       "<table border=\"1\" class=\"dataframe\">\n",
       "  <thead>\n",
       "    <tr style=\"text-align: right;\">\n",
       "      <th></th>\n",
       "      <th>0</th>\n",
       "      <th>1</th>\n",
       "      <th>2</th>\n",
       "      <th>3</th>\n",
       "      <th>4</th>\n",
       "      <th>5</th>\n",
       "      <th>6</th>\n",
       "    </tr>\n",
       "  </thead>\n",
       "  <tbody>\n",
       "    <tr>\n",
       "      <th>neg</th>\n",
       "      <td>0.914436</td>\n",
       "      <td>0.914686</td>\n",
       "      <td>0.917013</td>\n",
       "      <td>0.912003</td>\n",
       "      <td>0.919338</td>\n",
       "      <td>0.911654</td>\n",
       "      <td>0.914148</td>\n",
       "    </tr>\n",
       "    <tr>\n",
       "      <th>pos</th>\n",
       "      <td>0.085564</td>\n",
       "      <td>0.085314</td>\n",
       "      <td>0.082987</td>\n",
       "      <td>0.087997</td>\n",
       "      <td>0.080662</td>\n",
       "      <td>0.088346</td>\n",
       "      <td>0.085852</td>\n",
       "    </tr>\n",
       "  </tbody>\n",
       "</table>\n",
       "</div>"
      ],
      "text/plain": [
       "            0         1         2         3         4         5         6\n",
       "neg  0.914436  0.914686  0.917013  0.912003  0.919338  0.911654  0.914148\n",
       "pos  0.085564  0.085314  0.082987  0.087997  0.080662  0.088346  0.085852"
      ]
     },
     "metadata": {},
     "output_type": "display_data"
    },
    {
     "data": {
      "image/png": "[encoded data removed]",
      "text/plain": [
       "<Figure size 1008x360 with 2 Axes>"
      ]
     },
     "metadata": {
      "needs_background": "light"
     },
     "output_type": "display_data"
    }
   ],
   "source": [
    "cat_visualisation(data[data['sample']==1].app_weekday)"
   ]
  },
  {
   "cell_type": "markdown",
   "metadata": {},
   "source": [
    "У дефолтных клиетов четверг и выходные дни чуть более популярны для подачи заявки, чем у платежеспособных."
   ]
  },
  {
   "cell_type": "code",
   "execution_count": 165,
   "metadata": {},
   "outputs": [
    {
     "data": {
      "image/png": "[encoded data removed]",
      "text/plain": [
       "<Figure size 1008x288 with 4 Axes>"
      ]
     },
     "metadata": {
      "needs_background": "light"
     },
     "output_type": "display_data"
    }
   ],
   "source": [
    "num_visualisation('day',data)"
   ]
  },
  {
   "cell_type": "markdown",
   "metadata": {},
   "source": [
    "В этом признаке распределние дефолта немного сдвинуто влево. Вероятно, клиенты со склонностью к дефолту подают заявку на кредит в начале месяца, а клиенты платежеспособныые несколько позже. Разницы в распределении признака в обучающей и тестовой части нет (не заметна)."
   ]
  },
  {
   "cell_type": "code",
   "execution_count": 166,
   "metadata": {},
   "outputs": [
    {
     "data": {
      "image/png": "[encoded data removed]",
      "text/plain": [
       "<Figure size 1008x288 with 4 Axes>"
      ]
     },
     "metadata": {
      "needs_background": "light"
     },
     "output_type": "display_data"
    }
   ],
   "source": [
    "num_visualisation('app_day_weekend',data)"
   ]
  },
  {
   "cell_type": "code",
   "execution_count": 167,
   "metadata": {},
   "outputs": [
    {
     "data": {
      "text/html": [
       "<div>\n",
       "<style scoped>\n",
       "    .dataframe tbody tr th:only-of-type {\n",
       "        vertical-align: middle;\n",
       "    }\n",
       "\n",
       "    .dataframe tbody tr th {\n",
       "        vertical-align: top;\n",
       "    }\n",
       "\n",
       "    .dataframe thead th {\n",
       "        text-align: right;\n",
       "    }\n",
       "</style>\n",
       "<table border=\"1\" class=\"dataframe\">\n",
       "  <thead>\n",
       "    <tr style=\"text-align: right;\">\n",
       "      <th></th>\n",
       "      <th>0</th>\n",
       "      <th>1</th>\n",
       "    </tr>\n",
       "  </thead>\n",
       "  <tbody>\n",
       "    <tr>\n",
       "      <th>neg</th>\n",
       "      <td>0.915456</td>\n",
       "      <td>0.912787</td>\n",
       "    </tr>\n",
       "    <tr>\n",
       "      <th>pos</th>\n",
       "      <td>0.084544</td>\n",
       "      <td>0.087213</td>\n",
       "    </tr>\n",
       "  </tbody>\n",
       "</table>\n",
       "</div>"
      ],
      "text/plain": [
       "            0         1\n",
       "neg  0.915456  0.912787\n",
       "pos  0.084544  0.087213"
      ]
     },
     "metadata": {},
     "output_type": "display_data"
    },
    {
     "data": {
      "image/png": "[encoded data removed]",
      "text/plain": [
       "<Figure size 1008x360 with 2 Axes>"
      ]
     },
     "metadata": {
      "needs_background": "light"
     },
     "output_type": "display_data"
    }
   ],
   "source": [
    "cat_visualisation(data[data['sample']==1].app_day_weekend)"
   ]
  },
  {
   "cell_type": "markdown",
   "metadata": {},
   "source": [
    "Заметить можно лишь небольшое повышение популярности выходных дней для подачи заявки среди дефолтных клиентов. Возможно, они наемные рабочие, и не имеют возможности обращаться в банк в рабочее вермя будних дней."
   ]
  },
  {
   "cell_type": "code",
   "execution_count": 168,
   "metadata": {},
   "outputs": [
    {
     "data": {
      "image/png": "[encoded data removed]",
      "text/plain": [
       "<Figure size 1008x288 with 4 Axes>"
      ]
     },
     "metadata": {
      "needs_background": "light"
     },
     "output_type": "display_data"
    }
   ],
   "source": [
    "num_visualisation('app_month_beginning',data)"
   ]
  },
  {
   "cell_type": "code",
   "execution_count": 169,
   "metadata": {},
   "outputs": [
    {
     "data": {
      "text/html": [
       "<div>\n",
       "<style scoped>\n",
       "    .dataframe tbody tr th:only-of-type {\n",
       "        vertical-align: middle;\n",
       "    }\n",
       "\n",
       "    .dataframe tbody tr th {\n",
       "        vertical-align: top;\n",
       "    }\n",
       "\n",
       "    .dataframe thead th {\n",
       "        text-align: right;\n",
       "    }\n",
       "</style>\n",
       "<table border=\"1\" class=\"dataframe\">\n",
       "  <thead>\n",
       "    <tr style=\"text-align: right;\">\n",
       "      <th></th>\n",
       "      <th>0</th>\n",
       "      <th>1</th>\n",
       "    </tr>\n",
       "  </thead>\n",
       "  <tbody>\n",
       "    <tr>\n",
       "      <th>neg</th>\n",
       "      <td>0.91635</td>\n",
       "      <td>0.909751</td>\n",
       "    </tr>\n",
       "    <tr>\n",
       "      <th>pos</th>\n",
       "      <td>0.08365</td>\n",
       "      <td>0.090249</td>\n",
       "    </tr>\n",
       "  </tbody>\n",
       "</table>\n",
       "</div>"
      ],
      "text/plain": [
       "           0         1\n",
       "neg  0.91635  0.909751\n",
       "pos  0.08365  0.090249"
      ]
     },
     "metadata": {},
     "output_type": "display_data"
    },
    {
     "data": {
      "image/png": "[encoded data removed]",
      "text/plain": [
       "<Figure size 1008x360 with 2 Axes>"
      ]
     },
     "metadata": {
      "needs_background": "light"
     },
     "output_type": "display_data"
    }
   ],
   "source": [
    "cat_visualisation(data[data['sample']==1].app_month_beginning)"
   ]
  },
  {
   "cell_type": "markdown",
   "metadata": {},
   "source": [
    "Распределине похоже на предыдущие варинаты. Дефолтные клиенты с небольшой разницей подают заявки в начале месяца. "
   ]
  },
  {
   "cell_type": "code",
   "execution_count": 170,
   "metadata": {},
   "outputs": [
    {
     "data": {
      "text/plain": [
       "2014    110148\n",
       "Name: app_date, dtype: int64"
      ]
     },
     "execution_count": 170,
     "metadata": {},
     "output_type": "execute_result"
    }
   ],
   "source": [
    "# Удостоверимся, что все клиенты обращались в 2014 году\n",
    "data.app_date.dt.year.value_counts()"
   ]
  },
  {
   "cell_type": "code",
   "execution_count": 171,
   "metadata": {},
   "outputs": [
    {
     "data": {
      "text/plain": [
       "3    31597\n",
       "2    27097\n",
       "4    26266\n",
       "1    25188\n",
       "Name: app_date, dtype: int64"
      ]
     },
     "execution_count": 171,
     "metadata": {},
     "output_type": "execute_result"
    }
   ],
   "source": [
    "data.app_date.dt.month.value_counts()"
   ]
  },
  {
   "cell_type": "markdown",
   "metadata": {},
   "source": [
    "Кроме того, видим, что клиенты обращались с января по апрель"
   ]
  },
  {
   "cell_type": "code",
   "execution_count": 172,
   "metadata": {},
   "outputs": [
    {
     "data": {
      "text/plain": [
       "(Timestamp('2014-01-01 00:00:00'), Timestamp('2014-04-30 00:00:00'))"
      ]
     },
     "execution_count": 172,
     "metadata": {},
     "output_type": "execute_result"
    }
   ],
   "source": [
    "# Выясняем начало и конец периода нашего датасета - это 1 января и 30 апреля 2014 года\n",
    "start = data.app_date.min()\n",
    "end = data.app_date.max()\n",
    "start,end"
   ]
  },
  {
   "cell_type": "markdown",
   "metadata": {},
   "source": [
    "### Количественные признаки\n",
    "Начнем с общего обзора, потом перейдем к каждому признаку в отдельности. "
   ]
  },
  {
   "cell_type": "code",
   "execution_count": 173,
   "metadata": {},
   "outputs": [
    {
     "name": "stdout",
     "output_type": "stream",
     "text": [
      "Всего признаков этого типа 6. К ним относятся: \u001b[1mclient_id\u001b[0m, \u001b[1mage\u001b[0m, \u001b[1mdecline_app_cnt\u001b[0m, \u001b[1mscore_bki\u001b[0m, \u001b[1mbki_request_cnt\u001b[0m, \u001b[1mincome\u001b[0m\n"
     ]
    },
    {
     "data": {
      "image/png": "[encoded data removed]",
      "text/plain": [
       "<Figure size 1008x216 with 12 Axes>"
      ]
     },
     "metadata": {
      "needs_background": "light"
     },
     "output_type": "display_data"
    }
   ],
   "source": [
    "nums_visualisation(train[num_cols], annotation=True)"
   ]
  },
  {
   "cell_type": "code",
   "execution_count": 174,
   "metadata": {},
   "outputs": [
    {
     "data": {
      "image/png": "[encoded data removed]",
      "text/plain": [
       "<Figure size 1008x216 with 8 Axes>"
      ]
     },
     "metadata": {
      "needs_background": "light"
     },
     "output_type": "display_data"
    }
   ],
   "source": [
    "nums_visualisation(np.log(train[num_cols.drop(['client_id','score_bki'])]+1))"
   ]
  }
 ],
 "metadata": {
  "kernelspec": {
   "display_name": "Python 3",
   "language": "python",
   "name": "python3"
  },
  "language_info": {
   "codemirror_mode": {
    "name": "ipython",
    "version": 3
   },
   "file_extension": ".py",
   "mimetype": "text/x-python",
   "name": "python",
   "nbconvert_exporter": "python",
   "pygments_lexer": "ipython3",
   "version": "3.8.3"
  }
 },
 "nbformat": 4,
 "nbformat_minor": 4
}
