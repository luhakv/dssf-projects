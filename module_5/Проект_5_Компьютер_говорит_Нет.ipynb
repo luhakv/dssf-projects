{
 "cells": [
  {
   "cell_type": "markdown",
   "metadata": {},
   "source": [
    "## Итоговое задание Анны Лубневской и   \n",
    "### по Проекту 5. Компьютер говорит «Нет» \n",
    "###  Юнит 5. Основные алгоритмы машинного обучения. Часть I \n",
    "\n",
    "\n",
    "### 1. Импорт библиотек"
   ]
  },
  {
   "cell_type": "code",
   "execution_count": null,
   "metadata": {},
   "outputs": [],
   "source": []
  }
 ],
 "metadata": {
  "kernelspec": {
   "display_name": "Python 3",
   "language": "python",
   "name": "python3"
  },
  "language_info": {
   "codemirror_mode": {
    "name": "ipython",
    "version": 3
   },
   "file_extension": ".py",
   "mimetype": "text/x-python",
   "name": "python",
   "nbconvert_exporter": "python",
   "pygments_lexer": "ipython3",
   "version": "3.8.3"
  }
 },
 "nbformat": 4,
 "nbformat_minor": 4
}
